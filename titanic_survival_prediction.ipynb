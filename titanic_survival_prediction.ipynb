{
 "cells": [
  {
   "cell_type": "markdown",
   "id": "690dd911",
   "metadata": {
    "_cell_guid": "b1076dfc-b9ad-4769-8c92-a6c4dae69d19",
    "_uuid": "8f2839f25d086af736a60e9eeb907d3b93b6e0e5",
    "papermill": {
     "duration": 0.026071,
     "end_time": "2024-02-11T14:26:02.302435",
     "exception": false,
     "start_time": "2024-02-11T14:26:02.276364",
     "status": "completed"
    },
    "tags": []
   },
   "source": [
    "## Titanic survival prediction\n",
    "\n",
    "In this project I try to predit survival of people on titanic. This project is hosted by Kaggle.com\n",
    "\n",
    "The detail of this project include:\n",
    "\n",
    "- Data cleaning\n",
    "- Data visualisation\n",
    "- Feature engineering\n",
    "- Data preprocessing for the model\n",
    "- Create model and compare with different types of model\n",
    "- Hyperparameter tuning\n",
    "- Final submission"
   ]
  },
  {
   "cell_type": "code",
   "execution_count": 1,
   "id": "15378380",
   "metadata": {
    "execution": {
     "iopub.execute_input": "2024-02-11T14:26:02.355197Z",
     "iopub.status.busy": "2024-02-11T14:26:02.354065Z",
     "iopub.status.idle": "2024-02-11T14:26:05.895968Z",
     "shell.execute_reply": "2024-02-11T14:26:05.894667Z"
    },
    "papermill": {
     "duration": 3.571748,
     "end_time": "2024-02-11T14:26:05.899033",
     "exception": false,
     "start_time": "2024-02-11T14:26:02.327285",
     "status": "completed"
    },
    "tags": []
   },
   "outputs": [],
   "source": [
    "# import libraries for working with data\n",
    "import numpy as np\n",
    "import pandas as pd\n",
    "\n",
    "# Visualisation\n",
    "import matplotlib.pyplot as plt\n",
    "import seaborn as sns\n",
    "import missingno as msno\n",
    "%matplotlib inline\n",
    "\n",
    "# Data preprocessing\n",
    "from sklearn.model_selection import train_test_split\n",
    "from sklearn.preprocessing import StandardScaler\n",
    "from sklearn.preprocessing import OneHotEncoder, LabelEncoder\n",
    "from sklearn.model_selection import cross_val_score\n",
    "from sklearn.model_selection import GridSearchCV\n",
    "from sklearn.decomposition import PCA\n",
    "\n",
    "# Models\n",
    "from sklearn.ensemble import RandomForestClassifier\n",
    "from sklearn.ensemble import GradientBoostingClassifier\n",
    "from sklearn.ensemble import AdaBoostClassifier\n",
    "from sklearn.ensemble import BaggingClassifier\n",
    "from sklearn.ensemble import ExtraTreesClassifier\n",
    "from sklearn.ensemble import HistGradientBoostingClassifier\n",
    "from sklearn.ensemble import VotingClassifier\n",
    "from sklearn.ensemble import StackingClassifier\n",
    "from sklearn.tree import DecisionTreeClassifier\n",
    "from sklearn.svm import SVC\n",
    "from xgboost import XGBClassifier\n",
    "\n",
    "\n",
    "# Warnings\n",
    "import warnings\n",
    "warnings.filterwarnings('ignore')"
   ]
  },
  {
   "cell_type": "code",
   "execution_count": 2,
   "id": "94802fae",
   "metadata": {
    "execution": {
     "iopub.execute_input": "2024-02-11T14:26:05.953291Z",
     "iopub.status.busy": "2024-02-11T14:26:05.952401Z",
     "iopub.status.idle": "2024-02-11T14:26:05.987098Z",
     "shell.execute_reply": "2024-02-11T14:26:05.985866Z"
    },
    "papermill": {
     "duration": 0.064207,
     "end_time": "2024-02-11T14:26:05.989931",
     "exception": false,
     "start_time": "2024-02-11T14:26:05.925724",
     "status": "completed"
    },
    "tags": []
   },
   "outputs": [],
   "source": [
    "path = \"/kaggle/input/titanic/\"\n",
    "train = pd.read_csv(path + \"train.csv\")\n",
    "test = pd.read_csv(path + \"test.csv\")"
   ]
  },
  {
   "cell_type": "code",
   "execution_count": 3,
   "id": "c1ceab7f",
   "metadata": {
    "execution": {
     "iopub.execute_input": "2024-02-11T14:26:06.042243Z",
     "iopub.status.busy": "2024-02-11T14:26:06.041855Z",
     "iopub.status.idle": "2024-02-11T14:26:06.080857Z",
     "shell.execute_reply": "2024-02-11T14:26:06.078910Z"
    },
    "papermill": {
     "duration": 0.067901,
     "end_time": "2024-02-11T14:26:06.083549",
     "exception": false,
     "start_time": "2024-02-11T14:26:06.015648",
     "status": "completed"
    },
    "tags": []
   },
   "outputs": [
    {
     "name": "stdout",
     "output_type": "stream",
     "text": [
      "<class 'pandas.core.frame.DataFrame'>\n",
      "RangeIndex: 891 entries, 0 to 890\n",
      "Data columns (total 12 columns):\n",
      " #   Column       Non-Null Count  Dtype  \n",
      "---  ------       --------------  -----  \n",
      " 0   PassengerId  891 non-null    int64  \n",
      " 1   Survived     891 non-null    int64  \n",
      " 2   Pclass       891 non-null    int64  \n",
      " 3   Name         891 non-null    object \n",
      " 4   Sex          891 non-null    object \n",
      " 5   Age          714 non-null    float64\n",
      " 6   SibSp        891 non-null    int64  \n",
      " 7   Parch        891 non-null    int64  \n",
      " 8   Ticket       891 non-null    object \n",
      " 9   Fare         891 non-null    float64\n",
      " 10  Cabin        204 non-null    object \n",
      " 11  Embarked     889 non-null    object \n",
      "dtypes: float64(2), int64(5), object(5)\n",
      "memory usage: 83.7+ KB\n"
     ]
    }
   ],
   "source": [
    "train.info()"
   ]
  },
  {
   "cell_type": "code",
   "execution_count": 4,
   "id": "62566e07",
   "metadata": {
    "execution": {
     "iopub.execute_input": "2024-02-11T14:26:06.136370Z",
     "iopub.status.busy": "2024-02-11T14:26:06.135934Z",
     "iopub.status.idle": "2024-02-11T14:26:06.148954Z",
     "shell.execute_reply": "2024-02-11T14:26:06.148171Z"
    },
    "papermill": {
     "duration": 0.042073,
     "end_time": "2024-02-11T14:26:06.151282",
     "exception": false,
     "start_time": "2024-02-11T14:26:06.109209",
     "status": "completed"
    },
    "tags": []
   },
   "outputs": [
    {
     "name": "stdout",
     "output_type": "stream",
     "text": [
      "<class 'pandas.core.frame.DataFrame'>\n",
      "RangeIndex: 418 entries, 0 to 417\n",
      "Data columns (total 11 columns):\n",
      " #   Column       Non-Null Count  Dtype  \n",
      "---  ------       --------------  -----  \n",
      " 0   PassengerId  418 non-null    int64  \n",
      " 1   Pclass       418 non-null    int64  \n",
      " 2   Name         418 non-null    object \n",
      " 3   Sex          418 non-null    object \n",
      " 4   Age          332 non-null    float64\n",
      " 5   SibSp        418 non-null    int64  \n",
      " 6   Parch        418 non-null    int64  \n",
      " 7   Ticket       418 non-null    object \n",
      " 8   Fare         417 non-null    float64\n",
      " 9   Cabin        91 non-null     object \n",
      " 10  Embarked     418 non-null    object \n",
      "dtypes: float64(2), int64(4), object(5)\n",
      "memory usage: 36.0+ KB\n"
     ]
    }
   ],
   "source": [
    "test.info()"
   ]
  },
  {
   "cell_type": "code",
   "execution_count": 5,
   "id": "0964fbbd",
   "metadata": {
    "execution": {
     "iopub.execute_input": "2024-02-11T14:26:06.206192Z",
     "iopub.status.busy": "2024-02-11T14:26:06.205762Z",
     "iopub.status.idle": "2024-02-11T14:26:06.266196Z",
     "shell.execute_reply": "2024-02-11T14:26:06.265085Z"
    },
    "papermill": {
     "duration": 0.08962,
     "end_time": "2024-02-11T14:26:06.268531",
     "exception": false,
     "start_time": "2024-02-11T14:26:06.178911",
     "status": "completed"
    },
    "tags": []
   },
   "outputs": [
    {
     "data": {
      "text/html": [
       "<div>\n",
       "<style scoped>\n",
       "    .dataframe tbody tr th:only-of-type {\n",
       "        vertical-align: middle;\n",
       "    }\n",
       "\n",
       "    .dataframe tbody tr th {\n",
       "        vertical-align: top;\n",
       "    }\n",
       "\n",
       "    .dataframe thead th {\n",
       "        text-align: right;\n",
       "    }\n",
       "</style>\n",
       "<table border=\"1\" class=\"dataframe\">\n",
       "  <thead>\n",
       "    <tr style=\"text-align: right;\">\n",
       "      <th></th>\n",
       "      <th>PassengerId</th>\n",
       "      <th>Survived</th>\n",
       "      <th>Pclass</th>\n",
       "      <th>Name</th>\n",
       "      <th>Sex</th>\n",
       "      <th>Age</th>\n",
       "      <th>SibSp</th>\n",
       "      <th>Parch</th>\n",
       "      <th>Ticket</th>\n",
       "      <th>Fare</th>\n",
       "      <th>Cabin</th>\n",
       "      <th>Embarked</th>\n",
       "    </tr>\n",
       "  </thead>\n",
       "  <tbody>\n",
       "    <tr>\n",
       "      <th>count</th>\n",
       "      <td>891.000000</td>\n",
       "      <td>891.000000</td>\n",
       "      <td>891.000000</td>\n",
       "      <td>891</td>\n",
       "      <td>891</td>\n",
       "      <td>714.000000</td>\n",
       "      <td>891.000000</td>\n",
       "      <td>891.000000</td>\n",
       "      <td>891</td>\n",
       "      <td>891.000000</td>\n",
       "      <td>204</td>\n",
       "      <td>889</td>\n",
       "    </tr>\n",
       "    <tr>\n",
       "      <th>unique</th>\n",
       "      <td>NaN</td>\n",
       "      <td>NaN</td>\n",
       "      <td>NaN</td>\n",
       "      <td>891</td>\n",
       "      <td>2</td>\n",
       "      <td>NaN</td>\n",
       "      <td>NaN</td>\n",
       "      <td>NaN</td>\n",
       "      <td>681</td>\n",
       "      <td>NaN</td>\n",
       "      <td>147</td>\n",
       "      <td>3</td>\n",
       "    </tr>\n",
       "    <tr>\n",
       "      <th>top</th>\n",
       "      <td>NaN</td>\n",
       "      <td>NaN</td>\n",
       "      <td>NaN</td>\n",
       "      <td>Braund, Mr. Owen Harris</td>\n",
       "      <td>male</td>\n",
       "      <td>NaN</td>\n",
       "      <td>NaN</td>\n",
       "      <td>NaN</td>\n",
       "      <td>347082</td>\n",
       "      <td>NaN</td>\n",
       "      <td>B96 B98</td>\n",
       "      <td>S</td>\n",
       "    </tr>\n",
       "    <tr>\n",
       "      <th>freq</th>\n",
       "      <td>NaN</td>\n",
       "      <td>NaN</td>\n",
       "      <td>NaN</td>\n",
       "      <td>1</td>\n",
       "      <td>577</td>\n",
       "      <td>NaN</td>\n",
       "      <td>NaN</td>\n",
       "      <td>NaN</td>\n",
       "      <td>7</td>\n",
       "      <td>NaN</td>\n",
       "      <td>4</td>\n",
       "      <td>644</td>\n",
       "    </tr>\n",
       "    <tr>\n",
       "      <th>mean</th>\n",
       "      <td>446.000000</td>\n",
       "      <td>0.383838</td>\n",
       "      <td>2.308642</td>\n",
       "      <td>NaN</td>\n",
       "      <td>NaN</td>\n",
       "      <td>29.699118</td>\n",
       "      <td>0.523008</td>\n",
       "      <td>0.381594</td>\n",
       "      <td>NaN</td>\n",
       "      <td>32.204208</td>\n",
       "      <td>NaN</td>\n",
       "      <td>NaN</td>\n",
       "    </tr>\n",
       "    <tr>\n",
       "      <th>std</th>\n",
       "      <td>257.353842</td>\n",
       "      <td>0.486592</td>\n",
       "      <td>0.836071</td>\n",
       "      <td>NaN</td>\n",
       "      <td>NaN</td>\n",
       "      <td>14.526497</td>\n",
       "      <td>1.102743</td>\n",
       "      <td>0.806057</td>\n",
       "      <td>NaN</td>\n",
       "      <td>49.693429</td>\n",
       "      <td>NaN</td>\n",
       "      <td>NaN</td>\n",
       "    </tr>\n",
       "    <tr>\n",
       "      <th>min</th>\n",
       "      <td>1.000000</td>\n",
       "      <td>0.000000</td>\n",
       "      <td>1.000000</td>\n",
       "      <td>NaN</td>\n",
       "      <td>NaN</td>\n",
       "      <td>0.420000</td>\n",
       "      <td>0.000000</td>\n",
       "      <td>0.000000</td>\n",
       "      <td>NaN</td>\n",
       "      <td>0.000000</td>\n",
       "      <td>NaN</td>\n",
       "      <td>NaN</td>\n",
       "    </tr>\n",
       "    <tr>\n",
       "      <th>25%</th>\n",
       "      <td>223.500000</td>\n",
       "      <td>0.000000</td>\n",
       "      <td>2.000000</td>\n",
       "      <td>NaN</td>\n",
       "      <td>NaN</td>\n",
       "      <td>20.125000</td>\n",
       "      <td>0.000000</td>\n",
       "      <td>0.000000</td>\n",
       "      <td>NaN</td>\n",
       "      <td>7.910400</td>\n",
       "      <td>NaN</td>\n",
       "      <td>NaN</td>\n",
       "    </tr>\n",
       "    <tr>\n",
       "      <th>50%</th>\n",
       "      <td>446.000000</td>\n",
       "      <td>0.000000</td>\n",
       "      <td>3.000000</td>\n",
       "      <td>NaN</td>\n",
       "      <td>NaN</td>\n",
       "      <td>28.000000</td>\n",
       "      <td>0.000000</td>\n",
       "      <td>0.000000</td>\n",
       "      <td>NaN</td>\n",
       "      <td>14.454200</td>\n",
       "      <td>NaN</td>\n",
       "      <td>NaN</td>\n",
       "    </tr>\n",
       "    <tr>\n",
       "      <th>75%</th>\n",
       "      <td>668.500000</td>\n",
       "      <td>1.000000</td>\n",
       "      <td>3.000000</td>\n",
       "      <td>NaN</td>\n",
       "      <td>NaN</td>\n",
       "      <td>38.000000</td>\n",
       "      <td>1.000000</td>\n",
       "      <td>0.000000</td>\n",
       "      <td>NaN</td>\n",
       "      <td>31.000000</td>\n",
       "      <td>NaN</td>\n",
       "      <td>NaN</td>\n",
       "    </tr>\n",
       "    <tr>\n",
       "      <th>max</th>\n",
       "      <td>891.000000</td>\n",
       "      <td>1.000000</td>\n",
       "      <td>3.000000</td>\n",
       "      <td>NaN</td>\n",
       "      <td>NaN</td>\n",
       "      <td>80.000000</td>\n",
       "      <td>8.000000</td>\n",
       "      <td>6.000000</td>\n",
       "      <td>NaN</td>\n",
       "      <td>512.329200</td>\n",
       "      <td>NaN</td>\n",
       "      <td>NaN</td>\n",
       "    </tr>\n",
       "  </tbody>\n",
       "</table>\n",
       "</div>"
      ],
      "text/plain": [
       "        PassengerId    Survived      Pclass                     Name   Sex  \\\n",
       "count    891.000000  891.000000  891.000000                      891   891   \n",
       "unique          NaN         NaN         NaN                      891     2   \n",
       "top             NaN         NaN         NaN  Braund, Mr. Owen Harris  male   \n",
       "freq            NaN         NaN         NaN                        1   577   \n",
       "mean     446.000000    0.383838    2.308642                      NaN   NaN   \n",
       "std      257.353842    0.486592    0.836071                      NaN   NaN   \n",
       "min        1.000000    0.000000    1.000000                      NaN   NaN   \n",
       "25%      223.500000    0.000000    2.000000                      NaN   NaN   \n",
       "50%      446.000000    0.000000    3.000000                      NaN   NaN   \n",
       "75%      668.500000    1.000000    3.000000                      NaN   NaN   \n",
       "max      891.000000    1.000000    3.000000                      NaN   NaN   \n",
       "\n",
       "               Age       SibSp       Parch  Ticket        Fare    Cabin  \\\n",
       "count   714.000000  891.000000  891.000000     891  891.000000      204   \n",
       "unique         NaN         NaN         NaN     681         NaN      147   \n",
       "top            NaN         NaN         NaN  347082         NaN  B96 B98   \n",
       "freq           NaN         NaN         NaN       7         NaN        4   \n",
       "mean     29.699118    0.523008    0.381594     NaN   32.204208      NaN   \n",
       "std      14.526497    1.102743    0.806057     NaN   49.693429      NaN   \n",
       "min       0.420000    0.000000    0.000000     NaN    0.000000      NaN   \n",
       "25%      20.125000    0.000000    0.000000     NaN    7.910400      NaN   \n",
       "50%      28.000000    0.000000    0.000000     NaN   14.454200      NaN   \n",
       "75%      38.000000    1.000000    0.000000     NaN   31.000000      NaN   \n",
       "max      80.000000    8.000000    6.000000     NaN  512.329200      NaN   \n",
       "\n",
       "       Embarked  \n",
       "count       889  \n",
       "unique        3  \n",
       "top           S  \n",
       "freq        644  \n",
       "mean        NaN  \n",
       "std         NaN  \n",
       "min         NaN  \n",
       "25%         NaN  \n",
       "50%         NaN  \n",
       "75%         NaN  \n",
       "max         NaN  "
      ]
     },
     "execution_count": 5,
     "metadata": {},
     "output_type": "execute_result"
    }
   ],
   "source": [
    "train.describe(include = \"all\")"
   ]
  },
  {
   "cell_type": "code",
   "execution_count": 6,
   "id": "e2af1713",
   "metadata": {
    "execution": {
     "iopub.execute_input": "2024-02-11T14:26:06.383474Z",
     "iopub.status.busy": "2024-02-11T14:26:06.383089Z",
     "iopub.status.idle": "2024-02-11T14:26:06.428364Z",
     "shell.execute_reply": "2024-02-11T14:26:06.427449Z"
    },
    "papermill": {
     "duration": 0.136714,
     "end_time": "2024-02-11T14:26:06.430901",
     "exception": false,
     "start_time": "2024-02-11T14:26:06.294187",
     "status": "completed"
    },
    "tags": []
   },
   "outputs": [
    {
     "data": {
      "text/html": [
       "<div>\n",
       "<style scoped>\n",
       "    .dataframe tbody tr th:only-of-type {\n",
       "        vertical-align: middle;\n",
       "    }\n",
       "\n",
       "    .dataframe tbody tr th {\n",
       "        vertical-align: top;\n",
       "    }\n",
       "\n",
       "    .dataframe thead th {\n",
       "        text-align: right;\n",
       "    }\n",
       "</style>\n",
       "<table border=\"1\" class=\"dataframe\">\n",
       "  <thead>\n",
       "    <tr style=\"text-align: right;\">\n",
       "      <th></th>\n",
       "      <th>PassengerId</th>\n",
       "      <th>Pclass</th>\n",
       "      <th>Name</th>\n",
       "      <th>Sex</th>\n",
       "      <th>Age</th>\n",
       "      <th>SibSp</th>\n",
       "      <th>Parch</th>\n",
       "      <th>Ticket</th>\n",
       "      <th>Fare</th>\n",
       "      <th>Cabin</th>\n",
       "      <th>Embarked</th>\n",
       "    </tr>\n",
       "  </thead>\n",
       "  <tbody>\n",
       "    <tr>\n",
       "      <th>count</th>\n",
       "      <td>418.000000</td>\n",
       "      <td>418.000000</td>\n",
       "      <td>418</td>\n",
       "      <td>418</td>\n",
       "      <td>332.000000</td>\n",
       "      <td>418.000000</td>\n",
       "      <td>418.000000</td>\n",
       "      <td>418</td>\n",
       "      <td>417.000000</td>\n",
       "      <td>91</td>\n",
       "      <td>418</td>\n",
       "    </tr>\n",
       "    <tr>\n",
       "      <th>unique</th>\n",
       "      <td>NaN</td>\n",
       "      <td>NaN</td>\n",
       "      <td>418</td>\n",
       "      <td>2</td>\n",
       "      <td>NaN</td>\n",
       "      <td>NaN</td>\n",
       "      <td>NaN</td>\n",
       "      <td>363</td>\n",
       "      <td>NaN</td>\n",
       "      <td>76</td>\n",
       "      <td>3</td>\n",
       "    </tr>\n",
       "    <tr>\n",
       "      <th>top</th>\n",
       "      <td>NaN</td>\n",
       "      <td>NaN</td>\n",
       "      <td>Kelly, Mr. James</td>\n",
       "      <td>male</td>\n",
       "      <td>NaN</td>\n",
       "      <td>NaN</td>\n",
       "      <td>NaN</td>\n",
       "      <td>PC 17608</td>\n",
       "      <td>NaN</td>\n",
       "      <td>B57 B59 B63 B66</td>\n",
       "      <td>S</td>\n",
       "    </tr>\n",
       "    <tr>\n",
       "      <th>freq</th>\n",
       "      <td>NaN</td>\n",
       "      <td>NaN</td>\n",
       "      <td>1</td>\n",
       "      <td>266</td>\n",
       "      <td>NaN</td>\n",
       "      <td>NaN</td>\n",
       "      <td>NaN</td>\n",
       "      <td>5</td>\n",
       "      <td>NaN</td>\n",
       "      <td>3</td>\n",
       "      <td>270</td>\n",
       "    </tr>\n",
       "    <tr>\n",
       "      <th>mean</th>\n",
       "      <td>1100.500000</td>\n",
       "      <td>2.265550</td>\n",
       "      <td>NaN</td>\n",
       "      <td>NaN</td>\n",
       "      <td>30.272590</td>\n",
       "      <td>0.447368</td>\n",
       "      <td>0.392344</td>\n",
       "      <td>NaN</td>\n",
       "      <td>35.627188</td>\n",
       "      <td>NaN</td>\n",
       "      <td>NaN</td>\n",
       "    </tr>\n",
       "    <tr>\n",
       "      <th>std</th>\n",
       "      <td>120.810458</td>\n",
       "      <td>0.841838</td>\n",
       "      <td>NaN</td>\n",
       "      <td>NaN</td>\n",
       "      <td>14.181209</td>\n",
       "      <td>0.896760</td>\n",
       "      <td>0.981429</td>\n",
       "      <td>NaN</td>\n",
       "      <td>55.907576</td>\n",
       "      <td>NaN</td>\n",
       "      <td>NaN</td>\n",
       "    </tr>\n",
       "    <tr>\n",
       "      <th>min</th>\n",
       "      <td>892.000000</td>\n",
       "      <td>1.000000</td>\n",
       "      <td>NaN</td>\n",
       "      <td>NaN</td>\n",
       "      <td>0.170000</td>\n",
       "      <td>0.000000</td>\n",
       "      <td>0.000000</td>\n",
       "      <td>NaN</td>\n",
       "      <td>0.000000</td>\n",
       "      <td>NaN</td>\n",
       "      <td>NaN</td>\n",
       "    </tr>\n",
       "    <tr>\n",
       "      <th>25%</th>\n",
       "      <td>996.250000</td>\n",
       "      <td>1.000000</td>\n",
       "      <td>NaN</td>\n",
       "      <td>NaN</td>\n",
       "      <td>21.000000</td>\n",
       "      <td>0.000000</td>\n",
       "      <td>0.000000</td>\n",
       "      <td>NaN</td>\n",
       "      <td>7.895800</td>\n",
       "      <td>NaN</td>\n",
       "      <td>NaN</td>\n",
       "    </tr>\n",
       "    <tr>\n",
       "      <th>50%</th>\n",
       "      <td>1100.500000</td>\n",
       "      <td>3.000000</td>\n",
       "      <td>NaN</td>\n",
       "      <td>NaN</td>\n",
       "      <td>27.000000</td>\n",
       "      <td>0.000000</td>\n",
       "      <td>0.000000</td>\n",
       "      <td>NaN</td>\n",
       "      <td>14.454200</td>\n",
       "      <td>NaN</td>\n",
       "      <td>NaN</td>\n",
       "    </tr>\n",
       "    <tr>\n",
       "      <th>75%</th>\n",
       "      <td>1204.750000</td>\n",
       "      <td>3.000000</td>\n",
       "      <td>NaN</td>\n",
       "      <td>NaN</td>\n",
       "      <td>39.000000</td>\n",
       "      <td>1.000000</td>\n",
       "      <td>0.000000</td>\n",
       "      <td>NaN</td>\n",
       "      <td>31.500000</td>\n",
       "      <td>NaN</td>\n",
       "      <td>NaN</td>\n",
       "    </tr>\n",
       "    <tr>\n",
       "      <th>max</th>\n",
       "      <td>1309.000000</td>\n",
       "      <td>3.000000</td>\n",
       "      <td>NaN</td>\n",
       "      <td>NaN</td>\n",
       "      <td>76.000000</td>\n",
       "      <td>8.000000</td>\n",
       "      <td>9.000000</td>\n",
       "      <td>NaN</td>\n",
       "      <td>512.329200</td>\n",
       "      <td>NaN</td>\n",
       "      <td>NaN</td>\n",
       "    </tr>\n",
       "  </tbody>\n",
       "</table>\n",
       "</div>"
      ],
      "text/plain": [
       "        PassengerId      Pclass              Name   Sex         Age  \\\n",
       "count    418.000000  418.000000               418   418  332.000000   \n",
       "unique          NaN         NaN               418     2         NaN   \n",
       "top             NaN         NaN  Kelly, Mr. James  male         NaN   \n",
       "freq            NaN         NaN                 1   266         NaN   \n",
       "mean    1100.500000    2.265550               NaN   NaN   30.272590   \n",
       "std      120.810458    0.841838               NaN   NaN   14.181209   \n",
       "min      892.000000    1.000000               NaN   NaN    0.170000   \n",
       "25%      996.250000    1.000000               NaN   NaN   21.000000   \n",
       "50%     1100.500000    3.000000               NaN   NaN   27.000000   \n",
       "75%     1204.750000    3.000000               NaN   NaN   39.000000   \n",
       "max     1309.000000    3.000000               NaN   NaN   76.000000   \n",
       "\n",
       "             SibSp       Parch    Ticket        Fare            Cabin Embarked  \n",
       "count   418.000000  418.000000       418  417.000000               91      418  \n",
       "unique         NaN         NaN       363         NaN               76        3  \n",
       "top            NaN         NaN  PC 17608         NaN  B57 B59 B63 B66        S  \n",
       "freq           NaN         NaN         5         NaN                3      270  \n",
       "mean      0.447368    0.392344       NaN   35.627188              NaN      NaN  \n",
       "std       0.896760    0.981429       NaN   55.907576              NaN      NaN  \n",
       "min       0.000000    0.000000       NaN    0.000000              NaN      NaN  \n",
       "25%       0.000000    0.000000       NaN    7.895800              NaN      NaN  \n",
       "50%       0.000000    0.000000       NaN   14.454200              NaN      NaN  \n",
       "75%       1.000000    0.000000       NaN   31.500000              NaN      NaN  \n",
       "max       8.000000    9.000000       NaN  512.329200              NaN      NaN  "
      ]
     },
     "execution_count": 6,
     "metadata": {},
     "output_type": "execute_result"
    }
   ],
   "source": [
    "test.describe(include = \"all\")"
   ]
  },
  {
   "cell_type": "code",
   "execution_count": 7,
   "id": "b738395b",
   "metadata": {
    "execution": {
     "iopub.execute_input": "2024-02-11T14:26:06.488494Z",
     "iopub.status.busy": "2024-02-11T14:26:06.488100Z",
     "iopub.status.idle": "2024-02-11T14:26:06.498152Z",
     "shell.execute_reply": "2024-02-11T14:26:06.497058Z"
    },
    "papermill": {
     "duration": 0.042798,
     "end_time": "2024-02-11T14:26:06.500911",
     "exception": false,
     "start_time": "2024-02-11T14:26:06.458113",
     "status": "completed"
    },
    "tags": []
   },
   "outputs": [
    {
     "name": "stdout",
     "output_type": "stream",
     "text": [
      "PassengerId      0\n",
      "Survived         0\n",
      "Pclass           0\n",
      "Name             0\n",
      "Sex              0\n",
      "Age            177\n",
      "SibSp            0\n",
      "Parch            0\n",
      "Ticket           0\n",
      "Fare             0\n",
      "Cabin          687\n",
      "Embarked         2\n",
      "dtype: int64\n",
      "--------------------\n",
      "PassengerId      0\n",
      "Pclass           0\n",
      "Name             0\n",
      "Sex              0\n",
      "Age             86\n",
      "SibSp            0\n",
      "Parch            0\n",
      "Ticket           0\n",
      "Fare             1\n",
      "Cabin          327\n",
      "Embarked         0\n",
      "dtype: int64\n",
      "--------------------\n"
     ]
    }
   ],
   "source": [
    "# check for missing values\n",
    "datasets = [train, test]\n",
    "for data in datasets:\n",
    "    print(data.isnull().sum())\n",
    "    print(\"-\"*20)"
   ]
  },
  {
   "cell_type": "code",
   "execution_count": 8,
   "id": "4544bc5a",
   "metadata": {
    "execution": {
     "iopub.execute_input": "2024-02-11T14:26:06.558169Z",
     "iopub.status.busy": "2024-02-11T14:26:06.557770Z",
     "iopub.status.idle": "2024-02-11T14:26:08.370897Z",
     "shell.execute_reply": "2024-02-11T14:26:08.369189Z"
    },
    "papermill": {
     "duration": 1.845902,
     "end_time": "2024-02-11T14:26:08.373767",
     "exception": false,
     "start_time": "2024-02-11T14:26:06.527865",
     "status": "completed"
    },
    "tags": []
   },
   "outputs": [
    {
     "data": {
      "text/plain": [
       "<Axes: >"
      ]
     },
     "execution_count": 8,
     "metadata": {},
     "output_type": "execute_result"
    },
    {
     "data": {
      "image/png": "[encoded data removed]",
      "text/plain": [
       "<Figure size 2500x1000 with 3 Axes>"
      ]
     },
     "metadata": {},
     "output_type": "display_data"
    }
   ],
   "source": [
    "msno.bar(train)"
   ]
  },
  {
   "cell_type": "code",
   "execution_count": 9,
   "id": "fdbd297b",
   "metadata": {
    "execution": {
     "iopub.execute_input": "2024-02-11T14:26:08.431692Z",
     "iopub.status.busy": "2024-02-11T14:26:08.430516Z",
     "iopub.status.idle": "2024-02-11T14:26:09.346479Z",
     "shell.execute_reply": "2024-02-11T14:26:09.345483Z"
    },
    "papermill": {
     "duration": 0.947198,
     "end_time": "2024-02-11T14:26:09.348860",
     "exception": false,
     "start_time": "2024-02-11T14:26:08.401662",
     "status": "completed"
    },
    "tags": []
   },
   "outputs": [
    {
     "data": {
      "text/plain": [
       "<Axes: >"
      ]
     },
     "execution_count": 9,
     "metadata": {},
     "output_type": "execute_result"
    },
    {
     "data": {
      "image/png": "[encoded data removed]",
      "text/plain": [
       "<Figure size 2500x1000 with 2 Axes>"
      ]
     },
     "metadata": {},
     "output_type": "display_data"
    }
   ],
   "source": [
    "msno.matrix(train)"
   ]
  },
  {
   "cell_type": "code",
   "execution_count": 10,
   "id": "df9617c6",
   "metadata": {
    "execution": {
     "iopub.execute_input": "2024-02-11T14:26:09.409734Z",
     "iopub.status.busy": "2024-02-11T14:26:09.408838Z",
     "iopub.status.idle": "2024-02-11T14:26:09.601219Z",
     "shell.execute_reply": "2024-02-11T14:26:09.599602Z"
    },
    "papermill": {
     "duration": 0.228417,
     "end_time": "2024-02-11T14:26:09.606647",
     "exception": false,
     "start_time": "2024-02-11T14:26:09.378230",
     "status": "completed"
    },
    "tags": []
   },
   "outputs": [
    {
     "data": {
      "image/png": "[encoded data removed]",
      "text/plain": [
       "<Figure size 640x480 with 1 Axes>"
      ]
     },
     "metadata": {},
     "output_type": "display_data"
    }
   ],
   "source": [
    "# Create a pie chart to see the percentage of Survived (Target variable)\n",
    "\n",
    "survival = train['Survived'].value_counts()\n",
    "\n",
    "plt.pie(survival,labels=survival.index, autopct=\"%1.1f%%\")\n",
    "\n",
    "plt.legend(title='Survived')\n",
    "plt.title('The percentage of Survival')\n",
    "plt.show()"
   ]
  },
  {
   "cell_type": "code",
   "execution_count": 11,
   "id": "2793bafb",
   "metadata": {
    "execution": {
     "iopub.execute_input": "2024-02-11T14:26:09.687563Z",
     "iopub.status.busy": "2024-02-11T14:26:09.686802Z",
     "iopub.status.idle": "2024-02-11T14:26:09.694486Z",
     "shell.execute_reply": "2024-02-11T14:26:09.693094Z"
    },
    "papermill": {
     "duration": 0.042563,
     "end_time": "2024-02-11T14:26:09.697708",
     "exception": false,
     "start_time": "2024-02-11T14:26:09.655145",
     "status": "completed"
    },
    "tags": []
   },
   "outputs": [],
   "source": [
    "# define custom functions for data transformation\n",
    "def dummies_encode(train_df, test_df, column):\n",
    "    train_df = pd.get_dummies(train_df, columns = [column], dtype = \"int\")\n",
    "    test_df = pd.get_dummies(test_df, columns = [column], dtype = \"int\")\n",
    "    return train_df, test_df\n",
    "\n",
    "def label_encode(train_df, test_df, column):\n",
    "    from sklearn.preprocessing import LabelEncoder\n",
    "    le = LabelEncoder()\n",
    "    train_df[column] = le.fit_transform(train_df[column])\n",
    "    test_df[column] = le.transform(test_df[column])\n",
    "    return train_df, test_df"
   ]
  },
  {
   "cell_type": "code",
   "execution_count": 12,
   "id": "b26c01ca",
   "metadata": {
    "execution": {
     "iopub.execute_input": "2024-02-11T14:26:09.763672Z",
     "iopub.status.busy": "2024-02-11T14:26:09.763227Z",
     "iopub.status.idle": "2024-02-11T14:26:10.081426Z",
     "shell.execute_reply": "2024-02-11T14:26:10.080187Z"
    },
    "papermill": {
     "duration": 0.35458,
     "end_time": "2024-02-11T14:26:10.084109",
     "exception": false,
     "start_time": "2024-02-11T14:26:09.729529",
     "status": "completed"
    },
    "tags": []
   },
   "outputs": [
    {
     "data": {
      "image/png": "[encoded data removed]",
      "text/plain": [
       "<Figure size 640x480 with 1 Axes>"
      ]
     },
     "metadata": {},
     "output_type": "display_data"
    }
   ],
   "source": [
    "sns.countplot(x = train[\"Pclass\"], hue = \"Survived\", data = train)\n",
    "plt.title(\"Survived by Pclass\")\n",
    "plt.show()"
   ]
  },
  {
   "cell_type": "code",
   "execution_count": 13,
   "id": "d9d8ee67",
   "metadata": {
    "execution": {
     "iopub.execute_input": "2024-02-11T14:26:10.147143Z",
     "iopub.status.busy": "2024-02-11T14:26:10.146740Z",
     "iopub.status.idle": "2024-02-11T14:26:10.157503Z",
     "shell.execute_reply": "2024-02-11T14:26:10.156320Z"
    },
    "papermill": {
     "duration": 0.045793,
     "end_time": "2024-02-11T14:26:10.160114",
     "exception": false,
     "start_time": "2024-02-11T14:26:10.114321",
     "status": "completed"
    },
    "tags": []
   },
   "outputs": [],
   "source": [
    "# extract title from the name\n",
    "datasets = [train, test]\n",
    "for data in datasets:\n",
    "    data[\"Title\"] = data.Name.str.extract(' ([A-Za-z]+)\\.', expand=False)"
   ]
  },
  {
   "cell_type": "code",
   "execution_count": 14,
   "id": "9f7afa04",
   "metadata": {
    "execution": {
     "iopub.execute_input": "2024-02-11T14:26:10.225931Z",
     "iopub.status.busy": "2024-02-11T14:26:10.224303Z",
     "iopub.status.idle": "2024-02-11T14:26:10.234553Z",
     "shell.execute_reply": "2024-02-11T14:26:10.233401Z"
    },
    "papermill": {
     "duration": 0.044533,
     "end_time": "2024-02-11T14:26:10.237359",
     "exception": false,
     "start_time": "2024-02-11T14:26:10.192826",
     "status": "completed"
    },
    "tags": []
   },
   "outputs": [
    {
     "data": {
      "text/plain": [
       "Title\n",
       "Mr          517\n",
       "Miss        182\n",
       "Mrs         125\n",
       "Master       40\n",
       "Dr            7\n",
       "Rev           6\n",
       "Mlle          2\n",
       "Major         2\n",
       "Col           2\n",
       "Countess      1\n",
       "Capt          1\n",
       "Ms            1\n",
       "Sir           1\n",
       "Lady          1\n",
       "Mme           1\n",
       "Don           1\n",
       "Jonkheer      1\n",
       "Name: count, dtype: int64"
      ]
     },
     "execution_count": 14,
     "metadata": {},
     "output_type": "execute_result"
    }
   ],
   "source": [
    "train[\"Title\"].value_counts()"
   ]
  },
  {
   "cell_type": "code",
   "execution_count": 15,
   "id": "b4df961f",
   "metadata": {
    "execution": {
     "iopub.execute_input": "2024-02-11T14:26:10.299889Z",
     "iopub.status.busy": "2024-02-11T14:26:10.299196Z",
     "iopub.status.idle": "2024-02-11T14:26:10.309389Z",
     "shell.execute_reply": "2024-02-11T14:26:10.308342Z"
    },
    "papermill": {
     "duration": 0.044284,
     "end_time": "2024-02-11T14:26:10.311545",
     "exception": false,
     "start_time": "2024-02-11T14:26:10.267261",
     "status": "completed"
    },
    "tags": []
   },
   "outputs": [
    {
     "data": {
      "text/plain": [
       "Title\n",
       "Mr        240\n",
       "Miss       78\n",
       "Mrs        72\n",
       "Master     21\n",
       "Col         2\n",
       "Rev         2\n",
       "Ms          1\n",
       "Dr          1\n",
       "Dona        1\n",
       "Name: count, dtype: int64"
      ]
     },
     "execution_count": 15,
     "metadata": {},
     "output_type": "execute_result"
    }
   ],
   "source": [
    "test[\"Title\"].value_counts()"
   ]
  },
  {
   "cell_type": "code",
   "execution_count": 16,
   "id": "924a0e68",
   "metadata": {
    "execution": {
     "iopub.execute_input": "2024-02-11T14:26:10.375036Z",
     "iopub.status.busy": "2024-02-11T14:26:10.374247Z",
     "iopub.status.idle": "2024-02-11T14:26:10.387171Z",
     "shell.execute_reply": "2024-02-11T14:26:10.386218Z"
    },
    "papermill": {
     "duration": 0.047322,
     "end_time": "2024-02-11T14:26:10.389592",
     "exception": false,
     "start_time": "2024-02-11T14:26:10.342270",
     "status": "completed"
    },
    "tags": []
   },
   "outputs": [],
   "source": [
    "# Convert titles\n",
    "for data in datasets:\n",
    "    data['Title'] = data['Title'].replace([\"Lady\", \"Countess\",\"Capt\", \"Col\", \"Don\", \"Dr\", \"Major\", \"Rev\", \"Sir\", \"Jonkheer\", \"Dona\"], \"Rare\")\n",
    "    data['Title'] = data['Title'].replace('Mlle', 'Miss')\n",
    "    data['Title'] = data['Title'].replace('Ms', 'Miss')\n",
    "    data['Title'] = data['Title'].replace('Mme', 'Mrs')"
   ]
  },
  {
   "cell_type": "code",
   "execution_count": 17,
   "id": "927eaffa",
   "metadata": {
    "execution": {
     "iopub.execute_input": "2024-02-11T14:26:10.451790Z",
     "iopub.status.busy": "2024-02-11T14:26:10.451348Z",
     "iopub.status.idle": "2024-02-11T14:26:10.772063Z",
     "shell.execute_reply": "2024-02-11T14:26:10.770859Z"
    },
    "papermill": {
     "duration": 0.354673,
     "end_time": "2024-02-11T14:26:10.774428",
     "exception": false,
     "start_time": "2024-02-11T14:26:10.419755",
     "status": "completed"
    },
    "tags": []
   },
   "outputs": [
    {
     "data": {
      "image/png": "[encoded data removed]",
      "text/plain": [
       "<Figure size 640x480 with 1 Axes>"
      ]
     },
     "metadata": {},
     "output_type": "display_data"
    }
   ],
   "source": [
    "# Create a bar chart for the Distribution of Survived by Title\n",
    "sns.countplot(x = train[\"Title\"], hue = \"Survived\", data = train)\n",
    "plt.title(\"Survived by title\")\n",
    "plt.show()"
   ]
  },
  {
   "cell_type": "code",
   "execution_count": 18,
   "id": "e0bbe758",
   "metadata": {
    "execution": {
     "iopub.execute_input": "2024-02-11T14:26:10.838086Z",
     "iopub.status.busy": "2024-02-11T14:26:10.837602Z",
     "iopub.status.idle": "2024-02-11T14:26:10.845243Z",
     "shell.execute_reply": "2024-02-11T14:26:10.843604Z"
    },
    "papermill": {
     "duration": 0.043187,
     "end_time": "2024-02-11T14:26:10.847902",
     "exception": false,
     "start_time": "2024-02-11T14:26:10.804715",
     "status": "completed"
    },
    "tags": []
   },
   "outputs": [],
   "source": [
    "# Encode \"Title\" column to numeric values\n",
    "train_up2, test_up2 = label_encode(train, test, \"Title\")"
   ]
  },
  {
   "cell_type": "code",
   "execution_count": 19,
   "id": "ed94268c",
   "metadata": {
    "execution": {
     "iopub.execute_input": "2024-02-11T14:26:10.912703Z",
     "iopub.status.busy": "2024-02-11T14:26:10.911473Z",
     "iopub.status.idle": "2024-02-11T14:26:10.922104Z",
     "shell.execute_reply": "2024-02-11T14:26:10.920840Z"
    },
    "papermill": {
     "duration": 0.04576,
     "end_time": "2024-02-11T14:26:10.924848",
     "exception": false,
     "start_time": "2024-02-11T14:26:10.879088",
     "status": "completed"
    },
    "tags": []
   },
   "outputs": [],
   "source": [
    "# Drop \"Name\" column\n",
    "dataset = [train_up2, test_up2]\n",
    "for data in dataset:\n",
    "    data.drop(columns = \"Name\", inplace = True)"
   ]
  },
  {
   "cell_type": "code",
   "execution_count": 20,
   "id": "8d263074",
   "metadata": {
    "execution": {
     "iopub.execute_input": "2024-02-11T14:26:10.990885Z",
     "iopub.status.busy": "2024-02-11T14:26:10.989728Z",
     "iopub.status.idle": "2024-02-11T14:26:11.275599Z",
     "shell.execute_reply": "2024-02-11T14:26:11.274514Z"
    },
    "papermill": {
     "duration": 0.321013,
     "end_time": "2024-02-11T14:26:11.278318",
     "exception": false,
     "start_time": "2024-02-11T14:26:10.957305",
     "status": "completed"
    },
    "tags": []
   },
   "outputs": [
    {
     "data": {
      "image/png": "[encoded data removed]",
      "text/plain": [
       "<Figure size 640x480 with 1 Axes>"
      ]
     },
     "metadata": {},
     "output_type": "display_data"
    }
   ],
   "source": [
    "# Create bar chart for ditribution of Survived by Sex\n",
    "sns.countplot(x = train_up2[\"Sex\"], hue = \"Survived\", data = train_up2)\n",
    "plt.title(\"Survived by Sex\")\n",
    "plt.show()"
   ]
  },
  {
   "cell_type": "code",
   "execution_count": 21,
   "id": "ba835826",
   "metadata": {
    "execution": {
     "iopub.execute_input": "2024-02-11T14:26:11.343317Z",
     "iopub.status.busy": "2024-02-11T14:26:11.342907Z",
     "iopub.status.idle": "2024-02-11T14:26:11.349818Z",
     "shell.execute_reply": "2024-02-11T14:26:11.348783Z"
    },
    "papermill": {
     "duration": 0.042255,
     "end_time": "2024-02-11T14:26:11.352541",
     "exception": false,
     "start_time": "2024-02-11T14:26:11.310286",
     "status": "completed"
    },
    "tags": []
   },
   "outputs": [],
   "source": [
    "# Encode \"Sec\" column to numerical values\n",
    "train_up3, test_up3 = label_encode(train_up2, test_up2, \"Sex\")"
   ]
  },
  {
   "cell_type": "code",
   "execution_count": 22,
   "id": "106df797",
   "metadata": {
    "execution": {
     "iopub.execute_input": "2024-02-11T14:26:11.418564Z",
     "iopub.status.busy": "2024-02-11T14:26:11.418165Z",
     "iopub.status.idle": "2024-02-11T14:26:11.427807Z",
     "shell.execute_reply": "2024-02-11T14:26:11.426564Z"
    },
    "papermill": {
     "duration": 0.046079,
     "end_time": "2024-02-11T14:26:11.430326",
     "exception": false,
     "start_time": "2024-02-11T14:26:11.384247",
     "status": "completed"
    },
    "tags": []
   },
   "outputs": [
    {
     "data": {
      "text/plain": [
       "SibSp\n",
       "0    608\n",
       "1    209\n",
       "2     28\n",
       "4     18\n",
       "3     16\n",
       "8      7\n",
       "5      5\n",
       "Name: count, dtype: int64"
      ]
     },
     "execution_count": 22,
     "metadata": {},
     "output_type": "execute_result"
    }
   ],
   "source": [
    "train_up3[\"SibSp\"].value_counts()"
   ]
  },
  {
   "cell_type": "code",
   "execution_count": 23,
   "id": "affeb2de",
   "metadata": {
    "execution": {
     "iopub.execute_input": "2024-02-11T14:26:11.495250Z",
     "iopub.status.busy": "2024-02-11T14:26:11.494841Z",
     "iopub.status.idle": "2024-02-11T14:26:11.503515Z",
     "shell.execute_reply": "2024-02-11T14:26:11.502399Z"
    },
    "papermill": {
     "duration": 0.043343,
     "end_time": "2024-02-11T14:26:11.505823",
     "exception": false,
     "start_time": "2024-02-11T14:26:11.462480",
     "status": "completed"
    },
    "tags": []
   },
   "outputs": [
    {
     "data": {
      "text/plain": [
       "Parch\n",
       "0    678\n",
       "1    118\n",
       "2     80\n",
       "5      5\n",
       "3      5\n",
       "4      4\n",
       "6      1\n",
       "Name: count, dtype: int64"
      ]
     },
     "execution_count": 23,
     "metadata": {},
     "output_type": "execute_result"
    }
   ],
   "source": [
    "train_up3[\"Parch\"].value_counts()"
   ]
  },
  {
   "cell_type": "code",
   "execution_count": 24,
   "id": "c9d9fdf7",
   "metadata": {
    "execution": {
     "iopub.execute_input": "2024-02-11T14:26:11.570844Z",
     "iopub.status.busy": "2024-02-11T14:26:11.570403Z",
     "iopub.status.idle": "2024-02-11T14:26:11.579073Z",
     "shell.execute_reply": "2024-02-11T14:26:11.577908Z"
    },
    "papermill": {
     "duration": 0.04474,
     "end_time": "2024-02-11T14:26:11.581677",
     "exception": false,
     "start_time": "2024-02-11T14:26:11.536937",
     "status": "completed"
    },
    "tags": []
   },
   "outputs": [],
   "source": [
    "# Create new column \"Family_size\"\n",
    "datasets = [train_up3, test_up3]\n",
    "for data in datasets:\n",
    "    data[\"Family_size\"] = data[\"SibSp\"] + data[\"Parch\"] + 1"
   ]
  },
  {
   "cell_type": "code",
   "execution_count": 25,
   "id": "879bb7d3",
   "metadata": {
    "execution": {
     "iopub.execute_input": "2024-02-11T14:26:11.646597Z",
     "iopub.status.busy": "2024-02-11T14:26:11.646169Z",
     "iopub.status.idle": "2024-02-11T14:26:12.028233Z",
     "shell.execute_reply": "2024-02-11T14:26:12.026994Z"
    },
    "papermill": {
     "duration": 0.417748,
     "end_time": "2024-02-11T14:26:12.030879",
     "exception": false,
     "start_time": "2024-02-11T14:26:11.613131",
     "status": "completed"
    },
    "tags": []
   },
   "outputs": [
    {
     "data": {
      "image/png": "[encoded data removed]",
      "text/plain": [
       "<Figure size 640x480 with 1 Axes>"
      ]
     },
     "metadata": {},
     "output_type": "display_data"
    }
   ],
   "source": [
    "# Create bar chart for sitribution of Survived by Family_size\n",
    "sns.countplot(x = train_up3[\"Family_size\"], hue = \"Survived\", data = train_up3)\n",
    "plt.title(\"Survived by Family_size\")\n",
    "plt.show()"
   ]
  },
  {
   "cell_type": "code",
   "execution_count": 26,
   "id": "bfd9a5ee",
   "metadata": {
    "execution": {
     "iopub.execute_input": "2024-02-11T14:26:12.097715Z",
     "iopub.status.busy": "2024-02-11T14:26:12.097290Z",
     "iopub.status.idle": "2024-02-11T14:26:12.107263Z",
     "shell.execute_reply": "2024-02-11T14:26:12.106072Z"
    },
    "papermill": {
     "duration": 0.046891,
     "end_time": "2024-02-11T14:26:12.109490",
     "exception": false,
     "start_time": "2024-02-11T14:26:12.062599",
     "status": "completed"
    },
    "tags": []
   },
   "outputs": [
    {
     "data": {
      "text/plain": [
       "Ticket\n",
       "347082      7\n",
       "CA. 2343    7\n",
       "1601        7\n",
       "3101295     6\n",
       "CA 2144     6\n",
       "           ..\n",
       "9234        1\n",
       "19988       1\n",
       "2693        1\n",
       "PC 17612    1\n",
       "370376      1\n",
       "Name: count, Length: 681, dtype: int64"
      ]
     },
     "execution_count": 26,
     "metadata": {},
     "output_type": "execute_result"
    }
   ],
   "source": [
    "train_up3[\"Ticket\"].value_counts()"
   ]
  },
  {
   "cell_type": "code",
   "execution_count": 27,
   "id": "47fe77f9",
   "metadata": {
    "execution": {
     "iopub.execute_input": "2024-02-11T14:26:12.177571Z",
     "iopub.status.busy": "2024-02-11T14:26:12.176745Z",
     "iopub.status.idle": "2024-02-11T14:26:12.196995Z",
     "shell.execute_reply": "2024-02-11T14:26:12.195496Z"
    },
    "papermill": {
     "duration": 0.057489,
     "end_time": "2024-02-11T14:26:12.199485",
     "exception": false,
     "start_time": "2024-02-11T14:26:12.141996",
     "status": "completed"
    },
    "tags": []
   },
   "outputs": [
    {
     "data": {
      "text/html": [
       "<div>\n",
       "<style scoped>\n",
       "    .dataframe tbody tr th:only-of-type {\n",
       "        vertical-align: middle;\n",
       "    }\n",
       "\n",
       "    .dataframe tbody tr th {\n",
       "        vertical-align: top;\n",
       "    }\n",
       "\n",
       "    .dataframe thead th {\n",
       "        text-align: right;\n",
       "    }\n",
       "</style>\n",
       "<table border=\"1\" class=\"dataframe\">\n",
       "  <thead>\n",
       "    <tr style=\"text-align: right;\">\n",
       "      <th></th>\n",
       "      <th>PassengerId</th>\n",
       "      <th>Survived</th>\n",
       "      <th>Pclass</th>\n",
       "      <th>Sex</th>\n",
       "      <th>Age</th>\n",
       "      <th>SibSp</th>\n",
       "      <th>Parch</th>\n",
       "      <th>Ticket</th>\n",
       "      <th>Fare</th>\n",
       "      <th>Cabin</th>\n",
       "      <th>Embarked</th>\n",
       "      <th>Title</th>\n",
       "      <th>Family_size</th>\n",
       "    </tr>\n",
       "  </thead>\n",
       "  <tbody>\n",
       "    <tr>\n",
       "      <th>13</th>\n",
       "      <td>14</td>\n",
       "      <td>0</td>\n",
       "      <td>3</td>\n",
       "      <td>1</td>\n",
       "      <td>39.0</td>\n",
       "      <td>1</td>\n",
       "      <td>5</td>\n",
       "      <td>347082</td>\n",
       "      <td>31.275</td>\n",
       "      <td>NaN</td>\n",
       "      <td>S</td>\n",
       "      <td>2</td>\n",
       "      <td>7</td>\n",
       "    </tr>\n",
       "    <tr>\n",
       "      <th>119</th>\n",
       "      <td>120</td>\n",
       "      <td>0</td>\n",
       "      <td>3</td>\n",
       "      <td>0</td>\n",
       "      <td>2.0</td>\n",
       "      <td>4</td>\n",
       "      <td>2</td>\n",
       "      <td>347082</td>\n",
       "      <td>31.275</td>\n",
       "      <td>NaN</td>\n",
       "      <td>S</td>\n",
       "      <td>1</td>\n",
       "      <td>7</td>\n",
       "    </tr>\n",
       "    <tr>\n",
       "      <th>541</th>\n",
       "      <td>542</td>\n",
       "      <td>0</td>\n",
       "      <td>3</td>\n",
       "      <td>0</td>\n",
       "      <td>9.0</td>\n",
       "      <td>4</td>\n",
       "      <td>2</td>\n",
       "      <td>347082</td>\n",
       "      <td>31.275</td>\n",
       "      <td>NaN</td>\n",
       "      <td>S</td>\n",
       "      <td>1</td>\n",
       "      <td>7</td>\n",
       "    </tr>\n",
       "    <tr>\n",
       "      <th>542</th>\n",
       "      <td>543</td>\n",
       "      <td>0</td>\n",
       "      <td>3</td>\n",
       "      <td>0</td>\n",
       "      <td>11.0</td>\n",
       "      <td>4</td>\n",
       "      <td>2</td>\n",
       "      <td>347082</td>\n",
       "      <td>31.275</td>\n",
       "      <td>NaN</td>\n",
       "      <td>S</td>\n",
       "      <td>1</td>\n",
       "      <td>7</td>\n",
       "    </tr>\n",
       "    <tr>\n",
       "      <th>610</th>\n",
       "      <td>611</td>\n",
       "      <td>0</td>\n",
       "      <td>3</td>\n",
       "      <td>0</td>\n",
       "      <td>39.0</td>\n",
       "      <td>1</td>\n",
       "      <td>5</td>\n",
       "      <td>347082</td>\n",
       "      <td>31.275</td>\n",
       "      <td>NaN</td>\n",
       "      <td>S</td>\n",
       "      <td>3</td>\n",
       "      <td>7</td>\n",
       "    </tr>\n",
       "    <tr>\n",
       "      <th>813</th>\n",
       "      <td>814</td>\n",
       "      <td>0</td>\n",
       "      <td>3</td>\n",
       "      <td>0</td>\n",
       "      <td>6.0</td>\n",
       "      <td>4</td>\n",
       "      <td>2</td>\n",
       "      <td>347082</td>\n",
       "      <td>31.275</td>\n",
       "      <td>NaN</td>\n",
       "      <td>S</td>\n",
       "      <td>1</td>\n",
       "      <td>7</td>\n",
       "    </tr>\n",
       "    <tr>\n",
       "      <th>850</th>\n",
       "      <td>851</td>\n",
       "      <td>0</td>\n",
       "      <td>3</td>\n",
       "      <td>1</td>\n",
       "      <td>4.0</td>\n",
       "      <td>4</td>\n",
       "      <td>2</td>\n",
       "      <td>347082</td>\n",
       "      <td>31.275</td>\n",
       "      <td>NaN</td>\n",
       "      <td>S</td>\n",
       "      <td>0</td>\n",
       "      <td>7</td>\n",
       "    </tr>\n",
       "  </tbody>\n",
       "</table>\n",
       "</div>"
      ],
      "text/plain": [
       "     PassengerId  Survived  Pclass  Sex   Age  SibSp  Parch  Ticket    Fare  \\\n",
       "13            14         0       3    1  39.0      1      5  347082  31.275   \n",
       "119          120         0       3    0   2.0      4      2  347082  31.275   \n",
       "541          542         0       3    0   9.0      4      2  347082  31.275   \n",
       "542          543         0       3    0  11.0      4      2  347082  31.275   \n",
       "610          611         0       3    0  39.0      1      5  347082  31.275   \n",
       "813          814         0       3    0   6.0      4      2  347082  31.275   \n",
       "850          851         0       3    1   4.0      4      2  347082  31.275   \n",
       "\n",
       "    Cabin Embarked  Title  Family_size  \n",
       "13    NaN        S      2            7  \n",
       "119   NaN        S      1            7  \n",
       "541   NaN        S      1            7  \n",
       "542   NaN        S      1            7  \n",
       "610   NaN        S      3            7  \n",
       "813   NaN        S      1            7  \n",
       "850   NaN        S      0            7  "
      ]
     },
     "execution_count": 27,
     "metadata": {},
     "output_type": "execute_result"
    }
   ],
   "source": [
    "train_up3[train_up3[\"Ticket\"] == \"347082\"]"
   ]
  },
  {
   "cell_type": "code",
   "execution_count": 28,
   "id": "2dda075a",
   "metadata": {
    "execution": {
     "iopub.execute_input": "2024-02-11T14:26:12.268151Z",
     "iopub.status.busy": "2024-02-11T14:26:12.267130Z",
     "iopub.status.idle": "2024-02-11T14:26:12.276077Z",
     "shell.execute_reply": "2024-02-11T14:26:12.274958Z"
    },
    "papermill": {
     "duration": 0.045791,
     "end_time": "2024-02-11T14:26:12.278418",
     "exception": false,
     "start_time": "2024-02-11T14:26:12.232627",
     "status": "completed"
    },
    "tags": []
   },
   "outputs": [
    {
     "data": {
      "text/plain": [
       "Cabin\n",
       "B96 B98        4\n",
       "G6             4\n",
       "C23 C25 C27    4\n",
       "C22 C26        3\n",
       "F33            3\n",
       "              ..\n",
       "E34            1\n",
       "C7             1\n",
       "C54            1\n",
       "E36            1\n",
       "C148           1\n",
       "Name: count, Length: 147, dtype: int64"
      ]
     },
     "execution_count": 28,
     "metadata": {},
     "output_type": "execute_result"
    }
   ],
   "source": [
    "train_up3[\"Cabin\"].value_counts()"
   ]
  },
  {
   "cell_type": "code",
   "execution_count": 29,
   "id": "26b76918",
   "metadata": {
    "execution": {
     "iopub.execute_input": "2024-02-11T14:26:12.347038Z",
     "iopub.status.busy": "2024-02-11T14:26:12.346134Z",
     "iopub.status.idle": "2024-02-11T14:26:12.364205Z",
     "shell.execute_reply": "2024-02-11T14:26:12.363384Z"
    },
    "papermill": {
     "duration": 0.055224,
     "end_time": "2024-02-11T14:26:12.366361",
     "exception": false,
     "start_time": "2024-02-11T14:26:12.311137",
     "status": "completed"
    },
    "tags": []
   },
   "outputs": [
    {
     "data": {
      "text/html": [
       "<div>\n",
       "<style scoped>\n",
       "    .dataframe tbody tr th:only-of-type {\n",
       "        vertical-align: middle;\n",
       "    }\n",
       "\n",
       "    .dataframe tbody tr th {\n",
       "        vertical-align: top;\n",
       "    }\n",
       "\n",
       "    .dataframe thead th {\n",
       "        text-align: right;\n",
       "    }\n",
       "</style>\n",
       "<table border=\"1\" class=\"dataframe\">\n",
       "  <thead>\n",
       "    <tr style=\"text-align: right;\">\n",
       "      <th></th>\n",
       "      <th>PassengerId</th>\n",
       "      <th>Survived</th>\n",
       "      <th>Pclass</th>\n",
       "      <th>Sex</th>\n",
       "      <th>Age</th>\n",
       "      <th>SibSp</th>\n",
       "      <th>Parch</th>\n",
       "      <th>Ticket</th>\n",
       "      <th>Fare</th>\n",
       "      <th>Cabin</th>\n",
       "      <th>Embarked</th>\n",
       "      <th>Title</th>\n",
       "      <th>Family_size</th>\n",
       "    </tr>\n",
       "  </thead>\n",
       "  <tbody>\n",
       "    <tr>\n",
       "      <th>390</th>\n",
       "      <td>391</td>\n",
       "      <td>1</td>\n",
       "      <td>1</td>\n",
       "      <td>1</td>\n",
       "      <td>36.0</td>\n",
       "      <td>1</td>\n",
       "      <td>2</td>\n",
       "      <td>113760</td>\n",
       "      <td>120.0</td>\n",
       "      <td>B96 B98</td>\n",
       "      <td>S</td>\n",
       "      <td>2</td>\n",
       "      <td>4</td>\n",
       "    </tr>\n",
       "    <tr>\n",
       "      <th>435</th>\n",
       "      <td>436</td>\n",
       "      <td>1</td>\n",
       "      <td>1</td>\n",
       "      <td>0</td>\n",
       "      <td>14.0</td>\n",
       "      <td>1</td>\n",
       "      <td>2</td>\n",
       "      <td>113760</td>\n",
       "      <td>120.0</td>\n",
       "      <td>B96 B98</td>\n",
       "      <td>S</td>\n",
       "      <td>1</td>\n",
       "      <td>4</td>\n",
       "    </tr>\n",
       "    <tr>\n",
       "      <th>763</th>\n",
       "      <td>764</td>\n",
       "      <td>1</td>\n",
       "      <td>1</td>\n",
       "      <td>0</td>\n",
       "      <td>36.0</td>\n",
       "      <td>1</td>\n",
       "      <td>2</td>\n",
       "      <td>113760</td>\n",
       "      <td>120.0</td>\n",
       "      <td>B96 B98</td>\n",
       "      <td>S</td>\n",
       "      <td>3</td>\n",
       "      <td>4</td>\n",
       "    </tr>\n",
       "    <tr>\n",
       "      <th>802</th>\n",
       "      <td>803</td>\n",
       "      <td>1</td>\n",
       "      <td>1</td>\n",
       "      <td>1</td>\n",
       "      <td>11.0</td>\n",
       "      <td>1</td>\n",
       "      <td>2</td>\n",
       "      <td>113760</td>\n",
       "      <td>120.0</td>\n",
       "      <td>B96 B98</td>\n",
       "      <td>S</td>\n",
       "      <td>0</td>\n",
       "      <td>4</td>\n",
       "    </tr>\n",
       "  </tbody>\n",
       "</table>\n",
       "</div>"
      ],
      "text/plain": [
       "     PassengerId  Survived  Pclass  Sex   Age  SibSp  Parch  Ticket   Fare  \\\n",
       "390          391         1       1    1  36.0      1      2  113760  120.0   \n",
       "435          436         1       1    0  14.0      1      2  113760  120.0   \n",
       "763          764         1       1    0  36.0      1      2  113760  120.0   \n",
       "802          803         1       1    1  11.0      1      2  113760  120.0   \n",
       "\n",
       "       Cabin Embarked  Title  Family_size  \n",
       "390  B96 B98        S      2            4  \n",
       "435  B96 B98        S      1            4  \n",
       "763  B96 B98        S      3            4  \n",
       "802  B96 B98        S      0            4  "
      ]
     },
     "execution_count": 29,
     "metadata": {},
     "output_type": "execute_result"
    }
   ],
   "source": [
    "train_up3[train_up3[\"Cabin\"] == \"B96 B98\"]"
   ]
  },
  {
   "cell_type": "code",
   "execution_count": 30,
   "id": "166315d4",
   "metadata": {
    "execution": {
     "iopub.execute_input": "2024-02-11T14:26:12.434707Z",
     "iopub.status.busy": "2024-02-11T14:26:12.433404Z",
     "iopub.status.idle": "2024-02-11T14:26:12.441128Z",
     "shell.execute_reply": "2024-02-11T14:26:12.440016Z"
    },
    "papermill": {
     "duration": 0.044399,
     "end_time": "2024-02-11T14:26:12.443929",
     "exception": false,
     "start_time": "2024-02-11T14:26:12.399530",
     "status": "completed"
    },
    "tags": []
   },
   "outputs": [],
   "source": [
    "# Drop \"Ticket\" and \"Cabin\" column, there is way to much missing values in \"Cabin\" column and \"Ticket\" column does not seem to have a usefull information\n",
    "for data in datasets:\n",
    "    data.drop(columns = [\"Ticket\", \"Cabin\"], inplace = True)"
   ]
  },
  {
   "cell_type": "code",
   "execution_count": 31,
   "id": "14269b7f",
   "metadata": {
    "execution": {
     "iopub.execute_input": "2024-02-11T14:26:12.511626Z",
     "iopub.status.busy": "2024-02-11T14:26:12.511216Z",
     "iopub.status.idle": "2024-02-11T14:26:12.534827Z",
     "shell.execute_reply": "2024-02-11T14:26:12.533498Z"
    },
    "papermill": {
     "duration": 0.060566,
     "end_time": "2024-02-11T14:26:12.537310",
     "exception": false,
     "start_time": "2024-02-11T14:26:12.476744",
     "status": "completed"
    },
    "tags": []
   },
   "outputs": [
    {
     "data": {
      "text/html": [
       "<div>\n",
       "<style scoped>\n",
       "    .dataframe tbody tr th:only-of-type {\n",
       "        vertical-align: middle;\n",
       "    }\n",
       "\n",
       "    .dataframe tbody tr th {\n",
       "        vertical-align: top;\n",
       "    }\n",
       "\n",
       "    .dataframe thead th {\n",
       "        text-align: right;\n",
       "    }\n",
       "</style>\n",
       "<table border=\"1\" class=\"dataframe\">\n",
       "  <thead>\n",
       "    <tr style=\"text-align: right;\">\n",
       "      <th></th>\n",
       "      <th>PassengerId</th>\n",
       "      <th>Survived</th>\n",
       "      <th>Pclass</th>\n",
       "      <th>Sex</th>\n",
       "      <th>Age</th>\n",
       "      <th>SibSp</th>\n",
       "      <th>Parch</th>\n",
       "      <th>Fare</th>\n",
       "      <th>Embarked</th>\n",
       "      <th>Title</th>\n",
       "      <th>Family_size</th>\n",
       "    </tr>\n",
       "  </thead>\n",
       "  <tbody>\n",
       "    <tr>\n",
       "      <th>0</th>\n",
       "      <td>1</td>\n",
       "      <td>0</td>\n",
       "      <td>3</td>\n",
       "      <td>1</td>\n",
       "      <td>22.0</td>\n",
       "      <td>1</td>\n",
       "      <td>0</td>\n",
       "      <td>7.2500</td>\n",
       "      <td>S</td>\n",
       "      <td>2</td>\n",
       "      <td>2</td>\n",
       "    </tr>\n",
       "    <tr>\n",
       "      <th>1</th>\n",
       "      <td>2</td>\n",
       "      <td>1</td>\n",
       "      <td>1</td>\n",
       "      <td>0</td>\n",
       "      <td>38.0</td>\n",
       "      <td>1</td>\n",
       "      <td>0</td>\n",
       "      <td>71.2833</td>\n",
       "      <td>C</td>\n",
       "      <td>3</td>\n",
       "      <td>2</td>\n",
       "    </tr>\n",
       "    <tr>\n",
       "      <th>2</th>\n",
       "      <td>3</td>\n",
       "      <td>1</td>\n",
       "      <td>3</td>\n",
       "      <td>0</td>\n",
       "      <td>26.0</td>\n",
       "      <td>0</td>\n",
       "      <td>0</td>\n",
       "      <td>7.9250</td>\n",
       "      <td>S</td>\n",
       "      <td>1</td>\n",
       "      <td>1</td>\n",
       "    </tr>\n",
       "    <tr>\n",
       "      <th>3</th>\n",
       "      <td>4</td>\n",
       "      <td>1</td>\n",
       "      <td>1</td>\n",
       "      <td>0</td>\n",
       "      <td>35.0</td>\n",
       "      <td>1</td>\n",
       "      <td>0</td>\n",
       "      <td>53.1000</td>\n",
       "      <td>S</td>\n",
       "      <td>3</td>\n",
       "      <td>2</td>\n",
       "    </tr>\n",
       "    <tr>\n",
       "      <th>4</th>\n",
       "      <td>5</td>\n",
       "      <td>0</td>\n",
       "      <td>3</td>\n",
       "      <td>1</td>\n",
       "      <td>35.0</td>\n",
       "      <td>0</td>\n",
       "      <td>0</td>\n",
       "      <td>8.0500</td>\n",
       "      <td>S</td>\n",
       "      <td>2</td>\n",
       "      <td>1</td>\n",
       "    </tr>\n",
       "    <tr>\n",
       "      <th>...</th>\n",
       "      <td>...</td>\n",
       "      <td>...</td>\n",
       "      <td>...</td>\n",
       "      <td>...</td>\n",
       "      <td>...</td>\n",
       "      <td>...</td>\n",
       "      <td>...</td>\n",
       "      <td>...</td>\n",
       "      <td>...</td>\n",
       "      <td>...</td>\n",
       "      <td>...</td>\n",
       "    </tr>\n",
       "    <tr>\n",
       "      <th>886</th>\n",
       "      <td>887</td>\n",
       "      <td>0</td>\n",
       "      <td>2</td>\n",
       "      <td>1</td>\n",
       "      <td>27.0</td>\n",
       "      <td>0</td>\n",
       "      <td>0</td>\n",
       "      <td>13.0000</td>\n",
       "      <td>S</td>\n",
       "      <td>4</td>\n",
       "      <td>1</td>\n",
       "    </tr>\n",
       "    <tr>\n",
       "      <th>887</th>\n",
       "      <td>888</td>\n",
       "      <td>1</td>\n",
       "      <td>1</td>\n",
       "      <td>0</td>\n",
       "      <td>19.0</td>\n",
       "      <td>0</td>\n",
       "      <td>0</td>\n",
       "      <td>30.0000</td>\n",
       "      <td>S</td>\n",
       "      <td>1</td>\n",
       "      <td>1</td>\n",
       "    </tr>\n",
       "    <tr>\n",
       "      <th>888</th>\n",
       "      <td>889</td>\n",
       "      <td>0</td>\n",
       "      <td>3</td>\n",
       "      <td>0</td>\n",
       "      <td>NaN</td>\n",
       "      <td>1</td>\n",
       "      <td>2</td>\n",
       "      <td>23.4500</td>\n",
       "      <td>S</td>\n",
       "      <td>1</td>\n",
       "      <td>4</td>\n",
       "    </tr>\n",
       "    <tr>\n",
       "      <th>889</th>\n",
       "      <td>890</td>\n",
       "      <td>1</td>\n",
       "      <td>1</td>\n",
       "      <td>1</td>\n",
       "      <td>26.0</td>\n",
       "      <td>0</td>\n",
       "      <td>0</td>\n",
       "      <td>30.0000</td>\n",
       "      <td>C</td>\n",
       "      <td>2</td>\n",
       "      <td>1</td>\n",
       "    </tr>\n",
       "    <tr>\n",
       "      <th>890</th>\n",
       "      <td>891</td>\n",
       "      <td>0</td>\n",
       "      <td>3</td>\n",
       "      <td>1</td>\n",
       "      <td>32.0</td>\n",
       "      <td>0</td>\n",
       "      <td>0</td>\n",
       "      <td>7.7500</td>\n",
       "      <td>Q</td>\n",
       "      <td>2</td>\n",
       "      <td>1</td>\n",
       "    </tr>\n",
       "  </tbody>\n",
       "</table>\n",
       "<p>891 rows × 11 columns</p>\n",
       "</div>"
      ],
      "text/plain": [
       "     PassengerId  Survived  Pclass  Sex   Age  SibSp  Parch     Fare Embarked  \\\n",
       "0              1         0       3    1  22.0      1      0   7.2500        S   \n",
       "1              2         1       1    0  38.0      1      0  71.2833        C   \n",
       "2              3         1       3    0  26.0      0      0   7.9250        S   \n",
       "3              4         1       1    0  35.0      1      0  53.1000        S   \n",
       "4              5         0       3    1  35.0      0      0   8.0500        S   \n",
       "..           ...       ...     ...  ...   ...    ...    ...      ...      ...   \n",
       "886          887         0       2    1  27.0      0      0  13.0000        S   \n",
       "887          888         1       1    0  19.0      0      0  30.0000        S   \n",
       "888          889         0       3    0   NaN      1      2  23.4500        S   \n",
       "889          890         1       1    1  26.0      0      0  30.0000        C   \n",
       "890          891         0       3    1  32.0      0      0   7.7500        Q   \n",
       "\n",
       "     Title  Family_size  \n",
       "0        2            2  \n",
       "1        3            2  \n",
       "2        1            1  \n",
       "3        3            2  \n",
       "4        2            1  \n",
       "..     ...          ...  \n",
       "886      4            1  \n",
       "887      1            1  \n",
       "888      1            4  \n",
       "889      2            1  \n",
       "890      2            1  \n",
       "\n",
       "[891 rows x 11 columns]"
      ]
     },
     "execution_count": 31,
     "metadata": {},
     "output_type": "execute_result"
    }
   ],
   "source": [
    "train_up3"
   ]
  },
  {
   "cell_type": "code",
   "execution_count": 32,
   "id": "964a712a",
   "metadata": {
    "execution": {
     "iopub.execute_input": "2024-02-11T14:26:12.607230Z",
     "iopub.status.busy": "2024-02-11T14:26:12.606828Z",
     "iopub.status.idle": "2024-02-11T14:26:12.924243Z",
     "shell.execute_reply": "2024-02-11T14:26:12.923066Z"
    },
    "papermill": {
     "duration": 0.355512,
     "end_time": "2024-02-11T14:26:12.926951",
     "exception": false,
     "start_time": "2024-02-11T14:26:12.571439",
     "status": "completed"
    },
    "tags": []
   },
   "outputs": [
    {
     "data": {
      "image/png": "[encoded data removed]",
      "text/plain": [
       "<Figure size 640x480 with 1 Axes>"
      ]
     },
     "metadata": {},
     "output_type": "display_data"
    }
   ],
   "source": [
    "sns.countplot(x = train_up3[\"Embarked\"], hue = \"Survived\", data = train_up3)\n",
    "plt.title(\"Survived by Embarked\")\n",
    "plt.show()"
   ]
  },
  {
   "cell_type": "code",
   "execution_count": 33,
   "id": "a7fcdec1",
   "metadata": {
    "execution": {
     "iopub.execute_input": "2024-02-11T14:26:12.999160Z",
     "iopub.status.busy": "2024-02-11T14:26:12.998156Z",
     "iopub.status.idle": "2024-02-11T14:26:13.004779Z",
     "shell.execute_reply": "2024-02-11T14:26:13.003918Z"
    },
    "papermill": {
     "duration": 0.045043,
     "end_time": "2024-02-11T14:26:13.007055",
     "exception": false,
     "start_time": "2024-02-11T14:26:12.962012",
     "status": "completed"
    },
    "tags": []
   },
   "outputs": [],
   "source": [
    "# Encode \"Embarked\" column\n",
    "train_up4, test_up4 = label_encode(train_up3, test_up3, column = \"Embarked\")"
   ]
  },
  {
   "cell_type": "code",
   "execution_count": 34,
   "id": "a41dc273",
   "metadata": {
    "execution": {
     "iopub.execute_input": "2024-02-11T14:26:13.077881Z",
     "iopub.status.busy": "2024-02-11T14:26:13.077193Z",
     "iopub.status.idle": "2024-02-11T14:26:13.084260Z",
     "shell.execute_reply": "2024-02-11T14:26:13.083377Z"
    },
    "papermill": {
     "duration": 0.044895,
     "end_time": "2024-02-11T14:26:13.086662",
     "exception": false,
     "start_time": "2024-02-11T14:26:13.041767",
     "status": "completed"
    },
    "tags": []
   },
   "outputs": [],
   "source": [
    "# Fill in one missing \"Fare\" value with median\n",
    "test_up4[\"Fare\"].fillna(train_up4[\"Fare\"].median(), inplace = True)"
   ]
  },
  {
   "cell_type": "code",
   "execution_count": 35,
   "id": "ce6797c6",
   "metadata": {
    "execution": {
     "iopub.execute_input": "2024-02-11T14:26:13.160683Z",
     "iopub.status.busy": "2024-02-11T14:26:13.159973Z",
     "iopub.status.idle": "2024-02-11T14:26:13.173819Z",
     "shell.execute_reply": "2024-02-11T14:26:13.172604Z"
    },
    "papermill": {
     "duration": 0.055536,
     "end_time": "2024-02-11T14:26:13.176710",
     "exception": false,
     "start_time": "2024-02-11T14:26:13.121174",
     "status": "completed"
    },
    "tags": []
   },
   "outputs": [],
   "source": [
    "# Create \"Fare_band\" column from \"Fare\" column\n",
    "train_up4[\"Fare_band\"] = pd.qcut(train_up4[\"Fare\"], 6)"
   ]
  },
  {
   "cell_type": "code",
   "execution_count": 36,
   "id": "53be33e9",
   "metadata": {
    "execution": {
     "iopub.execute_input": "2024-02-11T14:26:13.249973Z",
     "iopub.status.busy": "2024-02-11T14:26:13.249419Z",
     "iopub.status.idle": "2024-02-11T14:26:13.265120Z",
     "shell.execute_reply": "2024-02-11T14:26:13.263705Z"
    },
    "papermill": {
     "duration": 0.053576,
     "end_time": "2024-02-11T14:26:13.267734",
     "exception": false,
     "start_time": "2024-02-11T14:26:13.214158",
     "status": "completed"
    },
    "tags": []
   },
   "outputs": [
    {
     "data": {
      "text/plain": [
       "Fare_band\n",
       "(-0.001, 7.775]      156\n",
       "(7.775, 8.662]       152\n",
       "(8.662, 14.454]      139\n",
       "(14.454, 26.0]       149\n",
       "(26.0, 52.369]       146\n",
       "(52.369, 512.329]    149\n",
       "Name: count, dtype: int64"
      ]
     },
     "execution_count": 36,
     "metadata": {},
     "output_type": "execute_result"
    }
   ],
   "source": [
    "train_up4[\"Fare_band\"].value_counts().sort_index()"
   ]
  },
  {
   "cell_type": "code",
   "execution_count": 37,
   "id": "35b67971",
   "metadata": {
    "execution": {
     "iopub.execute_input": "2024-02-11T14:26:13.337841Z",
     "iopub.status.busy": "2024-02-11T14:26:13.337397Z",
     "iopub.status.idle": "2024-02-11T14:26:13.343189Z",
     "shell.execute_reply": "2024-02-11T14:26:13.342068Z"
    },
    "papermill": {
     "duration": 0.043698,
     "end_time": "2024-02-11T14:26:13.345590",
     "exception": false,
     "start_time": "2024-02-11T14:26:13.301892",
     "status": "completed"
    },
    "tags": []
   },
   "outputs": [],
   "source": [
    "# Create empty \"Fare_band\" column for test df\n",
    "test_up4[\"Fare_band\"] = np.nan"
   ]
  },
  {
   "cell_type": "code",
   "execution_count": 38,
   "id": "3d30bd84",
   "metadata": {
    "execution": {
     "iopub.execute_input": "2024-02-11T14:26:13.417040Z",
     "iopub.status.busy": "2024-02-11T14:26:13.416653Z",
     "iopub.status.idle": "2024-02-11T14:26:13.431019Z",
     "shell.execute_reply": "2024-02-11T14:26:13.430100Z"
    },
    "papermill": {
     "duration": 0.053074,
     "end_time": "2024-02-11T14:26:13.433407",
     "exception": false,
     "start_time": "2024-02-11T14:26:13.380333",
     "status": "completed"
    },
    "tags": []
   },
   "outputs": [],
   "source": [
    "# Split \"Fare\" into \"Fare_band\" for test df same way it did for train df\n",
    "test_up4.loc[test_up4[\"Fare\"] <= 7.775, \"Fare_band\"] = 0\n",
    "test_up4.loc[(test_up4[\"Fare\"] > 7.775) & (test_up4[\"Fare\"] <= 8.662), \"Fare_band\"] = 1\n",
    "test_up4.loc[(test_up4[\"Fare\"] > 8.662) & (test_up4[\"Fare\"] <= 14.454), \"Fare_band\"] = 2\n",
    "test_up4.loc[(test_up4[\"Fare\"] > 14.454) & (test_up4[\"Fare\"] <= 26), \"Fare_band\"] = 3\n",
    "test_up4.loc[(test_up4[\"Fare\"] > 26) & (test_up4[\"Fare\"] <= 52.369), \"Fare_band\"] = 4\n",
    "test_up4.loc[test_up4[\"Fare\"] > 52.369, \"Fare_band\"] = 5"
   ]
  },
  {
   "cell_type": "code",
   "execution_count": 39,
   "id": "204b2d86",
   "metadata": {
    "execution": {
     "iopub.execute_input": "2024-02-11T14:26:13.506303Z",
     "iopub.status.busy": "2024-02-11T14:26:13.505888Z",
     "iopub.status.idle": "2024-02-11T14:26:13.515713Z",
     "shell.execute_reply": "2024-02-11T14:26:13.514532Z"
    },
    "papermill": {
     "duration": 0.049787,
     "end_time": "2024-02-11T14:26:13.517955",
     "exception": false,
     "start_time": "2024-02-11T14:26:13.468168",
     "status": "completed"
    },
    "tags": []
   },
   "outputs": [
    {
     "data": {
      "text/plain": [
       "Fare_band\n",
       "0.0    80\n",
       "3.0    80\n",
       "5.0    75\n",
       "2.0    69\n",
       "1.0    58\n",
       "4.0    56\n",
       "Name: count, dtype: int64"
      ]
     },
     "execution_count": 39,
     "metadata": {},
     "output_type": "execute_result"
    }
   ],
   "source": [
    "test_up4[\"Fare_band\"].value_counts(dropna = False)"
   ]
  },
  {
   "cell_type": "code",
   "execution_count": 40,
   "id": "fc976932",
   "metadata": {
    "execution": {
     "iopub.execute_input": "2024-02-11T14:26:13.588468Z",
     "iopub.status.busy": "2024-02-11T14:26:13.588060Z",
     "iopub.status.idle": "2024-02-11T14:26:13.601010Z",
     "shell.execute_reply": "2024-02-11T14:26:13.599588Z"
    },
    "papermill": {
     "duration": 0.051492,
     "end_time": "2024-02-11T14:26:13.603486",
     "exception": false,
     "start_time": "2024-02-11T14:26:13.551994",
     "status": "completed"
    },
    "tags": []
   },
   "outputs": [],
   "source": [
    "# Transform \"Fare_band\" in train df\n",
    "le = LabelEncoder()\n",
    "train_up4[\"Fare_band\"] = le.fit_transform(train_up4[\"Fare_band\"])\n",
    "\n",
    "# Drop \"Fare\" column from both dfs\n",
    "dataset = [train_up4, test_up4]\n",
    "for data in dataset:\n",
    "    data.drop(columns = [\"Fare\"], inplace = True)"
   ]
  },
  {
   "cell_type": "code",
   "execution_count": 41,
   "id": "477dafa5",
   "metadata": {
    "execution": {
     "iopub.execute_input": "2024-02-11T14:26:13.674064Z",
     "iopub.status.busy": "2024-02-11T14:26:13.673633Z",
     "iopub.status.idle": "2024-02-11T14:26:13.681403Z",
     "shell.execute_reply": "2024-02-11T14:26:13.680217Z"
    },
    "papermill": {
     "duration": 0.045886,
     "end_time": "2024-02-11T14:26:13.683833",
     "exception": false,
     "start_time": "2024-02-11T14:26:13.637947",
     "status": "completed"
    },
    "tags": []
   },
   "outputs": [
    {
     "name": "stdout",
     "output_type": "stream",
     "text": [
      "Label Mapping:\n",
      "(-0.001, 7.775]: 0\n",
      "(7.775, 8.662]: 1\n",
      "(8.662, 14.454]: 2\n",
      "(14.454, 26.0]: 3\n",
      "(26.0, 52.369]: 4\n",
      "(52.369, 512.329]: 5\n"
     ]
    }
   ],
   "source": [
    "# Check if the \"Fare_band\" mapping is the same in test and train dfs\n",
    "label_mapping = dict(zip(le.classes_, le.transform(le.classes_)))\n",
    "\n",
    "# Print the mapping\n",
    "print(\"Label Mapping:\")\n",
    "for label, encoded_label in label_mapping.items():\n",
    "    print(f\"{label}: {encoded_label}\")"
   ]
  },
  {
   "cell_type": "code",
   "execution_count": 42,
   "id": "5acc91e3",
   "metadata": {
    "execution": {
     "iopub.execute_input": "2024-02-11T14:26:13.755653Z",
     "iopub.status.busy": "2024-02-11T14:26:13.755192Z",
     "iopub.status.idle": "2024-02-11T14:26:14.207170Z",
     "shell.execute_reply": "2024-02-11T14:26:14.202067Z"
    },
    "papermill": {
     "duration": 0.492005,
     "end_time": "2024-02-11T14:26:14.211279",
     "exception": false,
     "start_time": "2024-02-11T14:26:13.719274",
     "status": "completed"
    },
    "tags": []
   },
   "outputs": [
    {
     "data": {
      "image/png": "[encoded data removed]",
      "text/plain": [
       "<Figure size 640x480 with 1 Axes>"
      ]
     },
     "metadata": {},
     "output_type": "display_data"
    }
   ],
   "source": [
    "sns.countplot(x = train_up4[\"Fare_band\"], hue = \"Survived\", data = train_up4)\n",
    "plt.title(\"Survived by Fare_band\")\n",
    "plt.show()"
   ]
  },
  {
   "cell_type": "code",
   "execution_count": 43,
   "id": "73025621",
   "metadata": {
    "execution": {
     "iopub.execute_input": "2024-02-11T14:26:14.306370Z",
     "iopub.status.busy": "2024-02-11T14:26:14.305963Z",
     "iopub.status.idle": "2024-02-11T14:26:14.319571Z",
     "shell.execute_reply": "2024-02-11T14:26:14.318541Z"
    },
    "papermill": {
     "duration": 0.062542,
     "end_time": "2024-02-11T14:26:14.322199",
     "exception": false,
     "start_time": "2024-02-11T14:26:14.259657",
     "status": "completed"
    },
    "tags": []
   },
   "outputs": [],
   "source": [
    "# Create quantile base \"Age_qband\" for \"Age\" column\n",
    "for data in dataset:\n",
    "    data[\"Age_qband\"] = pd.qcut(data[\"Age\"], 10)"
   ]
  },
  {
   "cell_type": "code",
   "execution_count": 44,
   "id": "cae44444",
   "metadata": {
    "execution": {
     "iopub.execute_input": "2024-02-11T14:26:14.394699Z",
     "iopub.status.busy": "2024-02-11T14:26:14.394248Z",
     "iopub.status.idle": "2024-02-11T14:26:14.409110Z",
     "shell.execute_reply": "2024-02-11T14:26:14.408219Z"
    },
    "papermill": {
     "duration": 0.053969,
     "end_time": "2024-02-11T14:26:14.411245",
     "exception": false,
     "start_time": "2024-02-11T14:26:14.357276",
     "status": "completed"
    },
    "tags": []
   },
   "outputs": [
    {
     "data": {
      "text/plain": [
       "Age_qband\n",
       "(0.419, 14.0]     77\n",
       "(14.0, 19.0]      87\n",
       "(19.0, 22.0]      67\n",
       "(22.0, 25.0]      70\n",
       "(25.0, 28.0]      61\n",
       "(28.0, 31.8]      66\n",
       "(31.8, 36.0]      91\n",
       "(36.0, 41.0]      53\n",
       "(41.0, 50.0]      78\n",
       "(50.0, 80.0]      64\n",
       "NaN              177\n",
       "Name: count, dtype: int64"
      ]
     },
     "execution_count": 44,
     "metadata": {},
     "output_type": "execute_result"
    }
   ],
   "source": [
    "train_up4[\"Age_qband\"].value_counts(dropna = False).sort_index()"
   ]
  },
  {
   "cell_type": "code",
   "execution_count": 45,
   "id": "25ba7403",
   "metadata": {
    "execution": {
     "iopub.execute_input": "2024-02-11T14:26:14.483442Z",
     "iopub.status.busy": "2024-02-11T14:26:14.483008Z",
     "iopub.status.idle": "2024-02-11T14:26:14.495743Z",
     "shell.execute_reply": "2024-02-11T14:26:14.494534Z"
    },
    "papermill": {
     "duration": 0.05141,
     "end_time": "2024-02-11T14:26:14.497982",
     "exception": false,
     "start_time": "2024-02-11T14:26:14.446572",
     "status": "completed"
    },
    "tags": []
   },
   "outputs": [
    {
     "data": {
      "text/plain": [
       "Age_qband\n",
       "(0.169, 16.1]    34\n",
       "(16.1, 20.0]     35\n",
       "(20.0, 22.0]     33\n",
       "(22.0, 25.0]     40\n",
       "(25.0, 27.0]     25\n",
       "(27.0, 30.0]     33\n",
       "(30.0, 36.0]     36\n",
       "(36.0, 42.0]     30\n",
       "(42.0, 50.0]     35\n",
       "(50.0, 76.0]     31\n",
       "NaN              86\n",
       "Name: count, dtype: int64"
      ]
     },
     "execution_count": 45,
     "metadata": {},
     "output_type": "execute_result"
    }
   ],
   "source": [
    "test_up4[\"Age_qband\"].value_counts(dropna = False).sort_index()"
   ]
  },
  {
   "cell_type": "code",
   "execution_count": 46,
   "id": "3fbebdf1",
   "metadata": {
    "execution": {
     "iopub.execute_input": "2024-02-11T14:26:14.569125Z",
     "iopub.status.busy": "2024-02-11T14:26:14.568716Z",
     "iopub.status.idle": "2024-02-11T14:26:14.598778Z",
     "shell.execute_reply": "2024-02-11T14:26:14.597467Z"
    },
    "papermill": {
     "duration": 0.068993,
     "end_time": "2024-02-11T14:26:14.601600",
     "exception": false,
     "start_time": "2024-02-11T14:26:14.532607",
     "status": "completed"
    },
    "tags": []
   },
   "outputs": [],
   "source": [
    "# Map both dfs based on the train bins\n",
    "for data in dataset:\n",
    "    data[\"New_qage\"] = np.nan\n",
    "    data.loc[data[\"Age\"] <= 14, \"New_qage\"] = 0\n",
    "    data.loc[(data[\"Age\"] > 14) & (data[\"Age\"] <= 19), \"New_qage\"] = 1\n",
    "    data.loc[(data[\"Age\"] > 19) & (data[\"Age\"] <= 22), \"New_qage\"] = 2\n",
    "    data.loc[(data[\"Age\"] > 22) & (data[\"Age\"] <= 25), \"New_qage\"] = 3\n",
    "    data.loc[(data[\"Age\"] > 25) & (data[\"Age\"] <= 28), \"New_qage\"] = 4\n",
    "    data.loc[(data[\"Age\"] > 28) & (data[\"Age\"] <= 31), \"New_qage\"] = 5\n",
    "    data.loc[(data[\"Age\"] > 31) & (data[\"Age\"] <= 36), \"New_qage\"] = 6\n",
    "    data.loc[(data[\"Age\"] > 36) & (data[\"Age\"] <= 41), \"New_qage\"] = 7\n",
    "    data.loc[(data[\"Age\"] > 41) & (data[\"Age\"] <= 50), \"New_qage\"] = 8\n",
    "    data.loc[data[\"Age\"] > 50, \"New_qage\"] = 9\n",
    "    \n",
    "    # Drop \"Age\" and \"Age_qband\" columns\n",
    "    data.drop(columns = [\"Age\", \"Age_qband\"], inplace = True)"
   ]
  },
  {
   "cell_type": "code",
   "execution_count": 47,
   "id": "dac28512",
   "metadata": {
    "execution": {
     "iopub.execute_input": "2024-02-11T14:26:14.673742Z",
     "iopub.status.busy": "2024-02-11T14:26:14.673284Z",
     "iopub.status.idle": "2024-02-11T14:26:14.686431Z",
     "shell.execute_reply": "2024-02-11T14:26:14.685018Z"
    },
    "papermill": {
     "duration": 0.052289,
     "end_time": "2024-02-11T14:26:14.688919",
     "exception": false,
     "start_time": "2024-02-11T14:26:14.636630",
     "status": "completed"
    },
    "tags": []
   },
   "outputs": [
    {
     "name": "stdout",
     "output_type": "stream",
     "text": [
      "<class 'pandas.core.frame.DataFrame'>\n",
      "RangeIndex: 891 entries, 0 to 890\n",
      "Data columns (total 11 columns):\n",
      " #   Column       Non-Null Count  Dtype  \n",
      "---  ------       --------------  -----  \n",
      " 0   PassengerId  891 non-null    int64  \n",
      " 1   Survived     891 non-null    int64  \n",
      " 2   Pclass       891 non-null    int64  \n",
      " 3   Sex          891 non-null    int64  \n",
      " 4   SibSp        891 non-null    int64  \n",
      " 5   Parch        891 non-null    int64  \n",
      " 6   Embarked     891 non-null    int64  \n",
      " 7   Title        891 non-null    int64  \n",
      " 8   Family_size  891 non-null    int64  \n",
      " 9   Fare_band    891 non-null    int64  \n",
      " 10  New_qage     714 non-null    float64\n",
      "dtypes: float64(1), int64(10)\n",
      "memory usage: 76.7 KB\n"
     ]
    }
   ],
   "source": [
    "train_up4.info()"
   ]
  },
  {
   "cell_type": "code",
   "execution_count": 48,
   "id": "def18e33",
   "metadata": {
    "execution": {
     "iopub.execute_input": "2024-02-11T14:26:14.761344Z",
     "iopub.status.busy": "2024-02-11T14:26:14.760905Z",
     "iopub.status.idle": "2024-02-11T14:26:15.057159Z",
     "shell.execute_reply": "2024-02-11T14:26:15.055894Z"
    },
    "papermill": {
     "duration": 0.336287,
     "end_time": "2024-02-11T14:26:15.060437",
     "exception": false,
     "start_time": "2024-02-11T14:26:14.724150",
     "status": "completed"
    },
    "tags": []
   },
   "outputs": [],
   "source": [
    "# Predict \"New_qage\" for the missing values with RandomForestClassifier\n",
    "\n",
    "# Separate missing values\n",
    "train_known_age = train_up4[train_up4[\"New_qage\"].notnull()]\n",
    "train_unknown_age = train_up4[train_up4[\"New_qage\"].isnull()]\n",
    "test_unknown_age = test_up4[test_up4[\"New_qage\"].isnull()]\n",
    "\n",
    "# Features for prediction, selected base on mutual information of \"New_qage\"\n",
    "features = [\"SibSp\", \"Parch\", \"Pclass\", \"Family_size\", \"Title\", \"Fare_band\"]\n",
    "\n",
    "# Train a model to predict \"New_qage\"\n",
    "rf_model = RandomForestClassifier()\n",
    "rf_model.fit(train_known_age[features], train_known_age[\"New_qage\"])\n",
    "\n",
    "# Predict missing \"New_qage\" values\n",
    "predicted_train_age = rf_model.predict(train_unknown_age[features])\n",
    "predicted_test_age = rf_model.predict(test_unknown_age[features])\n",
    "\n",
    "# Fill in missing \"New_qage\" values with predictions\n",
    "train_up4.loc[train_up4[\"New_qage\"].isnull(), \"New_qage\"] = predicted_train_age\n",
    "test_up4.loc[test_up4[\"New_qage\"].isnull(), \"New_qage\"] = predicted_test_age"
   ]
  },
  {
   "cell_type": "code",
   "execution_count": 49,
   "id": "eb61006f",
   "metadata": {
    "execution": {
     "iopub.execute_input": "2024-02-11T14:26:15.136083Z",
     "iopub.status.busy": "2024-02-11T14:26:15.135677Z",
     "iopub.status.idle": "2024-02-11T14:26:15.569770Z",
     "shell.execute_reply": "2024-02-11T14:26:15.568196Z"
    },
    "papermill": {
     "duration": 0.476511,
     "end_time": "2024-02-11T14:26:15.572947",
     "exception": false,
     "start_time": "2024-02-11T14:26:15.096436",
     "status": "completed"
    },
    "tags": []
   },
   "outputs": [
    {
     "data": {
      "image/png": "[encoded data removed]",
      "text/plain": [
       "<Figure size 640x480 with 1 Axes>"
      ]
     },
     "metadata": {},
     "output_type": "display_data"
    }
   ],
   "source": [
    "sns.countplot(x = train_up4[\"New_qage\"], hue = \"Survived\", data = train_up4)\n",
    "plt.title(\"Survived ba New_qage\")\n",
    "plt.show()"
   ]
  },
  {
   "cell_type": "code",
   "execution_count": 50,
   "id": "b49023b7",
   "metadata": {
    "execution": {
     "iopub.execute_input": "2024-02-11T14:26:15.648300Z",
     "iopub.status.busy": "2024-02-11T14:26:15.647791Z",
     "iopub.status.idle": "2024-02-11T14:26:15.656522Z",
     "shell.execute_reply": "2024-02-11T14:26:15.655068Z"
    },
    "papermill": {
     "duration": 0.049778,
     "end_time": "2024-02-11T14:26:15.659774",
     "exception": false,
     "start_time": "2024-02-11T14:26:15.609996",
     "status": "completed"
    },
    "tags": []
   },
   "outputs": [],
   "source": [
    "# Define custom get_mutual_info func\n",
    "def get_mutual_info(df):\n",
    "    from sklearn.feature_selection import mutual_info_classif\n",
    "    MI_df = df.copy(deep = True)\n",
    "    \n",
    "    y = MI_df[\"Survived\"]\n",
    "    X = MI_df.drop(columns = [\"PassengerId\", \"Survived\"])\n",
    "    \n",
    "    MI = mutual_info_classif(X, y)\n",
    "    MI_df = pd.DataFrame(MI, index = X.columns, columns = [\"Mutual_info\"])\n",
    "    MI_df_sorted = MI_df.sort_values(by = \"Mutual_info\")\n",
    "    return MI_df_sorted\n",
    "    "
   ]
  },
  {
   "cell_type": "code",
   "execution_count": 51,
   "id": "fc2fe14a",
   "metadata": {
    "execution": {
     "iopub.execute_input": "2024-02-11T14:26:15.735265Z",
     "iopub.status.busy": "2024-02-11T14:26:15.734853Z",
     "iopub.status.idle": "2024-02-11T14:26:15.745282Z",
     "shell.execute_reply": "2024-02-11T14:26:15.744105Z"
    },
    "papermill": {
     "duration": 0.051457,
     "end_time": "2024-02-11T14:26:15.747896",
     "exception": false,
     "start_time": "2024-02-11T14:26:15.696439",
     "status": "completed"
    },
    "tags": []
   },
   "outputs": [],
   "source": [
    "# Define custom PCA function, takes both dfs, standardizes it and return PCA matrix\n",
    "def stand_PCA(train, test, n_pca = 10):\n",
    "    # import StandardScaler and PCA\n",
    "    from sklearn.preprocessing import StandardScaler\n",
    "    from sklearn.decomposition import PCA\n",
    "    # deep copy\n",
    "    train_df = train.copy(deep = True)\n",
    "    test_df = test.copy(deep = True)\n",
    "    \n",
    "    # remove PassengerId and Survived\n",
    "    train_PId_S = train_df[[\"PassengerId\", \"Survived\"]]\n",
    "    train_df = train_df.drop(columns = [\"PassengerId\", \"Survived\"])\n",
    "    test_PId = test_df[\"PassengerId\"]\n",
    "    test_df = test_df.drop(columns = [\"PassengerId\"])\n",
    "    \n",
    "    # scale all the values\n",
    "    ss = StandardScaler()\n",
    "    train_s = ss.fit_transform(train_df)\n",
    "    test_s = ss.transform(test_df)\n",
    "    \n",
    "    # do PCA\n",
    "    pca = PCA(n_components = n_pca)\n",
    "    train_pca = pca.fit_transform(train_s)\n",
    "    test_pca = pca.transform(test_s)\n",
    "    \n",
    "    # convert to Dataframes and merge together with PassengerId and/ or Survived\n",
    "    column_names = [f\"PC{1 + i}\" for i in range(n_pca)]\n",
    "    train_to_df = pd.DataFrame(train_pca, columns = column_names)\n",
    "    test_to_df = pd.DataFrame(test_pca, columns = column_names)\n",
    "    train_final = pd.merge(train_to_df, train_PId_S, left_index = True, right_index = True, how = \"inner\")\n",
    "    test_final = pd.merge(test_to_df, test_PId, left_index = True, right_index = True, how = \"inner\")\n",
    "    \n",
    "    return train_final, test_final"
   ]
  },
  {
   "cell_type": "code",
   "execution_count": 52,
   "id": "f676e409",
   "metadata": {
    "execution": {
     "iopub.execute_input": "2024-02-11T14:26:15.821468Z",
     "iopub.status.busy": "2024-02-11T14:26:15.821060Z",
     "iopub.status.idle": "2024-02-11T14:26:15.855993Z",
     "shell.execute_reply": "2024-02-11T14:26:15.854793Z"
    },
    "papermill": {
     "duration": 0.075549,
     "end_time": "2024-02-11T14:26:15.858831",
     "exception": false,
     "start_time": "2024-02-11T14:26:15.783282",
     "status": "completed"
    },
    "tags": []
   },
   "outputs": [],
   "source": [
    "number_of_comp = 8\n",
    "final_train_stand, final_test_stand = stand_PCA(train_up4, test_up4, n_pca = number_of_comp)"
   ]
  },
  {
   "cell_type": "code",
   "execution_count": 53,
   "id": "26f51739",
   "metadata": {
    "execution": {
     "iopub.execute_input": "2024-02-11T14:26:15.932838Z",
     "iopub.status.busy": "2024-02-11T14:26:15.932426Z",
     "iopub.status.idle": "2024-02-11T14:26:16.012784Z",
     "shell.execute_reply": "2024-02-11T14:26:16.011688Z"
    },
    "papermill": {
     "duration": 0.119803,
     "end_time": "2024-02-11T14:26:16.015391",
     "exception": false,
     "start_time": "2024-02-11T14:26:15.895588",
     "status": "completed"
    },
    "tags": []
   },
   "outputs": [
    {
     "data": {
      "text/html": [
       "<div>\n",
       "<style scoped>\n",
       "    .dataframe tbody tr th:only-of-type {\n",
       "        vertical-align: middle;\n",
       "    }\n",
       "\n",
       "    .dataframe tbody tr th {\n",
       "        vertical-align: top;\n",
       "    }\n",
       "\n",
       "    .dataframe thead th {\n",
       "        text-align: right;\n",
       "    }\n",
       "</style>\n",
       "<table border=\"1\" class=\"dataframe\">\n",
       "  <thead>\n",
       "    <tr style=\"text-align: right;\">\n",
       "      <th></th>\n",
       "      <th>Mutual_info</th>\n",
       "    </tr>\n",
       "  </thead>\n",
       "  <tbody>\n",
       "    <tr>\n",
       "      <th>SibSp</th>\n",
       "      <td>0.000000</td>\n",
       "    </tr>\n",
       "    <tr>\n",
       "      <th>Embarked</th>\n",
       "      <td>0.000000</td>\n",
       "    </tr>\n",
       "    <tr>\n",
       "      <th>Parch</th>\n",
       "      <td>0.003085</td>\n",
       "    </tr>\n",
       "    <tr>\n",
       "      <th>New_qage</th>\n",
       "      <td>0.012716</td>\n",
       "    </tr>\n",
       "    <tr>\n",
       "      <th>Pclass</th>\n",
       "      <td>0.045382</td>\n",
       "    </tr>\n",
       "    <tr>\n",
       "      <th>Family_size</th>\n",
       "      <td>0.049234</td>\n",
       "    </tr>\n",
       "    <tr>\n",
       "      <th>Fare_band</th>\n",
       "      <td>0.054879</td>\n",
       "    </tr>\n",
       "    <tr>\n",
       "      <th>Sex</th>\n",
       "      <td>0.157929</td>\n",
       "    </tr>\n",
       "    <tr>\n",
       "      <th>Title</th>\n",
       "      <td>0.165288</td>\n",
       "    </tr>\n",
       "  </tbody>\n",
       "</table>\n",
       "</div>"
      ],
      "text/plain": [
       "             Mutual_info\n",
       "SibSp           0.000000\n",
       "Embarked        0.000000\n",
       "Parch           0.003085\n",
       "New_qage        0.012716\n",
       "Pclass          0.045382\n",
       "Family_size     0.049234\n",
       "Fare_band       0.054879\n",
       "Sex             0.157929\n",
       "Title           0.165288"
      ]
     },
     "execution_count": 53,
     "metadata": {},
     "output_type": "execute_result"
    }
   ],
   "source": [
    "mi = get_mutual_info(train_up4)\n",
    "mi"
   ]
  },
  {
   "cell_type": "code",
   "execution_count": 54,
   "id": "5e5fc68b",
   "metadata": {
    "execution": {
     "iopub.execute_input": "2024-02-11T14:26:16.091986Z",
     "iopub.status.busy": "2024-02-11T14:26:16.091463Z",
     "iopub.status.idle": "2024-02-11T14:26:16.152440Z",
     "shell.execute_reply": "2024-02-11T14:26:16.151194Z"
    },
    "papermill": {
     "duration": 0.103266,
     "end_time": "2024-02-11T14:26:16.155126",
     "exception": false,
     "start_time": "2024-02-11T14:26:16.051860",
     "status": "completed"
    },
    "tags": []
   },
   "outputs": [
    {
     "data": {
      "text/html": [
       "<div>\n",
       "<style scoped>\n",
       "    .dataframe tbody tr th:only-of-type {\n",
       "        vertical-align: middle;\n",
       "    }\n",
       "\n",
       "    .dataframe tbody tr th {\n",
       "        vertical-align: top;\n",
       "    }\n",
       "\n",
       "    .dataframe thead th {\n",
       "        text-align: right;\n",
       "    }\n",
       "</style>\n",
       "<table border=\"1\" class=\"dataframe\">\n",
       "  <thead>\n",
       "    <tr style=\"text-align: right;\">\n",
       "      <th></th>\n",
       "      <th>Mutual_info</th>\n",
       "    </tr>\n",
       "  </thead>\n",
       "  <tbody>\n",
       "    <tr>\n",
       "      <th>PC7</th>\n",
       "      <td>0.119650</td>\n",
       "    </tr>\n",
       "    <tr>\n",
       "      <th>PC8</th>\n",
       "      <td>0.121853</td>\n",
       "    </tr>\n",
       "    <tr>\n",
       "      <th>PC4</th>\n",
       "      <td>0.158255</td>\n",
       "    </tr>\n",
       "    <tr>\n",
       "      <th>PC5</th>\n",
       "      <td>0.160444</td>\n",
       "    </tr>\n",
       "    <tr>\n",
       "      <th>PC2</th>\n",
       "      <td>0.161133</td>\n",
       "    </tr>\n",
       "    <tr>\n",
       "      <th>PC6</th>\n",
       "      <td>0.162060</td>\n",
       "    </tr>\n",
       "    <tr>\n",
       "      <th>PC1</th>\n",
       "      <td>0.177087</td>\n",
       "    </tr>\n",
       "    <tr>\n",
       "      <th>PC3</th>\n",
       "      <td>0.198375</td>\n",
       "    </tr>\n",
       "  </tbody>\n",
       "</table>\n",
       "</div>"
      ],
      "text/plain": [
       "     Mutual_info\n",
       "PC7     0.119650\n",
       "PC8     0.121853\n",
       "PC4     0.158255\n",
       "PC5     0.160444\n",
       "PC2     0.161133\n",
       "PC6     0.162060\n",
       "PC1     0.177087\n",
       "PC3     0.198375"
      ]
     },
     "execution_count": 54,
     "metadata": {},
     "output_type": "execute_result"
    }
   ],
   "source": [
    "s_mi = get_mutual_info(final_train_stand)\n",
    "s_mi"
   ]
  },
  {
   "cell_type": "code",
   "execution_count": 55,
   "id": "6ef12f4a",
   "metadata": {
    "execution": {
     "iopub.execute_input": "2024-02-11T14:26:16.231960Z",
     "iopub.status.busy": "2024-02-11T14:26:16.231538Z",
     "iopub.status.idle": "2024-02-11T14:26:16.252983Z",
     "shell.execute_reply": "2024-02-11T14:26:16.251793Z"
    },
    "papermill": {
     "duration": 0.063471,
     "end_time": "2024-02-11T14:26:16.255498",
     "exception": false,
     "start_time": "2024-02-11T14:26:16.192027",
     "status": "completed"
    },
    "tags": []
   },
   "outputs": [
    {
     "data": {
      "text/html": [
       "<div>\n",
       "<style scoped>\n",
       "    .dataframe tbody tr th:only-of-type {\n",
       "        vertical-align: middle;\n",
       "    }\n",
       "\n",
       "    .dataframe tbody tr th {\n",
       "        vertical-align: top;\n",
       "    }\n",
       "\n",
       "    .dataframe thead th {\n",
       "        text-align: right;\n",
       "    }\n",
       "</style>\n",
       "<table border=\"1\" class=\"dataframe\">\n",
       "  <thead>\n",
       "    <tr style=\"text-align: right;\">\n",
       "      <th></th>\n",
       "      <th>PC1</th>\n",
       "      <th>PC2</th>\n",
       "      <th>PC3</th>\n",
       "      <th>PC4</th>\n",
       "      <th>PC5</th>\n",
       "      <th>PC6</th>\n",
       "      <th>PC7</th>\n",
       "      <th>PC8</th>\n",
       "      <th>PassengerId</th>\n",
       "      <th>Survived</th>\n",
       "    </tr>\n",
       "  </thead>\n",
       "  <tbody>\n",
       "    <tr>\n",
       "      <th>0</th>\n",
       "      <td>-0.470516</td>\n",
       "      <td>-1.764533</td>\n",
       "      <td>-0.747532</td>\n",
       "      <td>-0.182950</td>\n",
       "      <td>-0.256015</td>\n",
       "      <td>-0.535559</td>\n",
       "      <td>-0.201402</td>\n",
       "      <td>-0.556296</td>\n",
       "      <td>1</td>\n",
       "      <td>0</td>\n",
       "    </tr>\n",
       "    <tr>\n",
       "      <th>1</th>\n",
       "      <td>0.325405</td>\n",
       "      <td>3.035414</td>\n",
       "      <td>1.273883</td>\n",
       "      <td>0.324280</td>\n",
       "      <td>-1.094194</td>\n",
       "      <td>-1.128341</td>\n",
       "      <td>0.085485</td>\n",
       "      <td>0.012357</td>\n",
       "      <td>2</td>\n",
       "      <td>1</td>\n",
       "    </tr>\n",
       "    <tr>\n",
       "      <th>2</th>\n",
       "      <td>-0.540665</td>\n",
       "      <td>-1.199943</td>\n",
       "      <td>0.722285</td>\n",
       "      <td>1.219893</td>\n",
       "      <td>1.062317</td>\n",
       "      <td>-0.074292</td>\n",
       "      <td>0.872734</td>\n",
       "      <td>0.121313</td>\n",
       "      <td>3</td>\n",
       "      <td>1</td>\n",
       "    </tr>\n",
       "    <tr>\n",
       "      <th>3</th>\n",
       "      <td>0.422576</td>\n",
       "      <td>2.501795</td>\n",
       "      <td>-0.290364</td>\n",
       "      <td>0.847721</td>\n",
       "      <td>0.669727</td>\n",
       "      <td>-1.276710</td>\n",
       "      <td>-0.479280</td>\n",
       "      <td>-0.012825</td>\n",
       "      <td>4</td>\n",
       "      <td>1</td>\n",
       "    </tr>\n",
       "    <tr>\n",
       "      <th>4</th>\n",
       "      <td>-1.364071</td>\n",
       "      <td>-0.731461</td>\n",
       "      <td>-0.889933</td>\n",
       "      <td>-0.001310</td>\n",
       "      <td>-0.059628</td>\n",
       "      <td>0.174992</td>\n",
       "      <td>0.474027</td>\n",
       "      <td>0.180481</td>\n",
       "      <td>5</td>\n",
       "      <td>0</td>\n",
       "    </tr>\n",
       "    <tr>\n",
       "      <th>...</th>\n",
       "      <td>...</td>\n",
       "      <td>...</td>\n",
       "      <td>...</td>\n",
       "      <td>...</td>\n",
       "      <td>...</td>\n",
       "      <td>...</td>\n",
       "      <td>...</td>\n",
       "      <td>...</td>\n",
       "      <td>...</td>\n",
       "      <td>...</td>\n",
       "    </tr>\n",
       "    <tr>\n",
       "      <th>886</th>\n",
       "      <td>-1.500792</td>\n",
       "      <td>0.806821</td>\n",
       "      <td>-1.473909</td>\n",
       "      <td>0.397930</td>\n",
       "      <td>-0.827882</td>\n",
       "      <td>-0.654607</td>\n",
       "      <td>-1.600277</td>\n",
       "      <td>-0.291491</td>\n",
       "      <td>887</td>\n",
       "      <td>0</td>\n",
       "    </tr>\n",
       "    <tr>\n",
       "      <th>887</th>\n",
       "      <td>0.282923</td>\n",
       "      <td>0.617192</td>\n",
       "      <td>1.546372</td>\n",
       "      <td>0.242249</td>\n",
       "      <td>2.251600</td>\n",
       "      <td>-0.259998</td>\n",
       "      <td>-0.747243</td>\n",
       "      <td>-0.261880</td>\n",
       "      <td>888</td>\n",
       "      <td>1</td>\n",
       "    </tr>\n",
       "    <tr>\n",
       "      <th>888</th>\n",
       "      <td>2.755248</td>\n",
       "      <td>-1.323798</td>\n",
       "      <td>0.430913</td>\n",
       "      <td>1.195979</td>\n",
       "      <td>0.550945</td>\n",
       "      <td>0.900605</td>\n",
       "      <td>-0.363713</td>\n",
       "      <td>0.199356</td>\n",
       "      <td>889</td>\n",
       "      <td>0</td>\n",
       "    </tr>\n",
       "    <tr>\n",
       "      <th>889</th>\n",
       "      <td>-0.637653</td>\n",
       "      <td>1.619293</td>\n",
       "      <td>1.498401</td>\n",
       "      <td>-1.502395</td>\n",
       "      <td>-0.634266</td>\n",
       "      <td>0.137654</td>\n",
       "      <td>-0.581186</td>\n",
       "      <td>-0.177529</td>\n",
       "      <td>890</td>\n",
       "      <td>1</td>\n",
       "    </tr>\n",
       "    <tr>\n",
       "      <th>890</th>\n",
       "      <td>-1.563674</td>\n",
       "      <td>-0.836817</td>\n",
       "      <td>-0.092125</td>\n",
       "      <td>-0.154618</td>\n",
       "      <td>-1.039750</td>\n",
       "      <td>0.245578</td>\n",
       "      <td>0.746476</td>\n",
       "      <td>-0.235117</td>\n",
       "      <td>891</td>\n",
       "      <td>0</td>\n",
       "    </tr>\n",
       "  </tbody>\n",
       "</table>\n",
       "<p>891 rows × 10 columns</p>\n",
       "</div>"
      ],
      "text/plain": [
       "          PC1       PC2       PC3       PC4       PC5       PC6       PC7  \\\n",
       "0   -0.470516 -1.764533 -0.747532 -0.182950 -0.256015 -0.535559 -0.201402   \n",
       "1    0.325405  3.035414  1.273883  0.324280 -1.094194 -1.128341  0.085485   \n",
       "2   -0.540665 -1.199943  0.722285  1.219893  1.062317 -0.074292  0.872734   \n",
       "3    0.422576  2.501795 -0.290364  0.847721  0.669727 -1.276710 -0.479280   \n",
       "4   -1.364071 -0.731461 -0.889933 -0.001310 -0.059628  0.174992  0.474027   \n",
       "..        ...       ...       ...       ...       ...       ...       ...   \n",
       "886 -1.500792  0.806821 -1.473909  0.397930 -0.827882 -0.654607 -1.600277   \n",
       "887  0.282923  0.617192  1.546372  0.242249  2.251600 -0.259998 -0.747243   \n",
       "888  2.755248 -1.323798  0.430913  1.195979  0.550945  0.900605 -0.363713   \n",
       "889 -0.637653  1.619293  1.498401 -1.502395 -0.634266  0.137654 -0.581186   \n",
       "890 -1.563674 -0.836817 -0.092125 -0.154618 -1.039750  0.245578  0.746476   \n",
       "\n",
       "          PC8  PassengerId  Survived  \n",
       "0   -0.556296            1         0  \n",
       "1    0.012357            2         1  \n",
       "2    0.121313            3         1  \n",
       "3   -0.012825            4         1  \n",
       "4    0.180481            5         0  \n",
       "..        ...          ...       ...  \n",
       "886 -0.291491          887         0  \n",
       "887 -0.261880          888         1  \n",
       "888  0.199356          889         0  \n",
       "889 -0.177529          890         1  \n",
       "890 -0.235117          891         0  \n",
       "\n",
       "[891 rows x 10 columns]"
      ]
     },
     "execution_count": 55,
     "metadata": {},
     "output_type": "execute_result"
    }
   ],
   "source": [
    "final_train_stand"
   ]
  },
  {
   "cell_type": "code",
   "execution_count": 56,
   "id": "307a91d8",
   "metadata": {
    "execution": {
     "iopub.execute_input": "2024-02-11T14:26:16.333005Z",
     "iopub.status.busy": "2024-02-11T14:26:16.332557Z",
     "iopub.status.idle": "2024-02-11T14:26:16.340570Z",
     "shell.execute_reply": "2024-02-11T14:26:16.339718Z"
    },
    "papermill": {
     "duration": 0.050049,
     "end_time": "2024-02-11T14:26:16.342751",
     "exception": false,
     "start_time": "2024-02-11T14:26:16.292702",
     "status": "completed"
    },
    "tags": []
   },
   "outputs": [],
   "source": [
    "y_pca = final_train_stand[\"Survived\"]\n",
    "X_pca = final_train_stand[[f\"PC{1 + i}\" for i in range(number_of_comp)]]\n",
    "\n",
    "\n",
    "y = train_up4[\"Survived\"]\n",
    "X = train_up4[[\"Title\", \"Sex\", \"Fare_band\", \"Family_size\", \"Pclass\", \"New_qage\", \"Parch\", \"SibSp\", \"Embarked\"]]\n"
   ]
  },
  {
   "cell_type": "code",
   "execution_count": 57,
   "id": "933332b6",
   "metadata": {
    "execution": {
     "iopub.execute_input": "2024-02-11T14:26:16.420375Z",
     "iopub.status.busy": "2024-02-11T14:26:16.419718Z",
     "iopub.status.idle": "2024-02-11T14:26:16.429127Z",
     "shell.execute_reply": "2024-02-11T14:26:16.428057Z"
    },
    "papermill": {
     "duration": 0.051537,
     "end_time": "2024-02-11T14:26:16.431736",
     "exception": false,
     "start_time": "2024-02-11T14:26:16.380199",
     "status": "completed"
    },
    "tags": []
   },
   "outputs": [],
   "source": [
    "# Compare model to see how various different models perform with default parameters\n",
    "def get_classifiers_scores(X, y):\n",
    "    models = [RandomForestClassifier(random_state = 42), \n",
    "                   GradientBoostingClassifier(random_state = 42), \n",
    "                   AdaBoostClassifier(random_state = 42), \n",
    "                   BaggingClassifier(random_state = 42),\n",
    "                   ExtraTreesClassifier(random_state = 42),\n",
    "                   HistGradientBoostingClassifier(random_state = 42),\n",
    "                   DecisionTreeClassifier(random_state = 42),\n",
    "                   SVC(random_state = 42),\n",
    "                   XGBClassifier(random_state = 42)]\n",
    "    classifiers = [\"RandomForestClassifier\",\n",
    "                   \"GradientBoostingClassifier\",\n",
    "                   \"AdaBoostClassifier\",\n",
    "                   \"BaggingClassifier\",\n",
    "                   \"ExtraTreesClassifier\",\n",
    "                   \"HistGradientBoostingClassifier\",\n",
    "                   \"DecisionTreeClassifier\",\n",
    "                   \"SVC\",\n",
    "                   \"xgb\"]\n",
    "\n",
    "    cv_mean = []\n",
    "    cv_std = []\n",
    "\n",
    "    for model in models:\n",
    "        model = model\n",
    "        cv = cross_val_score(model,X,y,cv=10)\n",
    "        cv_std.append(cv.std())\n",
    "        cv_mean.append(cv.mean())\n",
    "\n",
    "    cv_dataframe = pd.DataFrame({\"CV Mean\": cv_mean,\"Std\": cv_std}, index = classifiers)       \n",
    "    cv_dataframe = cv_dataframe.sort_values(by = [\"CV Mean\"], ascending = False)\n",
    "    return cv_dataframe\n"
   ]
  },
  {
   "cell_type": "code",
   "execution_count": 58,
   "id": "92c809fb",
   "metadata": {
    "execution": {
     "iopub.execute_input": "2024-02-11T14:26:16.507547Z",
     "iopub.status.busy": "2024-02-11T14:26:16.506803Z",
     "iopub.status.idle": "2024-02-11T14:26:30.300011Z",
     "shell.execute_reply": "2024-02-11T14:26:30.299002Z"
    },
    "papermill": {
     "duration": 13.833977,
     "end_time": "2024-02-11T14:26:30.302998",
     "exception": false,
     "start_time": "2024-02-11T14:26:16.469021",
     "status": "completed"
    },
    "tags": []
   },
   "outputs": [
    {
     "data": {
      "text/html": [
       "<div>\n",
       "<style scoped>\n",
       "    .dataframe tbody tr th:only-of-type {\n",
       "        vertical-align: middle;\n",
       "    }\n",
       "\n",
       "    .dataframe tbody tr th {\n",
       "        vertical-align: top;\n",
       "    }\n",
       "\n",
       "    .dataframe thead th {\n",
       "        text-align: right;\n",
       "    }\n",
       "</style>\n",
       "<table border=\"1\" class=\"dataframe\">\n",
       "  <thead>\n",
       "    <tr style=\"text-align: right;\">\n",
       "      <th></th>\n",
       "      <th>CV Mean</th>\n",
       "      <th>Std</th>\n",
       "    </tr>\n",
       "  </thead>\n",
       "  <tbody>\n",
       "    <tr>\n",
       "      <th>SVC</th>\n",
       "      <td>0.829401</td>\n",
       "      <td>0.035476</td>\n",
       "    </tr>\n",
       "    <tr>\n",
       "      <th>GradientBoostingClassifier</th>\n",
       "      <td>0.827216</td>\n",
       "      <td>0.039947</td>\n",
       "    </tr>\n",
       "    <tr>\n",
       "      <th>HistGradientBoostingClassifier</th>\n",
       "      <td>0.818265</td>\n",
       "      <td>0.046079</td>\n",
       "    </tr>\n",
       "    <tr>\n",
       "      <th>AdaBoostClassifier</th>\n",
       "      <td>0.814806</td>\n",
       "      <td>0.026280</td>\n",
       "    </tr>\n",
       "    <tr>\n",
       "      <th>xgb</th>\n",
       "      <td>0.811523</td>\n",
       "      <td>0.039324</td>\n",
       "    </tr>\n",
       "    <tr>\n",
       "      <th>RandomForestClassifier</th>\n",
       "      <td>0.810362</td>\n",
       "      <td>0.034000</td>\n",
       "    </tr>\n",
       "    <tr>\n",
       "      <th>ExtraTreesClassifier</th>\n",
       "      <td>0.805880</td>\n",
       "      <td>0.034526</td>\n",
       "    </tr>\n",
       "    <tr>\n",
       "      <th>BaggingClassifier</th>\n",
       "      <td>0.801411</td>\n",
       "      <td>0.035788</td>\n",
       "    </tr>\n",
       "    <tr>\n",
       "      <th>DecisionTreeClassifier</th>\n",
       "      <td>0.785655</td>\n",
       "      <td>0.032577</td>\n",
       "    </tr>\n",
       "  </tbody>\n",
       "</table>\n",
       "</div>"
      ],
      "text/plain": [
       "                                 CV Mean       Std\n",
       "SVC                             0.829401  0.035476\n",
       "GradientBoostingClassifier      0.827216  0.039947\n",
       "HistGradientBoostingClassifier  0.818265  0.046079\n",
       "AdaBoostClassifier              0.814806  0.026280\n",
       "xgb                             0.811523  0.039324\n",
       "RandomForestClassifier          0.810362  0.034000\n",
       "ExtraTreesClassifier            0.805880  0.034526\n",
       "BaggingClassifier               0.801411  0.035788\n",
       "DecisionTreeClassifier          0.785655  0.032577"
      ]
     },
     "execution_count": 58,
     "metadata": {},
     "output_type": "execute_result"
    }
   ],
   "source": [
    "get_classifiers_scores(X, y)"
   ]
  },
  {
   "cell_type": "code",
   "execution_count": 59,
   "id": "d7ceff5c",
   "metadata": {
    "execution": {
     "iopub.execute_input": "2024-02-11T14:26:30.381656Z",
     "iopub.status.busy": "2024-02-11T14:26:30.380464Z",
     "iopub.status.idle": "2024-02-11T14:26:47.319996Z",
     "shell.execute_reply": "2024-02-11T14:26:47.319040Z"
    },
    "papermill": {
     "duration": 16.982855,
     "end_time": "2024-02-11T14:26:47.322827",
     "exception": false,
     "start_time": "2024-02-11T14:26:30.339972",
     "status": "completed"
    },
    "tags": []
   },
   "outputs": [
    {
     "data": {
      "text/html": [
       "<div>\n",
       "<style scoped>\n",
       "    .dataframe tbody tr th:only-of-type {\n",
       "        vertical-align: middle;\n",
       "    }\n",
       "\n",
       "    .dataframe tbody tr th {\n",
       "        vertical-align: top;\n",
       "    }\n",
       "\n",
       "    .dataframe thead th {\n",
       "        text-align: right;\n",
       "    }\n",
       "</style>\n",
       "<table border=\"1\" class=\"dataframe\">\n",
       "  <thead>\n",
       "    <tr style=\"text-align: right;\">\n",
       "      <th></th>\n",
       "      <th>CV Mean</th>\n",
       "      <th>Std</th>\n",
       "    </tr>\n",
       "  </thead>\n",
       "  <tbody>\n",
       "    <tr>\n",
       "      <th>SVC</th>\n",
       "      <td>0.830524</td>\n",
       "      <td>0.034624</td>\n",
       "    </tr>\n",
       "    <tr>\n",
       "      <th>GradientBoostingClassifier</th>\n",
       "      <td>0.809226</td>\n",
       "      <td>0.036094</td>\n",
       "    </tr>\n",
       "    <tr>\n",
       "      <th>AdaBoostClassifier</th>\n",
       "      <td>0.805880</td>\n",
       "      <td>0.028519</td>\n",
       "    </tr>\n",
       "    <tr>\n",
       "      <th>xgb</th>\n",
       "      <td>0.802522</td>\n",
       "      <td>0.036288</td>\n",
       "    </tr>\n",
       "    <tr>\n",
       "      <th>HistGradientBoostingClassifier</th>\n",
       "      <td>0.801411</td>\n",
       "      <td>0.039797</td>\n",
       "    </tr>\n",
       "    <tr>\n",
       "      <th>RandomForestClassifier</th>\n",
       "      <td>0.800275</td>\n",
       "      <td>0.037198</td>\n",
       "    </tr>\n",
       "    <tr>\n",
       "      <th>ExtraTreesClassifier</th>\n",
       "      <td>0.799139</td>\n",
       "      <td>0.035085</td>\n",
       "    </tr>\n",
       "    <tr>\n",
       "      <th>BaggingClassifier</th>\n",
       "      <td>0.798015</td>\n",
       "      <td>0.032302</td>\n",
       "    </tr>\n",
       "    <tr>\n",
       "      <th>DecisionTreeClassifier</th>\n",
       "      <td>0.781111</td>\n",
       "      <td>0.038182</td>\n",
       "    </tr>\n",
       "  </tbody>\n",
       "</table>\n",
       "</div>"
      ],
      "text/plain": [
       "                                 CV Mean       Std\n",
       "SVC                             0.830524  0.034624\n",
       "GradientBoostingClassifier      0.809226  0.036094\n",
       "AdaBoostClassifier              0.805880  0.028519\n",
       "xgb                             0.802522  0.036288\n",
       "HistGradientBoostingClassifier  0.801411  0.039797\n",
       "RandomForestClassifier          0.800275  0.037198\n",
       "ExtraTreesClassifier            0.799139  0.035085\n",
       "BaggingClassifier               0.798015  0.032302\n",
       "DecisionTreeClassifier          0.781111  0.038182"
      ]
     },
     "execution_count": 59,
     "metadata": {},
     "output_type": "execute_result"
    }
   ],
   "source": [
    "get_classifiers_scores(X_pca, y_pca)"
   ]
  },
  {
   "cell_type": "code",
   "execution_count": 60,
   "id": "0175fdbe",
   "metadata": {
    "execution": {
     "iopub.execute_input": "2024-02-11T14:26:47.400502Z",
     "iopub.status.busy": "2024-02-11T14:26:47.399634Z",
     "iopub.status.idle": "2024-02-11T14:26:47.408072Z",
     "shell.execute_reply": "2024-02-11T14:26:47.406996Z"
    },
    "papermill": {
     "duration": 0.04913,
     "end_time": "2024-02-11T14:26:47.410338",
     "exception": false,
     "start_time": "2024-02-11T14:26:47.361208",
     "status": "completed"
    },
    "tags": []
   },
   "outputs": [
    {
     "data": {
      "text/plain": [
       "'\\nfrom sklearn.tree import plot_tree\\nfrom sklearn.tree import export_graphviz\\nimport graphviz\\n\\n#plot_tree(full_data_model.estimators_[0])\\n#plt.show()\\ntree = full_data_model.estimators_[0]\\n\\ndot_data = export_graphviz(tree, feature_names = [\"Title\", \"Sex\", \"Fare_band\", \"Family_size\", \"Pclass\", \"New_qage\", \"Parch\", \"SibSp\", \"Embarked\"],\\n                          class_names = [\"0\", \"1\"], filled = True, proportion = False, rounded = True)\\ngraph = graphviz.Source(dot_data)\\n'"
      ]
     },
     "execution_count": 60,
     "metadata": {},
     "output_type": "execute_result"
    }
   ],
   "source": [
    "# Vizialization of diferent trees\n",
    "\"\"\"\n",
    "from sklearn.tree import plot_tree\n",
    "from sklearn.tree import export_graphviz\n",
    "import graphviz\n",
    "\n",
    "#plot_tree(full_data_model.estimators_[0])\n",
    "#plt.show()\n",
    "tree = full_data_model.estimators_[0]\n",
    "\n",
    "dot_data = export_graphviz(tree, feature_names = [\"Title\", \"Sex\", \"Fare_band\", \"Family_size\", \"Pclass\", \"New_qage\", \"Parch\", \"SibSp\", \"Embarked\"],\n",
    "                          class_names = [\"0\", \"1\"], filled = True, proportion = False, rounded = True)\n",
    "graph = graphviz.Source(dot_data)\n",
    "\"\"\""
   ]
  },
  {
   "cell_type": "markdown",
   "id": "dac9e3b0",
   "metadata": {
    "papermill": {
     "duration": 0.038508,
     "end_time": "2024-02-11T14:26:47.486041",
     "exception": false,
     "start_time": "2024-02-11T14:26:47.447533",
     "status": "completed"
    },
    "tags": []
   },
   "source": [
    "## Hyper parameter tuning\n",
    "- note: I will commet out all the code so it does not run when saving since it takes a long time"
   ]
  },
  {
   "cell_type": "code",
   "execution_count": 61,
   "id": "ac7e4e90",
   "metadata": {
    "execution": {
     "iopub.execute_input": "2024-02-11T14:26:47.563588Z",
     "iopub.status.busy": "2024-02-11T14:26:47.563151Z",
     "iopub.status.idle": "2024-02-11T14:26:47.568855Z",
     "shell.execute_reply": "2024-02-11T14:26:47.567703Z"
    },
    "papermill": {
     "duration": 0.046467,
     "end_time": "2024-02-11T14:26:47.571341",
     "exception": false,
     "start_time": "2024-02-11T14:26:47.524874",
     "status": "completed"
    },
    "tags": []
   },
   "outputs": [],
   "source": [
    "# Decision Tree Classifier\n",
    "\n",
    "# parameters = {\"max_depth\":range(1,30), \n",
    "#               \"criterion\": [\"entropy\", \"gini\"]}\n",
    "# \n",
    "# dt_tune = GridSearchCV(estimator=DecisionTreeClassifier(random_state = 42), \n",
    "#                         param_grid=parameters, \n",
    "#                         verbose=False, \n",
    "#                         cv=10,\n",
    "#                         n_jobs = -1)\n",
    "# \n",
    "# dt_tune.fit(X, y) \n",
    "# \n",
    "# dt_model = dt_tune.best_estimator_\n",
    "# \n",
    "# print (dt_tune.best_score_)\n",
    "# print (dt_tune.best_params_)\n",
    "# print (dt_tune.best_estimator_)"
   ]
  },
  {
   "cell_type": "code",
   "execution_count": 62,
   "id": "70608b10",
   "metadata": {
    "execution": {
     "iopub.execute_input": "2024-02-11T14:26:47.648767Z",
     "iopub.status.busy": "2024-02-11T14:26:47.648349Z",
     "iopub.status.idle": "2024-02-11T14:26:47.653245Z",
     "shell.execute_reply": "2024-02-11T14:26:47.652154Z"
    },
    "papermill": {
     "duration": 0.046732,
     "end_time": "2024-02-11T14:26:47.655704",
     "exception": false,
     "start_time": "2024-02-11T14:26:47.608972",
     "status": "completed"
    },
    "tags": []
   },
   "outputs": [],
   "source": [
    "# After running this code:\n",
    "# 0.8282771535580524\n",
    "# {'criterion': 'entropy', 'max_depth': 3}\n",
    "# DecisionTreeClassifier(criterion='entropy', max_depth=3, random_state=42)"
   ]
  },
  {
   "cell_type": "code",
   "execution_count": 63,
   "id": "a1a6bf9e",
   "metadata": {
    "execution": {
     "iopub.execute_input": "2024-02-11T14:26:47.733757Z",
     "iopub.status.busy": "2024-02-11T14:26:47.733357Z",
     "iopub.status.idle": "2024-02-11T14:26:47.738100Z",
     "shell.execute_reply": "2024-02-11T14:26:47.737221Z"
    },
    "papermill": {
     "duration": 0.046879,
     "end_time": "2024-02-11T14:26:47.740292",
     "exception": false,
     "start_time": "2024-02-11T14:26:47.693413",
     "status": "completed"
    },
    "tags": []
   },
   "outputs": [],
   "source": [
    "# Support Vector Classifier\n",
    "\n",
    "# parameters = {\"kernel\": [\"rbf\"], \n",
    "#               \"gamma\": [0.01,0.02,0.05,0.1,0.5],\n",
    "#               \"C\": [0.1, 0.5,1,2,3,4,5,6,7,8]},\n",
    "# \n",
    "# svc_tune = GridSearchCV(SVC(probability=True, random_state = 42), \n",
    "#                          param_grid=parameters, \n",
    "#                          cv=10) \n",
    "# \n",
    "# svc_tune.fit(X,y)\n",
    "# \n",
    "# svc_model = svc_tune.best_estimator_\n",
    "# \n",
    "# print(svc_tune.best_score_)\n",
    "# print(svc_tune.best_params_)\n",
    "# print(svc_tune.best_estimator_)"
   ]
  },
  {
   "cell_type": "code",
   "execution_count": 64,
   "id": "b5f4922d",
   "metadata": {
    "execution": {
     "iopub.execute_input": "2024-02-11T14:26:47.820298Z",
     "iopub.status.busy": "2024-02-11T14:26:47.819664Z",
     "iopub.status.idle": "2024-02-11T14:26:47.824055Z",
     "shell.execute_reply": "2024-02-11T14:26:47.823140Z"
    },
    "papermill": {
     "duration": 0.046183,
     "end_time": "2024-02-11T14:26:47.826386",
     "exception": false,
     "start_time": "2024-02-11T14:26:47.780203",
     "status": "completed"
    },
    "tags": []
   },
   "outputs": [],
   "source": [
    "# After running this code:\n",
    "# 0.8316479400749064\n",
    "# {'C': 2, 'gamma': 0.02, 'kernel': 'rbf'}\n",
    "# SVC(C=2, gamma=0.02, probability=True, random_state=42)\n"
   ]
  },
  {
   "cell_type": "code",
   "execution_count": 65,
   "id": "eb8c6205",
   "metadata": {
    "execution": {
     "iopub.execute_input": "2024-02-11T14:26:47.903793Z",
     "iopub.status.busy": "2024-02-11T14:26:47.903358Z",
     "iopub.status.idle": "2024-02-11T14:26:47.908741Z",
     "shell.execute_reply": "2024-02-11T14:26:47.907550Z"
    },
    "papermill": {
     "duration": 0.047069,
     "end_time": "2024-02-11T14:26:47.911272",
     "exception": false,
     "start_time": "2024-02-11T14:26:47.864203",
     "status": "completed"
    },
    "tags": []
   },
   "outputs": [],
   "source": [
    "#Extream Gradient Boosting Classifier\n",
    "\n",
    "# parameters = {'n_estimators':[100,200,300,400,500],\n",
    "#               'max_depth':range(1,10),\n",
    "#               'learning_rate': [0.01,0.02,0.05,1],\n",
    "#               'colsample_bytree': [0.75,0.8,0.85],\n",
    "#               'subsample': [0.55, 0.6, 0.65,0.7],\n",
    "#               'min_child_weight':[0.01,0.1]\n",
    "#               }\n",
    "# \n",
    "# xgb_tune = GridSearchCV(estimator=XGBClassifier(random_state = 42),\n",
    "#                           param_grid=parameters,\n",
    "#                           cv=5,\n",
    "#                           n_jobs = -1)\n",
    "# xgb_tune.fit(X,y) \n",
    "# \n",
    "# print ('XGB Best score :', xgb_tune.best_score_)\n",
    "# print ('XGB Best parameter :', xgb_tune.best_params_)\n",
    "# print ('XGB Best estimator :', xgb_tune.best_estimator_)"
   ]
  },
  {
   "cell_type": "code",
   "execution_count": 66,
   "id": "bfd60db9",
   "metadata": {
    "execution": {
     "iopub.execute_input": "2024-02-11T14:26:47.990869Z",
     "iopub.status.busy": "2024-02-11T14:26:47.990414Z",
     "iopub.status.idle": "2024-02-11T14:26:47.996335Z",
     "shell.execute_reply": "2024-02-11T14:26:47.994996Z"
    },
    "papermill": {
     "duration": 0.049287,
     "end_time": "2024-02-11T14:26:47.998885",
     "exception": false,
     "start_time": "2024-02-11T14:26:47.949598",
     "status": "completed"
    },
    "tags": []
   },
   "outputs": [],
   "source": [
    "# After running this code:\n",
    "# XGB Best score : 0.8350260498399347\n",
    "# XGB Best parameter : {'colsample_bytree': 0.8, 'learning_rate': 0.05, 'max_depth': 2, 'min_child_weight': 0.01, 'n_estimators': 400, 'subsample': 0.55}\n",
    "# XGB Best estimator : XGBClassifier(base_score=None, booster=None, callbacks=None,\n",
    "#             colsample_bylevel=None, colsample_bynode=None,\n",
    "#              colsample_bytree=0.8, device=None, early_stopping_rounds=None,\n",
    "#              enable_categorical=False, eval_metric=None, feature_types=None,\n",
    "#              gamma=None, grow_policy=None, importance_type=None,\n",
    "#              interaction_constraints=None, learning_rate=0.05, max_bin=None,\n",
    "#              max_cat_threshold=None, max_cat_to_onehot=None,\n",
    "#              max_delta_step=None, max_depth=2, max_leaves=None,\n",
    "#              min_child_weight=0.01, missing=nan, monotone_constraints=None,\n",
    "#              multi_strategy=None, n_estimators=400, n_jobs=None,\n",
    "#              num_parallel_tree=None, random_state=42, ...)"
   ]
  },
  {
   "cell_type": "code",
   "execution_count": 67,
   "id": "60a1d57e",
   "metadata": {
    "execution": {
     "iopub.execute_input": "2024-02-11T14:26:48.078777Z",
     "iopub.status.busy": "2024-02-11T14:26:48.077892Z",
     "iopub.status.idle": "2024-02-11T14:26:48.083606Z",
     "shell.execute_reply": "2024-02-11T14:26:48.082660Z"
    },
    "papermill": {
     "duration": 0.048703,
     "end_time": "2024-02-11T14:26:48.086012",
     "exception": false,
     "start_time": "2024-02-11T14:26:48.037309",
     "status": "completed"
    },
    "tags": []
   },
   "outputs": [],
   "source": [
    "# # Random Forest Classifier\n",
    "\n",
    "# parameters = {'n_estimators':[100,200,300,400,500],\n",
    "#               'max_depth':range(1,10),\n",
    "#               'min_samples_leaf': [2,4,6,8,10],\n",
    "#               'min_samples_split': [2,4,6,8,10,12,14,16,20],\n",
    "#               'criterion': ['gini', 'entropy']\n",
    "#              }\n",
    "# \n",
    "# rf_tune = GridSearchCV(estimator=RandomForestClassifier(random_state = 42),\n",
    "#                          param_grid=parameters,\n",
    "#                          cv=5,\n",
    "#                          n_jobs = -1)\n",
    "# \n",
    "# rf_tune.fit(X,y) \n",
    "# \n",
    "# print ('RF best score :' , rf_tune.best_score_)\n",
    "# print ('RF Best parameter :' , rf_tune.best_params_)\n",
    "# print ('RF Best estimator :',rf_tune.best_estimator_)"
   ]
  },
  {
   "cell_type": "code",
   "execution_count": 68,
   "id": "23c62d1b",
   "metadata": {
    "execution": {
     "iopub.execute_input": "2024-02-11T14:26:48.165069Z",
     "iopub.status.busy": "2024-02-11T14:26:48.164349Z",
     "iopub.status.idle": "2024-02-11T14:26:48.168914Z",
     "shell.execute_reply": "2024-02-11T14:26:48.167895Z"
    },
    "papermill": {
     "duration": 0.04676,
     "end_time": "2024-02-11T14:26:48.171335",
     "exception": false,
     "start_time": "2024-02-11T14:26:48.124575",
     "status": "completed"
    },
    "tags": []
   },
   "outputs": [],
   "source": [
    "# After running this code:\n",
    "# RF best score : 0.8349946644906158\n",
    "# RF Best parameter : {'criterion': 'gini', 'max_depth': 3, 'min_samples_leaf': 2, 'min_samples_split': 2, 'n_estimators': 200}\n",
    "# RF Best estimator : RandomForestClassifier(max_depth=3, min_samples_leaf=2, n_estimators=200,\n",
    "#                        random_state=42)"
   ]
  },
  {
   "cell_type": "code",
   "execution_count": 69,
   "id": "2b03394f",
   "metadata": {
    "execution": {
     "iopub.execute_input": "2024-02-11T14:26:48.250796Z",
     "iopub.status.busy": "2024-02-11T14:26:48.249398Z",
     "iopub.status.idle": "2024-02-11T14:26:48.255516Z",
     "shell.execute_reply": "2024-02-11T14:26:48.254538Z"
    },
    "papermill": {
     "duration": 0.048633,
     "end_time": "2024-02-11T14:26:48.258022",
     "exception": false,
     "start_time": "2024-02-11T14:26:48.209389",
     "status": "completed"
    },
    "tags": []
   },
   "outputs": [],
   "source": [
    "# Gradient Boosting Classifier\n",
    "\n",
    "# parameters = {'n_estimators':[100,200,300,400,500],\n",
    "#               'max_depth':range(1,10),\n",
    "#               'learning_rate': [0.01,0.02,0.05,1]\n",
    "#               }\n",
    "# \n",
    "# gbm_tune = GridSearchCV(estimator=GradientBoostingClassifier(random_state = 42),\n",
    "#                          param_grid=parameters,\n",
    "#                          cv=5,\n",
    "#                          n_jobs = -1)\n",
    "# \n",
    "# gbm_tune.fit(X,y) \n",
    "# \n",
    "# print ('GBM best score :', gbm_tune.best_score_)\n",
    "# print ('GBM best parameters :', gbm_tune.best_params_)\n",
    "# print ('GBM best estimator :', gbm_tune.best_estimator_)"
   ]
  },
  {
   "cell_type": "code",
   "execution_count": 70,
   "id": "36d72e35",
   "metadata": {
    "execution": {
     "iopub.execute_input": "2024-02-11T14:26:48.334885Z",
     "iopub.status.busy": "2024-02-11T14:26:48.334333Z",
     "iopub.status.idle": "2024-02-11T14:26:48.340576Z",
     "shell.execute_reply": "2024-02-11T14:26:48.338363Z"
    },
    "papermill": {
     "duration": 0.047223,
     "end_time": "2024-02-11T14:26:48.343175",
     "exception": false,
     "start_time": "2024-02-11T14:26:48.295952",
     "status": "completed"
    },
    "tags": []
   },
   "outputs": [],
   "source": [
    "# After running this code:\n",
    "# GBM best score : 0.8372606867114432\n",
    "# GBM best parameters : {'learning_rate': 0.01, 'max_depth': 3, 'n_estimators': 100}\n",
    "# GBM best estimator : GradientBoostingClassifier(learning_rate=0.01, random_state=42)"
   ]
  },
  {
   "cell_type": "code",
   "execution_count": 71,
   "id": "a8b8d2f6",
   "metadata": {
    "execution": {
     "iopub.execute_input": "2024-02-11T14:26:48.421546Z",
     "iopub.status.busy": "2024-02-11T14:26:48.420765Z",
     "iopub.status.idle": "2024-02-11T14:26:48.425676Z",
     "shell.execute_reply": "2024-02-11T14:26:48.424772Z"
    },
    "papermill": {
     "duration": 0.046688,
     "end_time": "2024-02-11T14:26:48.427952",
     "exception": false,
     "start_time": "2024-02-11T14:26:48.381264",
     "status": "completed"
    },
    "tags": []
   },
   "outputs": [],
   "source": [
    "# Extra Trees Classifier\n",
    "\n",
    "# parameters = {'n_estimators':[100,200,300,500,1000],\n",
    "#               'max_depth':range(1,10),\n",
    "#               'criterion': ['gini', 'entropy']\n",
    "#                }\n",
    "# \n",
    "# et_tune = GridSearchCV(estimator=ExtraTreesClassifier(random_state = 42),\n",
    "#                                  param_grid=parameters,\n",
    "#                                  cv=5,\n",
    "#                                  n_jobs = -1)\n",
    "# et_tune.fit(X,y) \n",
    "# \n",
    "# et_model = et_tune.best_estimator_\n",
    "# \n",
    "# print (et_tune.best_score_)\n",
    "# print (et_tune.best_params_)\n",
    "# print (et_tune.best_estimator_)"
   ]
  },
  {
   "cell_type": "code",
   "execution_count": 72,
   "id": "1987eb5e",
   "metadata": {
    "execution": {
     "iopub.execute_input": "2024-02-11T14:26:48.505703Z",
     "iopub.status.busy": "2024-02-11T14:26:48.504975Z",
     "iopub.status.idle": "2024-02-11T14:26:48.509321Z",
     "shell.execute_reply": "2024-02-11T14:26:48.508233Z"
    },
    "papermill": {
     "duration": 0.045443,
     "end_time": "2024-02-11T14:26:48.511650",
     "exception": false,
     "start_time": "2024-02-11T14:26:48.466207",
     "status": "completed"
    },
    "tags": []
   },
   "outputs": [],
   "source": [
    "# After running this code:\n",
    "# 0.8282719226664993\n",
    "# {'criterion': 'gini', 'max_depth': 5, 'n_estimators': 100}\n",
    "# ExtraTreesClassifier(max_depth=5, random_state=42)"
   ]
  },
  {
   "cell_type": "code",
   "execution_count": 73,
   "id": "3b71d2b0",
   "metadata": {
    "execution": {
     "iopub.execute_input": "2024-02-11T14:26:48.589180Z",
     "iopub.status.busy": "2024-02-11T14:26:48.588429Z",
     "iopub.status.idle": "2024-02-11T14:26:48.592927Z",
     "shell.execute_reply": "2024-02-11T14:26:48.592146Z"
    },
    "papermill": {
     "duration": 0.046471,
     "end_time": "2024-02-11T14:26:48.595176",
     "exception": false,
     "start_time": "2024-02-11T14:26:48.548705",
     "status": "completed"
    },
    "tags": []
   },
   "outputs": [],
   "source": [
    "# Ada Boost Classifier\n",
    "\n",
    "# parameters = {'n_estimators':[100,200,300,500,1000],\n",
    "#               'learning_rate':[0.01,0.02,0.5]\n",
    "#               }\n",
    "# \n",
    "# adb_tune = GridSearchCV(AdaBoostClassifier(random_state = 42),\n",
    "#                                  param_grid=parameters,\n",
    "#                                  cv=5,\n",
    "#                                  n_jobs = -1)\n",
    "# adb_tune.fit(X,y) \n",
    "# \n",
    "# adb_model = adb_tune.best_estimator_\n",
    "# \n",
    "# print (adb_tune.best_score_)\n",
    "# print (adb_tune.best_params_)\n",
    "# print (adb_tune.best_estimator_)"
   ]
  },
  {
   "cell_type": "code",
   "execution_count": 74,
   "id": "7e50e8dd",
   "metadata": {
    "execution": {
     "iopub.execute_input": "2024-02-11T14:26:48.674879Z",
     "iopub.status.busy": "2024-02-11T14:26:48.674461Z",
     "iopub.status.idle": "2024-02-11T14:26:48.679268Z",
     "shell.execute_reply": "2024-02-11T14:26:48.678088Z"
    },
    "papermill": {
     "duration": 0.048329,
     "end_time": "2024-02-11T14:26:48.682353",
     "exception": false,
     "start_time": "2024-02-11T14:26:48.634024",
     "status": "completed"
    },
    "tags": []
   },
   "outputs": [],
   "source": [
    "# After running this code:\n",
    "# 0.8282781997363632\n",
    "# {'learning_rate': 0.01, 'n_estimators': 1000}\n",
    "# AdaBoostClassifier(learning_rate=0.01, n_estimators=1000, random_state=42)"
   ]
  },
  {
   "cell_type": "code",
   "execution_count": 75,
   "id": "5f66302f",
   "metadata": {
    "execution": {
     "iopub.execute_input": "2024-02-11T14:26:48.759567Z",
     "iopub.status.busy": "2024-02-11T14:26:48.758853Z",
     "iopub.status.idle": "2024-02-11T14:26:48.773689Z",
     "shell.execute_reply": "2024-02-11T14:26:48.772754Z"
    },
    "papermill": {
     "duration": 0.056142,
     "end_time": "2024-02-11T14:26:48.776007",
     "exception": false,
     "start_time": "2024-02-11T14:26:48.719865",
     "status": "completed"
    },
    "tags": []
   },
   "outputs": [
    {
     "data": {
      "text/html": [
       "<div>\n",
       "<style scoped>\n",
       "    .dataframe tbody tr th:only-of-type {\n",
       "        vertical-align: middle;\n",
       "    }\n",
       "\n",
       "    .dataframe tbody tr th {\n",
       "        vertical-align: top;\n",
       "    }\n",
       "\n",
       "    .dataframe thead th {\n",
       "        text-align: right;\n",
       "    }\n",
       "</style>\n",
       "<table border=\"1\" class=\"dataframe\">\n",
       "  <thead>\n",
       "    <tr style=\"text-align: right;\">\n",
       "      <th></th>\n",
       "      <th>Model</th>\n",
       "      <th>Score</th>\n",
       "    </tr>\n",
       "  </thead>\n",
       "  <tbody>\n",
       "    <tr>\n",
       "      <th>1</th>\n",
       "      <td>GBM</td>\n",
       "      <td>0.83726</td>\n",
       "    </tr>\n",
       "    <tr>\n",
       "      <th>0</th>\n",
       "      <td>XGB</td>\n",
       "      <td>0.83502</td>\n",
       "    </tr>\n",
       "    <tr>\n",
       "      <th>3</th>\n",
       "      <td>RF</td>\n",
       "      <td>0.83499</td>\n",
       "    </tr>\n",
       "    <tr>\n",
       "      <th>4</th>\n",
       "      <td>SVC</td>\n",
       "      <td>0.83164</td>\n",
       "    </tr>\n",
       "    <tr>\n",
       "      <th>2</th>\n",
       "      <td>ET</td>\n",
       "      <td>0.82827</td>\n",
       "    </tr>\n",
       "    <tr>\n",
       "      <th>5</th>\n",
       "      <td>DT</td>\n",
       "      <td>0.82827</td>\n",
       "    </tr>\n",
       "    <tr>\n",
       "      <th>6</th>\n",
       "      <td>ADB</td>\n",
       "      <td>0.82827</td>\n",
       "    </tr>\n",
       "  </tbody>\n",
       "</table>\n",
       "</div>"
      ],
      "text/plain": [
       "  Model    Score\n",
       "1   GBM  0.83726\n",
       "0   XGB  0.83502\n",
       "3    RF  0.83499\n",
       "4   SVC  0.83164\n",
       "2    ET  0.82827\n",
       "5    DT  0.82827\n",
       "6   ADB  0.82827"
      ]
     },
     "execution_count": 75,
     "metadata": {},
     "output_type": "execute_result"
    }
   ],
   "source": [
    "scores_list=[]\n",
    "\n",
    "scores_list = [[\"XGB\",0.83502],\n",
    "               [\"GBM\",0.83726],\n",
    "               [\"ET\",0.82827],\n",
    "               [\"RF\",0.83499], \n",
    "               [\"SVC\",0.83164],\n",
    "               [\"DT\",0.82827],\n",
    "               [\"ADB\",0.82827],\n",
    "              ]\n",
    "\n",
    "scores = (pd.DataFrame(scores_list,columns = [\"Model\", \"Score\"])).sort_values(by=[\"Score\"], ascending=False )\n",
    "\n",
    "scores"
   ]
  },
  {
   "cell_type": "markdown",
   "id": "45590ac6",
   "metadata": {
    "papermill": {
     "duration": 0.037596,
     "end_time": "2024-02-11T14:26:48.851849",
     "exception": false,
     "start_time": "2024-02-11T14:26:48.814253",
     "status": "completed"
    },
    "tags": []
   },
   "source": [
    "## Voting"
   ]
  },
  {
   "cell_type": "code",
   "execution_count": 76,
   "id": "7da6d83d",
   "metadata": {
    "execution": {
     "iopub.execute_input": "2024-02-11T14:26:48.929558Z",
     "iopub.status.busy": "2024-02-11T14:26:48.928857Z",
     "iopub.status.idle": "2024-02-11T14:27:00.947773Z",
     "shell.execute_reply": "2024-02-11T14:27:00.946535Z"
    },
    "papermill": {
     "duration": 12.060473,
     "end_time": "2024-02-11T14:27:00.950456",
     "exception": false,
     "start_time": "2024-02-11T14:26:48.889983",
     "status": "completed"
    },
    "tags": []
   },
   "outputs": [
    {
     "data": {
      "text/plain": [
       "0.8350187265917602"
      ]
     },
     "execution_count": 76,
     "metadata": {},
     "output_type": "execute_result"
    }
   ],
   "source": [
    "# Voting Classifier\n",
    "\n",
    "rf_model = RandomForestClassifier(max_depth=3, min_samples_leaf=2, n_estimators=200, random_state=42)\n",
    "gbm_model = GradientBoostingClassifier(learning_rate=0.01, random_state=42)\n",
    "xgb_model = XGBClassifier(colsample_bytree = 0.8, learning_rate = 0.05, max_depth = 2, min_child_weight = 0.01, n_estimators = 400, subsample = 0.55, random_state = 42)\n",
    "svc_model = SVC(C=2, gamma=0.02, probability=True, random_state=42)\n",
    "et_model = ExtraTreesClassifier(max_depth=5, random_state=42)\n",
    "# Define estimators\n",
    "estimators = [('RF',rf_model),\n",
    "              ('GBM',gbm_model),\n",
    "              #('DT',dt_model),\n",
    "              ('SVC',svc_model), \n",
    "              ('XGB', xgb_model),\n",
    "              ('ET',et_model),\n",
    "              #('ADB',adb_model),\n",
    "             ]\n",
    "\n",
    "voting_model = VotingClassifier(estimators=estimators,\n",
    "                                voting='soft')\n",
    "\n",
    "voting_soft = voting_model.fit(X, y)\n",
    "\n",
    "voting_cv = cross_val_score(voting_model,X,y, cv = 10,\n",
    "                            scoring = \"accuracy\").mean()\n",
    "\n",
    "voting_cv"
   ]
  },
  {
   "cell_type": "markdown",
   "id": "6625436e",
   "metadata": {
    "papermill": {
     "duration": 0.038801,
     "end_time": "2024-02-11T14:27:01.026970",
     "exception": false,
     "start_time": "2024-02-11T14:27:00.988169",
     "status": "completed"
    },
    "tags": []
   },
   "source": [
    "## Stacking"
   ]
  },
  {
   "cell_type": "code",
   "execution_count": 77,
   "id": "fe18d212",
   "metadata": {
    "execution": {
     "iopub.execute_input": "2024-02-11T14:27:01.105115Z",
     "iopub.status.busy": "2024-02-11T14:27:01.104688Z",
     "iopub.status.idle": "2024-02-11T14:27:53.348145Z",
     "shell.execute_reply": "2024-02-11T14:27:53.346826Z"
    },
    "papermill": {
     "duration": 52.32649,
     "end_time": "2024-02-11T14:27:53.391957",
     "exception": false,
     "start_time": "2024-02-11T14:27:01.065467",
     "status": "completed"
    },
    "tags": []
   },
   "outputs": [
    {
     "data": {
      "text/plain": [
       "0.8282896379525593"
      ]
     },
     "execution_count": 77,
     "metadata": {},
     "output_type": "execute_result"
    }
   ],
   "source": [
    "# Stacking Classifier\n",
    "\n",
    "estimators = [('RF',rf_model),\n",
    "              ('GBM',gbm_model),\n",
    "              #('DT',dt_model),\n",
    "              #('SVC',svc_model), \n",
    "              ('XGB', xgb_model),\n",
    "              #('ET',et_model),\n",
    "              #('ADB',adb_model),\n",
    "             ]\n",
    "\n",
    "stacked_model = StackingClassifier(estimators=estimators)\n",
    "\n",
    "stacked_model.fit(X, y)\n",
    "\n",
    "stacked_cv = cross_val_score(stacked_model,X,y, cv = 10,\n",
    "                             scoring = \"accuracy\").mean()\n",
    "\n",
    "stacked_cv"
   ]
  },
  {
   "cell_type": "code",
   "execution_count": 78,
   "id": "89add086",
   "metadata": {
    "execution": {
     "iopub.execute_input": "2024-02-11T14:27:53.471703Z",
     "iopub.status.busy": "2024-02-11T14:27:53.471292Z",
     "iopub.status.idle": "2024-02-11T14:27:53.973761Z",
     "shell.execute_reply": "2024-02-11T14:27:53.972624Z"
    },
    "papermill": {
     "duration": 0.546041,
     "end_time": "2024-02-11T14:27:53.976632",
     "exception": false,
     "start_time": "2024-02-11T14:27:53.430591",
     "status": "completed"
    },
    "tags": []
   },
   "outputs": [],
   "source": [
    "full_data_model = RandomForestClassifier(max_depth=3, min_samples_leaf=2, n_estimators=200, random_state=42)\n",
    "full_data_model.fit(X, y)\n",
    "test_pred = full_data_model.predict(test_up4[[\"Title\", \"Sex\", \"Fare_band\", \"Family_size\", \"Pclass\", \"New_qage\", \"Parch\", \"SibSp\", \"Embarked\"]])"
   ]
  },
  {
   "cell_type": "code",
   "execution_count": 79,
   "id": "f20d6c32",
   "metadata": {
    "execution": {
     "iopub.execute_input": "2024-02-11T14:27:54.054857Z",
     "iopub.status.busy": "2024-02-11T14:27:54.054391Z",
     "iopub.status.idle": "2024-02-11T14:27:54.065913Z",
     "shell.execute_reply": "2024-02-11T14:27:54.064458Z"
    },
    "papermill": {
     "duration": 0.054232,
     "end_time": "2024-02-11T14:27:54.068663",
     "exception": false,
     "start_time": "2024-02-11T14:27:54.014431",
     "status": "completed"
    },
    "tags": []
   },
   "outputs": [],
   "source": [
    "\n",
    "output = pd.DataFrame({\"PassengerId\": final_test_stand.PassengerId,\n",
    "                      \"Survived\": test_pred})\n",
    "output.to_csv(\"RF_final_submission\", index=False)\n"
   ]
  },
  {
   "cell_type": "markdown",
   "id": "9be91280",
   "metadata": {
    "papermill": {
     "duration": 0.039782,
     "end_time": "2024-02-11T14:27:54.146719",
     "exception": false,
     "start_time": "2024-02-11T14:27:54.106937",
     "status": "completed"
    },
    "tags": []
   },
   "source": [
    "## Public score after submission\n",
    "\n",
    "- Public score of **Random forest: 0.77751**\n",
    "- Public score of Gradient boosting: 0.77511\n",
    "- Public score of Support vector: 0.77511\n",
    "- Public score of Extra trees: 0.77511\n",
    "- Public score of Decision tree: 0.77511\n",
    "- Public score of Ada boosting: 0.77511\n",
    "- Public score of Extreme gradient boosting: 0.76794\n",
    "\n",
    "\n",
    "- Public score of Voting_5: 0.77033\n",
    "- Public score of Stacking_3: 0.76794\n",
    "- Public score of Voting_3: 0.76794\n",
    "- Public score of Stacking_5: 0.76555"
   ]
  }
 ],
 "metadata": {
  "kaggle": {
   "accelerator": "none",
   "dataSources": [
    {
     "databundleVersionId": 26502,
     "sourceId": 3136,
     "sourceType": "competition"
    }
   ],
   "dockerImageVersionId": 30635,
   "isGpuEnabled": false,
   "isInternetEnabled": true,
   "language": "python",
   "sourceType": "notebook"
  },
  "kernelspec": {
   "display_name": "Python 3",
   "language": "python",
   "name": "python3"
  },
  "language_info": {
   "codemirror_mode": {
    "name": "ipython",
    "version": 3
   },
   "file_extension": ".py",
   "mimetype": "text/x-python",
   "name": "python",
   "nbconvert_exporter": "python",
   "pygments_lexer": "ipython3",
   "version": "3.10.12"
  },
  "papermill": {
   "default_parameters": {},
   "duration": 117.264907,
   "end_time": "2024-02-11T14:27:55.008913",
   "environment_variables": {},
   "exception": null,
   "input_path": "__notebook__.ipynb",
   "output_path": "__notebook__.ipynb",
   "parameters": {},
   "start_time": "2024-02-11T14:25:57.744006",
   "version": "2.4.0"
  }
 },
 "nbformat": 4,
 "nbformat_minor": 5
}
