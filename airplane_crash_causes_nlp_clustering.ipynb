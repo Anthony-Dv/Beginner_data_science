{
 "cells": [
  {
   "cell_type": "markdown",
   "id": "aad5e17f",
   "metadata": {
    "papermill": {
     "duration": 0.01129,
     "end_time": "2024-04-09T16:22:08.140539",
     "exception": false,
     "start_time": "2024-04-09T16:22:08.129249",
     "status": "completed"
    },
    "tags": []
   },
   "source": [
    "# Using simple NLP, TfidfVectorizer to cluster \"Summary\" column\n",
    "\n",
    "Goal of this project is to cluster \"Summary\" column in orded to understand different reasons for airplane crashes, I created 10 clusters and after analysing them I extraced different reasons for crashes listed bellow.\n",
    "\n",
    "## These are the cluster created:\n",
    "- Cluster 0: Mountain crash in poor weather conditions\n",
    "- Cluster 1: Unknown cause of crash\n",
    "- Cluster 2: Engine failure\n",
    "- Cluster 3: Crash on landing\n",
    "- Cluster 4: Poor weather conditions/visibility\n",
    "- Cluster 5: Cause of crash missing\n",
    "- Cluster 6: Undetermined crash on route\n",
    "- Cluster 7: Crash of cargo plane\n",
    "- Cluster 8: Crash on the takeoff\n",
    "- Cluster 9: Pilot lost controll\n",
    "\n",
    "\n",
    "It is not perfect and there is much more work to do. I should probably explore some different and more complex NLP alghorithms or classifiers."
   ]
  },
  {
   "cell_type": "code",
   "execution_count": 1,
   "id": "b1a4e389",
   "metadata": {
    "execution": {
     "iopub.execute_input": "2024-04-09T16:22:08.162576Z",
     "iopub.status.busy": "2024-04-09T16:22:08.162186Z",
     "iopub.status.idle": "2024-04-09T16:22:11.133061Z",
     "shell.execute_reply": "2024-04-09T16:22:11.132029Z"
    },
    "papermill": {
     "duration": 2.985279,
     "end_time": "2024-04-09T16:22:11.136079",
     "exception": false,
     "start_time": "2024-04-09T16:22:08.150800",
     "status": "completed"
    },
    "tags": []
   },
   "outputs": [],
   "source": [
    "# load libraries\n",
    "import pandas as pd\n",
    "import numpy as np\n",
    "import matplotlib.pyplot as plt\n",
    "import seaborn as sns\n",
    "%matplotlib inline\n",
    "import missingno as msno\n",
    "from datetime import date, timedelta, datetime\n",
    "\n",
    "#import nltk\n",
    "import re\n",
    "from nltk.tokenize import word_tokenize\n",
    "from nltk.corpus import stopwords\n",
    "\n",
    "from collections import Counter\n",
    "from sklearn.feature_extraction.text import TfidfVectorizer\n",
    "from sklearn.feature_extraction.text import CountVectorizer"
   ]
  },
  {
   "cell_type": "code",
   "execution_count": 2,
   "id": "e9ef4d29",
   "metadata": {
    "execution": {
     "iopub.execute_input": "2024-04-09T16:22:11.158920Z",
     "iopub.status.busy": "2024-04-09T16:22:11.157858Z",
     "iopub.status.idle": "2024-04-09T16:22:11.251722Z",
     "shell.execute_reply": "2024-04-09T16:22:11.250792Z"
    },
    "papermill": {
     "duration": 0.107863,
     "end_time": "2024-04-09T16:22:11.254311",
     "exception": false,
     "start_time": "2024-04-09T16:22:11.146448",
     "status": "completed"
    },
    "tags": []
   },
   "outputs": [],
   "source": [
    "# read dataset\n",
    "data = pd.read_csv(\"/kaggle/input/airplane-crashes-since-1908-csv/Airplane_Crashes_Since_1908.csv\")"
   ]
  },
  {
   "cell_type": "code",
   "execution_count": 3,
   "id": "0edbbcc5",
   "metadata": {
    "execution": {
     "iopub.execute_input": "2024-04-09T16:22:11.277957Z",
     "iopub.status.busy": "2024-04-09T16:22:11.277577Z",
     "iopub.status.idle": "2024-04-09T16:22:11.309584Z",
     "shell.execute_reply": "2024-04-09T16:22:11.308469Z"
    },
    "papermill": {
     "duration": 0.046063,
     "end_time": "2024-04-09T16:22:11.311857",
     "exception": false,
     "start_time": "2024-04-09T16:22:11.265794",
     "status": "completed"
    },
    "tags": []
   },
   "outputs": [
    {
     "data": {
      "text/html": [
       "<div>\n",
       "<style scoped>\n",
       "    .dataframe tbody tr th:only-of-type {\n",
       "        vertical-align: middle;\n",
       "    }\n",
       "\n",
       "    .dataframe tbody tr th {\n",
       "        vertical-align: top;\n",
       "    }\n",
       "\n",
       "    .dataframe thead th {\n",
       "        text-align: right;\n",
       "    }\n",
       "</style>\n",
       "<table border=\"1\" class=\"dataframe\">\n",
       "  <thead>\n",
       "    <tr style=\"text-align: right;\">\n",
       "      <th></th>\n",
       "      <th>Date</th>\n",
       "      <th>Time</th>\n",
       "      <th>Location</th>\n",
       "      <th>Operator</th>\n",
       "      <th>Flight #</th>\n",
       "      <th>Route</th>\n",
       "      <th>Type</th>\n",
       "      <th>Registration</th>\n",
       "      <th>cn/In</th>\n",
       "      <th>Aboard</th>\n",
       "      <th>Fatalities</th>\n",
       "      <th>Ground</th>\n",
       "      <th>Summary</th>\n",
       "    </tr>\n",
       "  </thead>\n",
       "  <tbody>\n",
       "    <tr>\n",
       "      <th>0</th>\n",
       "      <td>09/17/1908</td>\n",
       "      <td>17:18</td>\n",
       "      <td>Fort Myer, Virginia</td>\n",
       "      <td>Military - U.S. Army</td>\n",
       "      <td>NaN</td>\n",
       "      <td>Demonstration</td>\n",
       "      <td>Wright Flyer III</td>\n",
       "      <td>NaN</td>\n",
       "      <td>1</td>\n",
       "      <td>2.0</td>\n",
       "      <td>1.0</td>\n",
       "      <td>0.0</td>\n",
       "      <td>During a demonstration flight, a U.S. Army fly...</td>\n",
       "    </tr>\n",
       "    <tr>\n",
       "      <th>1</th>\n",
       "      <td>07/12/1912</td>\n",
       "      <td>06:30</td>\n",
       "      <td>AtlantiCity, New Jersey</td>\n",
       "      <td>Military - U.S. Navy</td>\n",
       "      <td>NaN</td>\n",
       "      <td>Test flight</td>\n",
       "      <td>Dirigible</td>\n",
       "      <td>NaN</td>\n",
       "      <td>NaN</td>\n",
       "      <td>5.0</td>\n",
       "      <td>5.0</td>\n",
       "      <td>0.0</td>\n",
       "      <td>First U.S. dirigible Akron exploded just offsh...</td>\n",
       "    </tr>\n",
       "    <tr>\n",
       "      <th>2</th>\n",
       "      <td>08/06/1913</td>\n",
       "      <td>NaN</td>\n",
       "      <td>Victoria, British Columbia, Canada</td>\n",
       "      <td>Private</td>\n",
       "      <td>-</td>\n",
       "      <td>NaN</td>\n",
       "      <td>Curtiss seaplane</td>\n",
       "      <td>NaN</td>\n",
       "      <td>NaN</td>\n",
       "      <td>1.0</td>\n",
       "      <td>1.0</td>\n",
       "      <td>0.0</td>\n",
       "      <td>The first fatal airplane accident in Canada oc...</td>\n",
       "    </tr>\n",
       "    <tr>\n",
       "      <th>3</th>\n",
       "      <td>09/09/1913</td>\n",
       "      <td>18:30</td>\n",
       "      <td>Over the North Sea</td>\n",
       "      <td>Military - German Navy</td>\n",
       "      <td>NaN</td>\n",
       "      <td>NaN</td>\n",
       "      <td>Zeppelin L-1 (airship)</td>\n",
       "      <td>NaN</td>\n",
       "      <td>NaN</td>\n",
       "      <td>20.0</td>\n",
       "      <td>14.0</td>\n",
       "      <td>0.0</td>\n",
       "      <td>The airship flew into a thunderstorm and encou...</td>\n",
       "    </tr>\n",
       "    <tr>\n",
       "      <th>4</th>\n",
       "      <td>10/17/1913</td>\n",
       "      <td>10:30</td>\n",
       "      <td>Near Johannisthal, Germany</td>\n",
       "      <td>Military - German Navy</td>\n",
       "      <td>NaN</td>\n",
       "      <td>NaN</td>\n",
       "      <td>Zeppelin L-2 (airship)</td>\n",
       "      <td>NaN</td>\n",
       "      <td>NaN</td>\n",
       "      <td>30.0</td>\n",
       "      <td>30.0</td>\n",
       "      <td>0.0</td>\n",
       "      <td>Hydrogen gas which was being vented was sucked...</td>\n",
       "    </tr>\n",
       "    <tr>\n",
       "      <th>...</th>\n",
       "      <td>...</td>\n",
       "      <td>...</td>\n",
       "      <td>...</td>\n",
       "      <td>...</td>\n",
       "      <td>...</td>\n",
       "      <td>...</td>\n",
       "      <td>...</td>\n",
       "      <td>...</td>\n",
       "      <td>...</td>\n",
       "      <td>...</td>\n",
       "      <td>...</td>\n",
       "      <td>...</td>\n",
       "      <td>...</td>\n",
       "    </tr>\n",
       "    <tr>\n",
       "      <th>5263</th>\n",
       "      <td>05/20/2009</td>\n",
       "      <td>06:30</td>\n",
       "      <td>Near Madiun, Indonesia</td>\n",
       "      <td>Military - Indonesian Air Force</td>\n",
       "      <td>NaN</td>\n",
       "      <td>Jakarta - Maduin</td>\n",
       "      <td>Lockheed C-130 Hercules</td>\n",
       "      <td>A-1325</td>\n",
       "      <td>1982</td>\n",
       "      <td>112.0</td>\n",
       "      <td>98.0</td>\n",
       "      <td>2.0</td>\n",
       "      <td>While on approach, the military transport cras...</td>\n",
       "    </tr>\n",
       "    <tr>\n",
       "      <th>5264</th>\n",
       "      <td>05/26/2009</td>\n",
       "      <td>NaN</td>\n",
       "      <td>Near Isiro, DemocratiRepubliCongo</td>\n",
       "      <td>Service Air</td>\n",
       "      <td>NaN</td>\n",
       "      <td>Goma - Isiro</td>\n",
       "      <td>Antonov An-26</td>\n",
       "      <td>9Q-CSA</td>\n",
       "      <td>5005</td>\n",
       "      <td>4.0</td>\n",
       "      <td>4.0</td>\n",
       "      <td>NaN</td>\n",
       "      <td>The cargo plane crashed while on approach to I...</td>\n",
       "    </tr>\n",
       "    <tr>\n",
       "      <th>5265</th>\n",
       "      <td>06/01/2009</td>\n",
       "      <td>00:15</td>\n",
       "      <td>AtlantiOcean, 570 miles northeast of Natal, Br...</td>\n",
       "      <td>Air France</td>\n",
       "      <td>447</td>\n",
       "      <td>Rio de Janeiro - Paris</td>\n",
       "      <td>Airbus A330-203</td>\n",
       "      <td>F-GZCP</td>\n",
       "      <td>660</td>\n",
       "      <td>228.0</td>\n",
       "      <td>228.0</td>\n",
       "      <td>0.0</td>\n",
       "      <td>The Airbus went missing over the AtlantiOcean ...</td>\n",
       "    </tr>\n",
       "    <tr>\n",
       "      <th>5266</th>\n",
       "      <td>06/07/2009</td>\n",
       "      <td>08:30</td>\n",
       "      <td>Near Port Hope Simpson, Newfoundland, Canada</td>\n",
       "      <td>Strait Air</td>\n",
       "      <td>NaN</td>\n",
       "      <td>Lourdes de BlanSablon - Port Hope Simpson</td>\n",
       "      <td>Britten-Norman BN-2A-27 Islander</td>\n",
       "      <td>C-FJJR</td>\n",
       "      <td>424</td>\n",
       "      <td>1.0</td>\n",
       "      <td>1.0</td>\n",
       "      <td>0.0</td>\n",
       "      <td>The air ambulance crashed into hills while att...</td>\n",
       "    </tr>\n",
       "    <tr>\n",
       "      <th>5267</th>\n",
       "      <td>06/08/2009</td>\n",
       "      <td>NaN</td>\n",
       "      <td>State of Arunachal Pradesh, India</td>\n",
       "      <td>Military - Indian Air Force</td>\n",
       "      <td>NaN</td>\n",
       "      <td>Mechuka for Jorhat</td>\n",
       "      <td>Antonov An-32</td>\n",
       "      <td>NaN</td>\n",
       "      <td>NaN</td>\n",
       "      <td>13.0</td>\n",
       "      <td>13.0</td>\n",
       "      <td>0.0</td>\n",
       "      <td>The military transport went missing while en r...</td>\n",
       "    </tr>\n",
       "  </tbody>\n",
       "</table>\n",
       "<p>5268 rows × 13 columns</p>\n",
       "</div>"
      ],
      "text/plain": [
       "            Date   Time                                           Location  \\\n",
       "0     09/17/1908  17:18                                Fort Myer, Virginia   \n",
       "1     07/12/1912  06:30                            AtlantiCity, New Jersey   \n",
       "2     08/06/1913    NaN                 Victoria, British Columbia, Canada   \n",
       "3     09/09/1913  18:30                                 Over the North Sea   \n",
       "4     10/17/1913  10:30                         Near Johannisthal, Germany   \n",
       "...          ...    ...                                                ...   \n",
       "5263  05/20/2009  06:30                             Near Madiun, Indonesia   \n",
       "5264  05/26/2009    NaN                  Near Isiro, DemocratiRepubliCongo   \n",
       "5265  06/01/2009  00:15  AtlantiOcean, 570 miles northeast of Natal, Br...   \n",
       "5266  06/07/2009  08:30       Near Port Hope Simpson, Newfoundland, Canada   \n",
       "5267  06/08/2009    NaN                  State of Arunachal Pradesh, India   \n",
       "\n",
       "                             Operator Flight #  \\\n",
       "0                Military - U.S. Army      NaN   \n",
       "1                Military - U.S. Navy      NaN   \n",
       "2                             Private        -   \n",
       "3              Military - German Navy      NaN   \n",
       "4              Military - German Navy      NaN   \n",
       "...                               ...      ...   \n",
       "5263  Military - Indonesian Air Force      NaN   \n",
       "5264                      Service Air      NaN   \n",
       "5265                       Air France      447   \n",
       "5266                       Strait Air      NaN   \n",
       "5267      Military - Indian Air Force      NaN   \n",
       "\n",
       "                                          Route  \\\n",
       "0                                 Demonstration   \n",
       "1                                   Test flight   \n",
       "2                                           NaN   \n",
       "3                                           NaN   \n",
       "4                                           NaN   \n",
       "...                                         ...   \n",
       "5263                           Jakarta - Maduin   \n",
       "5264                               Goma - Isiro   \n",
       "5265                     Rio de Janeiro - Paris   \n",
       "5266  Lourdes de BlanSablon - Port Hope Simpson   \n",
       "5267                         Mechuka for Jorhat   \n",
       "\n",
       "                                  Type Registration cn/In  Aboard  Fatalities  \\\n",
       "0                     Wright Flyer III          NaN     1     2.0         1.0   \n",
       "1                            Dirigible          NaN   NaN     5.0         5.0   \n",
       "2                     Curtiss seaplane          NaN   NaN     1.0         1.0   \n",
       "3               Zeppelin L-1 (airship)          NaN   NaN    20.0        14.0   \n",
       "4               Zeppelin L-2 (airship)          NaN   NaN    30.0        30.0   \n",
       "...                                ...          ...   ...     ...         ...   \n",
       "5263           Lockheed C-130 Hercules       A-1325  1982   112.0        98.0   \n",
       "5264                     Antonov An-26       9Q-CSA  5005     4.0         4.0   \n",
       "5265                   Airbus A330-203       F-GZCP   660   228.0       228.0   \n",
       "5266  Britten-Norman BN-2A-27 Islander      C-FJJR    424     1.0         1.0   \n",
       "5267                     Antonov An-32          NaN   NaN    13.0        13.0   \n",
       "\n",
       "      Ground                                            Summary  \n",
       "0        0.0  During a demonstration flight, a U.S. Army fly...  \n",
       "1        0.0  First U.S. dirigible Akron exploded just offsh...  \n",
       "2        0.0  The first fatal airplane accident in Canada oc...  \n",
       "3        0.0  The airship flew into a thunderstorm and encou...  \n",
       "4        0.0  Hydrogen gas which was being vented was sucked...  \n",
       "...      ...                                                ...  \n",
       "5263     2.0  While on approach, the military transport cras...  \n",
       "5264     NaN  The cargo plane crashed while on approach to I...  \n",
       "5265     0.0  The Airbus went missing over the AtlantiOcean ...  \n",
       "5266     0.0  The air ambulance crashed into hills while att...  \n",
       "5267     0.0  The military transport went missing while en r...  \n",
       "\n",
       "[5268 rows x 13 columns]"
      ]
     },
     "execution_count": 3,
     "metadata": {},
     "output_type": "execute_result"
    }
   ],
   "source": [
    "pd.set_option('display.max_colwidth', 50)\n",
    "data"
   ]
  },
  {
   "cell_type": "code",
   "execution_count": 4,
   "id": "e21358c0",
   "metadata": {
    "execution": {
     "iopub.execute_input": "2024-04-09T16:22:11.337183Z",
     "iopub.status.busy": "2024-04-09T16:22:11.336317Z",
     "iopub.status.idle": "2024-04-09T16:22:11.364319Z",
     "shell.execute_reply": "2024-04-09T16:22:11.363303Z"
    },
    "papermill": {
     "duration": 0.044712,
     "end_time": "2024-04-09T16:22:11.367144",
     "exception": false,
     "start_time": "2024-04-09T16:22:11.322432",
     "status": "completed"
    },
    "tags": []
   },
   "outputs": [
    {
     "name": "stdout",
     "output_type": "stream",
     "text": [
      "<class 'pandas.core.frame.DataFrame'>\n",
      "RangeIndex: 5268 entries, 0 to 5267\n",
      "Data columns (total 13 columns):\n",
      " #   Column        Non-Null Count  Dtype  \n",
      "---  ------        --------------  -----  \n",
      " 0   Date          5268 non-null   object \n",
      " 1   Time          3049 non-null   object \n",
      " 2   Location      5248 non-null   object \n",
      " 3   Operator      5250 non-null   object \n",
      " 4   Flight #      1069 non-null   object \n",
      " 5   Route         3561 non-null   object \n",
      " 6   Type          5241 non-null   object \n",
      " 7   Registration  4933 non-null   object \n",
      " 8   cn/In         4040 non-null   object \n",
      " 9   Aboard        5246 non-null   float64\n",
      " 10  Fatalities    5256 non-null   float64\n",
      " 11  Ground        5246 non-null   float64\n",
      " 12  Summary       4878 non-null   object \n",
      "dtypes: float64(3), object(10)\n",
      "memory usage: 535.2+ KB\n"
     ]
    }
   ],
   "source": [
    "data.info()"
   ]
  },
  {
   "cell_type": "code",
   "execution_count": 5,
   "id": "8424b309",
   "metadata": {
    "execution": {
     "iopub.execute_input": "2024-04-09T16:22:11.390601Z",
     "iopub.status.busy": "2024-04-09T16:22:11.389862Z",
     "iopub.status.idle": "2024-04-09T16:22:12.846162Z",
     "shell.execute_reply": "2024-04-09T16:22:12.845250Z"
    },
    "papermill": {
     "duration": 1.470892,
     "end_time": "2024-04-09T16:22:12.848776",
     "exception": false,
     "start_time": "2024-04-09T16:22:11.377884",
     "status": "completed"
    },
    "tags": []
   },
   "outputs": [
    {
     "data": {
      "text/plain": [
       "<Axes: >"
      ]
     },
     "execution_count": 5,
     "metadata": {},
     "output_type": "execute_result"
    },
    {
     "data": {
      "image/png": "[encoded data removed]",
      "text/plain": [
       "<Figure size 2500x1000 with 3 Axes>"
      ]
     },
     "metadata": {},
     "output_type": "display_data"
    }
   ],
   "source": [
    "msno.bar(data)"
   ]
  },
  {
   "cell_type": "code",
   "execution_count": 6,
   "id": "9bd15114",
   "metadata": {
    "execution": {
     "iopub.execute_input": "2024-04-09T16:22:12.875730Z",
     "iopub.status.busy": "2024-04-09T16:22:12.874756Z",
     "iopub.status.idle": "2024-04-09T16:22:12.960535Z",
     "shell.execute_reply": "2024-04-09T16:22:12.959745Z"
    },
    "papermill": {
     "duration": 0.101141,
     "end_time": "2024-04-09T16:22:12.962550",
     "exception": false,
     "start_time": "2024-04-09T16:22:12.861409",
     "status": "completed"
    },
    "tags": []
   },
   "outputs": [
    {
     "name": "stdout",
     "output_type": "stream",
     "text": [
      "Date ranges from 1908-09-17 17:18:00 to 2009-06-08 00:00:00\n"
     ]
    }
   ],
   "source": [
    "#cleanup\n",
    "data['Time'] = data['Time'].replace(np.nan, '00:00') \n",
    "data['Time'] = data['Time'].str.replace('c: ', '')\n",
    "data['Time'] = data['Time'].str.replace('c:', '')\n",
    "data['Time'] = data['Time'].str.replace('c', '')\n",
    "data['Time'] = data['Time'].str.replace('12\\'20', '12:20')\n",
    "data['Time'] = data['Time'].str.replace('18.40', '18:40')\n",
    "data['Time'] = data['Time'].str.replace('0943', '09:43')\n",
    "data['Time'] = data['Time'].str.replace('22\\'08', '22:08')\n",
    "data['Time'] = data['Time'].str.replace('114:20', '00:00')\n",
    "\n",
    "\n",
    "data['Time'] = data['Date'] + ' ' + data['Time'] #joining two rows\n",
    "def todate(x):\n",
    "    return datetime.strptime(x, '%m/%d/%Y %H:%M')\n",
    "data['Time'] = data['Time'].apply(todate) #convert to date type\n",
    "print('Date ranges from ' + str(data.Time.min()) + ' to ' + str(data.Time.max())) \n",
    "\n",
    "data.Operator = data.Operator.str.upper() #to avoid duplicates."
   ]
  },
  {
   "cell_type": "code",
   "execution_count": 7,
   "id": "bcc48e23",
   "metadata": {
    "execution": {
     "iopub.execute_input": "2024-04-09T16:22:12.990018Z",
     "iopub.status.busy": "2024-04-09T16:22:12.988675Z",
     "iopub.status.idle": "2024-04-09T16:22:13.054602Z",
     "shell.execute_reply": "2024-04-09T16:22:13.053684Z"
    },
    "papermill": {
     "duration": 0.08211,
     "end_time": "2024-04-09T16:22:13.056986",
     "exception": false,
     "start_time": "2024-04-09T16:22:12.974876",
     "status": "completed"
    },
    "tags": []
   },
   "outputs": [],
   "source": [
    "# Define the function to extract time components\n",
    "def extract_time_components(time_str):\n",
    "    time_obj = pd.to_datetime(time_str)\n",
    "    decade = time_obj.year // 10 * 10\n",
    "    year = time_obj.year\n",
    "    month = time_obj.month\n",
    "    week = time_obj.isocalendar()[1]  # ISO week number\n",
    "    season = (month % 12 + 3) // 3  # 1: Winter, 2: Spring, 3: Summer, 4: Autumn\n",
    "    day = time_obj.strftime('%A')  # Full weekday name\n",
    "    hour = time_obj.hour\n",
    "    minute = time_obj.minute\n",
    "    am_pm = 'AM' if time_obj.hour < 12 else 'PM'\n",
    "    night_day = \"night\" if time_obj.hour >= 18 or time_obj.hour <= 6 else \"day\"\n",
    "    return decade, year, month, week, season, day, hour, minute, am_pm, night_day\n",
    "\n",
    "# Apply the function to the 'time' column to extract time components\n",
    "time_components = data['Time'].apply(extract_time_components)\n",
    "\n",
    "# Assign the extracted time components to new columns in the DataFrame\n",
    "data[['Decade', 'Year', 'Month', 'Week', 'Season', 'Day', 'Hour', 'Minute', 'AM/PM', \"night_day\"]] = pd.DataFrame(time_components.tolist(), index=data.index)"
   ]
  },
  {
   "cell_type": "code",
   "execution_count": 8,
   "id": "26d17f81",
   "metadata": {
    "execution": {
     "iopub.execute_input": "2024-04-09T16:22:13.083571Z",
     "iopub.status.busy": "2024-04-09T16:22:13.082560Z",
     "iopub.status.idle": "2024-04-09T16:22:13.098330Z",
     "shell.execute_reply": "2024-04-09T16:22:13.097126Z"
    },
    "papermill": {
     "duration": 0.03097,
     "end_time": "2024-04-09T16:22:13.100301",
     "exception": false,
     "start_time": "2024-04-09T16:22:13.069331",
     "status": "completed"
    },
    "tags": []
   },
   "outputs": [
    {
     "name": "stdout",
     "output_type": "stream",
     "text": [
      "<class 'pandas.core.frame.DataFrame'>\n",
      "RangeIndex: 5268 entries, 0 to 5267\n",
      "Data columns (total 23 columns):\n",
      " #   Column        Non-Null Count  Dtype         \n",
      "---  ------        --------------  -----         \n",
      " 0   Date          5268 non-null   object        \n",
      " 1   Time          5268 non-null   datetime64[ns]\n",
      " 2   Location      5248 non-null   object        \n",
      " 3   Operator      5250 non-null   object        \n",
      " 4   Flight #      1069 non-null   object        \n",
      " 5   Route         3561 non-null   object        \n",
      " 6   Type          5241 non-null   object        \n",
      " 7   Registration  4933 non-null   object        \n",
      " 8   cn/In         4040 non-null   object        \n",
      " 9   Aboard        5246 non-null   float64       \n",
      " 10  Fatalities    5256 non-null   float64       \n",
      " 11  Ground        5246 non-null   float64       \n",
      " 12  Summary       4878 non-null   object        \n",
      " 13  Decade        5268 non-null   int64         \n",
      " 14  Year          5268 non-null   int64         \n",
      " 15  Month         5268 non-null   int64         \n",
      " 16  Week          5268 non-null   int64         \n",
      " 17  Season        5268 non-null   int64         \n",
      " 18  Day           5268 non-null   object        \n",
      " 19  Hour          5268 non-null   int64         \n",
      " 20  Minute        5268 non-null   int64         \n",
      " 21  AM/PM         5268 non-null   object        \n",
      " 22  night_day     5268 non-null   object        \n",
      "dtypes: datetime64[ns](1), float64(3), int64(7), object(12)\n",
      "memory usage: 946.7+ KB\n"
     ]
    }
   ],
   "source": [
    "data.info()"
   ]
  },
  {
   "cell_type": "code",
   "execution_count": 9,
   "id": "325ad8e0",
   "metadata": {
    "execution": {
     "iopub.execute_input": "2024-04-09T16:22:13.126438Z",
     "iopub.status.busy": "2024-04-09T16:22:13.125823Z",
     "iopub.status.idle": "2024-04-09T16:22:13.131807Z",
     "shell.execute_reply": "2024-04-09T16:22:13.131037Z"
    },
    "papermill": {
     "duration": 0.021564,
     "end_time": "2024-04-09T16:22:13.134031",
     "exception": false,
     "start_time": "2024-04-09T16:22:13.112467",
     "status": "completed"
    },
    "tags": []
   },
   "outputs": [
    {
     "name": "stderr",
     "output_type": "stream",
     "text": [
      "/tmp/ipykernel_17/1338194617.py:2: FutureWarning: A value is trying to be set on a copy of a DataFrame or Series through chained assignment using an inplace method.\n",
      "The behavior will change in pandas 3.0. This inplace method will never work because the intermediate object on which we are setting values always behaves as a copy.\n",
      "\n",
      "For example, when doing 'df[col].method(value, inplace=True)', try using 'df.method({col: value}, inplace=True)' or df[col] = df[col].method(value) instead, to perform the operation inplace on the original object.\n",
      "\n",
      "\n",
      "  data[\"Summary\"].fillna(\"Cause is unknown.\", inplace = True)\n"
     ]
    }
   ],
   "source": [
    "# fill in missing values for \"Summary\" column\n",
    "data[\"Summary\"].fillna(\"Cause is unknown.\", inplace = True)"
   ]
  },
  {
   "cell_type": "code",
   "execution_count": 10,
   "id": "e10655fd",
   "metadata": {
    "execution": {
     "iopub.execute_input": "2024-04-09T16:22:13.160461Z",
     "iopub.status.busy": "2024-04-09T16:22:13.160061Z",
     "iopub.status.idle": "2024-04-09T16:22:13.168182Z",
     "shell.execute_reply": "2024-04-09T16:22:13.167066Z"
    },
    "papermill": {
     "duration": 0.024065,
     "end_time": "2024-04-09T16:22:13.170537",
     "exception": false,
     "start_time": "2024-04-09T16:22:13.146472",
     "status": "completed"
    },
    "tags": []
   },
   "outputs": [],
   "source": [
    "# Convert to lower-case\n",
    "data[\"Summary\"] = data[\"Summary\"].str.lower()"
   ]
  },
  {
   "cell_type": "code",
   "execution_count": 11,
   "id": "3599cf1b",
   "metadata": {
    "execution": {
     "iopub.execute_input": "2024-04-09T16:22:13.197262Z",
     "iopub.status.busy": "2024-04-09T16:22:13.196496Z",
     "iopub.status.idle": "2024-04-09T16:22:13.204972Z",
     "shell.execute_reply": "2024-04-09T16:22:13.204158Z"
    },
    "papermill": {
     "duration": 0.024203,
     "end_time": "2024-04-09T16:22:13.206937",
     "exception": false,
     "start_time": "2024-04-09T16:22:13.182734",
     "status": "completed"
    },
    "tags": []
   },
   "outputs": [
    {
     "data": {
      "text/plain": [
       "0       during a demonstration flight, a u.s. army fly...\n",
       "1       first u.s. dirigible akron exploded just offsh...\n",
       "2       the first fatal airplane accident in canada oc...\n",
       "3       the airship flew into a thunderstorm and encou...\n",
       "4       hydrogen gas which was being vented was sucked...\n",
       "                              ...                        \n",
       "5263    while on approach, the military transport cras...\n",
       "5264    the cargo plane crashed while on approach to i...\n",
       "5265    the airbus went missing over the atlantiocean ...\n",
       "5266    the air ambulance crashed into hills while att...\n",
       "5267    the military transport went missing while en r...\n",
       "Name: Summary, Length: 5268, dtype: object"
      ]
     },
     "execution_count": 11,
     "metadata": {},
     "output_type": "execute_result"
    }
   ],
   "source": [
    "data[\"Summary\"]"
   ]
  },
  {
   "cell_type": "code",
   "execution_count": 12,
   "id": "01c00703",
   "metadata": {
    "execution": {
     "iopub.execute_input": "2024-04-09T16:22:13.233429Z",
     "iopub.status.busy": "2024-04-09T16:22:13.232796Z",
     "iopub.status.idle": "2024-04-09T16:22:14.324666Z",
     "shell.execute_reply": "2024-04-09T16:22:14.323643Z"
    },
    "papermill": {
     "duration": 1.108205,
     "end_time": "2024-04-09T16:22:14.327273",
     "exception": false,
     "start_time": "2024-04-09T16:22:13.219068",
     "status": "completed"
    },
    "tags": []
   },
   "outputs": [],
   "source": [
    "# Get the English stopwords\n",
    "stop_words = set(stopwords.words('english'))\n",
    "\n",
    "def remove_stopwords(text):\n",
    "    # Remove special characters and digits using regular expressions\n",
    "    clean_text = re.sub(r'[^a-zA-Z\\s]', '', text)\n",
    "    # Tokenize the cleaned text\n",
    "    word_tokens = word_tokenize(clean_text)\n",
    "    # Remove stop words\n",
    "    filtered_tokens = [word for word in word_tokens if word.lower() not in stop_words]\n",
    "    # Join the filtered tokens back into a single string\n",
    "    filtered_text = ' '.join(filtered_tokens)\n",
    "    return filtered_text\n",
    "\n",
    "# Apply the function to the \"Summary\" column\n",
    "data[\"Summary\"] = data[\"Summary\"].apply(remove_stopwords)\n",
    "\n"
   ]
  },
  {
   "cell_type": "code",
   "execution_count": 13,
   "id": "e51257e8",
   "metadata": {
    "execution": {
     "iopub.execute_input": "2024-04-09T16:22:14.356495Z",
     "iopub.status.busy": "2024-04-09T16:22:14.355817Z",
     "iopub.status.idle": "2024-04-09T16:22:14.361143Z",
     "shell.execute_reply": "2024-04-09T16:22:14.359911Z"
    },
    "papermill": {
     "duration": 0.021957,
     "end_time": "2024-04-09T16:22:14.363272",
     "exception": false,
     "start_time": "2024-04-09T16:22:14.341315",
     "status": "completed"
    },
    "tags": []
   },
   "outputs": [],
   "source": [
    "set_sd = {\"ahoj\", \"zmrde\"}"
   ]
  },
  {
   "cell_type": "code",
   "execution_count": 14,
   "id": "5b36ae0e",
   "metadata": {
    "execution": {
     "iopub.execute_input": "2024-04-09T16:22:14.389802Z",
     "iopub.status.busy": "2024-04-09T16:22:14.389413Z",
     "iopub.status.idle": "2024-04-09T16:22:14.394818Z",
     "shell.execute_reply": "2024-04-09T16:22:14.394159Z"
    },
    "papermill": {
     "duration": 0.020916,
     "end_time": "2024-04-09T16:22:14.396659",
     "exception": false,
     "start_time": "2024-04-09T16:22:14.375743",
     "status": "completed"
    },
    "scrolled": true,
    "tags": []
   },
   "outputs": [
    {
     "data": {
      "text/plain": [
       "set"
      ]
     },
     "execution_count": 14,
     "metadata": {},
     "output_type": "execute_result"
    }
   ],
   "source": [
    "type(set_sd)"
   ]
  },
  {
   "cell_type": "code",
   "execution_count": 15,
   "id": "b7a7d5b6",
   "metadata": {
    "execution": {
     "iopub.execute_input": "2024-04-09T16:22:14.423332Z",
     "iopub.status.busy": "2024-04-09T16:22:14.422376Z",
     "iopub.status.idle": "2024-04-09T16:22:14.426919Z",
     "shell.execute_reply": "2024-04-09T16:22:14.426016Z"
    },
    "papermill": {
     "duration": 0.019864,
     "end_time": "2024-04-09T16:22:14.428805",
     "exception": false,
     "start_time": "2024-04-09T16:22:14.408941",
     "status": "completed"
    },
    "scrolled": true,
    "tags": []
   },
   "outputs": [],
   "source": [
    "plus_set = stop_words.union(set_sd)"
   ]
  },
  {
   "cell_type": "code",
   "execution_count": 16,
   "id": "5ef547c2",
   "metadata": {
    "execution": {
     "iopub.execute_input": "2024-04-09T16:22:14.454779Z",
     "iopub.status.busy": "2024-04-09T16:22:14.454374Z",
     "iopub.status.idle": "2024-04-09T16:22:14.462349Z",
     "shell.execute_reply": "2024-04-09T16:22:14.461430Z"
    },
    "papermill": {
     "duration": 0.023342,
     "end_time": "2024-04-09T16:22:14.464445",
     "exception": false,
     "start_time": "2024-04-09T16:22:14.441103",
     "status": "completed"
    },
    "scrolled": true,
    "tags": []
   },
   "outputs": [
    {
     "data": {
      "text/plain": [
       "0       demonstration flight us army flyer flown orvil...\n",
       "1       first us dirigible akron exploded offshore alt...\n",
       "2       first fatal airplane accident canada occurred ...\n",
       "3       airship flew thunderstorm encountered severe d...\n",
       "4       hydrogen gas vented sucked forward engine igni...\n",
       "                              ...                        \n",
       "5263    approach military transport crashed houses ski...\n",
       "5264     cargo plane crashed approach isiromatari airport\n",
       "5265    airbus went missing atlantiocean flight rio de...\n",
       "5266    air ambulance crashed hills attempting land he...\n",
       "5267    military transport went missing en route might...\n",
       "Name: Summary, Length: 5268, dtype: object"
      ]
     },
     "execution_count": 16,
     "metadata": {},
     "output_type": "execute_result"
    }
   ],
   "source": [
    "data[\"Summary\"]"
   ]
  },
  {
   "cell_type": "code",
   "execution_count": 17,
   "id": "c441318f",
   "metadata": {
    "execution": {
     "iopub.execute_input": "2024-04-09T16:22:14.492254Z",
     "iopub.status.busy": "2024-04-09T16:22:14.491836Z",
     "iopub.status.idle": "2024-04-09T16:22:15.494016Z",
     "shell.execute_reply": "2024-04-09T16:22:15.493061Z"
    },
    "papermill": {
     "duration": 1.01885,
     "end_time": "2024-04-09T16:22:15.496524",
     "exception": false,
     "start_time": "2024-04-09T16:22:14.477674",
     "status": "completed"
    },
    "tags": []
   },
   "outputs": [
    {
     "name": "stdout",
     "output_type": "stream",
     "text": [
      "crashed: 3214\n",
      "aircraft: 2389\n",
      "plane: 1835\n",
      "flight: 1050\n",
      "pilot: 1013\n",
      "approach: 941\n",
      "engine: 923\n",
      "runway: 914\n",
      "failure: 878\n",
      "crew: 751\n",
      "landing: 732\n",
      "airport: 624\n",
      "weather: 605\n",
      "altitude: 598\n",
      "cause: 576\n",
      "takeoff: 574\n",
      "mountain: 559\n",
      "conditions: 540\n",
      "taking: 534\n",
      "land: 522\n"
     ]
    }
   ],
   "source": [
    "# create list of all strings\n",
    "data[\"tokens\"] = data[\"Summary\"].apply(word_tokenize)\n",
    "\n",
    "all_tokens = [token for sublist in data[\"tokens\"] for token in sublist]\n",
    "\n",
    "# Count the frequencies of each token\n",
    "token_freq = Counter(all_tokens)\n",
    "\n",
    "# Print the most common tokens and their frequencies\n",
    "for token, freq in token_freq.most_common()[:20]:\n",
    "    print(f\"{token}: {freq}\")"
   ]
  },
  {
   "cell_type": "code",
   "execution_count": 18,
   "id": "427fa762",
   "metadata": {
    "execution": {
     "iopub.execute_input": "2024-04-09T16:22:15.523681Z",
     "iopub.status.busy": "2024-04-09T16:22:15.523270Z",
     "iopub.status.idle": "2024-04-09T16:22:16.115249Z",
     "shell.execute_reply": "2024-04-09T16:22:16.114146Z"
    },
    "papermill": {
     "duration": 0.608531,
     "end_time": "2024-04-09T16:22:16.117887",
     "exception": false,
     "start_time": "2024-04-09T16:22:15.509356",
     "status": "completed"
    },
    "tags": []
   },
   "outputs": [],
   "source": [
    "# Count the occurrences of each word in the entire dataset\n",
    "from collections import defaultdict\n",
    "word_counts = defaultdict(int)\n",
    "for tokens in data[\"tokens\"]:\n",
    "    unique_tokens = set(tokens)\n",
    "    for token in unique_tokens:\n",
    "        word_counts[token] += 1\n",
    "\n",
    "# Sort the dictionary by values in descending order\n",
    "sorted_word_counts = sorted(word_counts.items(), key=lambda x: x[1], reverse=True)\n",
    "\n",
    "# Assign the top 5 words to a new column in the DataFrame for each row\n",
    "data[\"top_20\"] = \"\"\n",
    "\n",
    "# Iterate through each row and assign the top 20 words\n",
    "for idx, row in data.iterrows():\n",
    "    word_freq = {}\n",
    "    for token in row[\"tokens\"]:\n",
    "        if token not in word_freq:\n",
    "            word_freq[token] = word_counts[token]\n",
    "    sorted_word_counts_row = sorted(word_freq.items(), key=lambda x: x[1], reverse=True)\n",
    "    top_5_row = [word for word, _ in sorted_word_counts_row[:20]]\n",
    "    data.at[idx, \"top_20\"] = top_5_row\n"
   ]
  },
  {
   "cell_type": "code",
   "execution_count": 19,
   "id": "5b990dfc",
   "metadata": {
    "execution": {
     "iopub.execute_input": "2024-04-09T16:22:16.149320Z",
     "iopub.status.busy": "2024-04-09T16:22:16.148825Z",
     "iopub.status.idle": "2024-04-09T16:22:17.069471Z",
     "shell.execute_reply": "2024-04-09T16:22:17.068430Z"
    },
    "papermill": {
     "duration": 0.941037,
     "end_time": "2024-04-09T16:22:17.071607",
     "exception": false,
     "start_time": "2024-04-09T16:22:16.130570",
     "status": "completed"
    },
    "tags": []
   },
   "outputs": [
    {
     "data": {
      "text/plain": [
       "top_20\n",
       "[cause, unknown]                                  390\n",
       "[crashed, takeoff]                                 28\n",
       "[crashed, route, en]                               22\n",
       "[crashed, approach]                                14\n",
       "[crashed, mountain]                                13\n",
       "[mountain, struck]                                 12\n",
       "[crashed, sea]                                     12\n",
       "[crashed, mountain, route, en]                     11\n",
       "[crashed, taking, shortly]                         10\n",
       "[mountain, flew]                                    8\n",
       "[pilot, error]                                      7\n",
       "[failure, engine]                                   7\n",
       "[plane, cargo]                                      7\n",
       "[route, en, disappeared]                            6\n",
       "[crashed, plane, cargo]                             6\n",
       "[weather, related]                                  6\n",
       "[crashed, landing]                                  5\n",
       "[crashed, land, attempting]                         5\n",
       "[crashed, mountains]                                5\n",
       "[crashed, ocean]                                    4\n",
       "[shot, missile, surfacetoair]                       4\n",
       "[aircraft, shot, military, japanese]                4\n",
       "[fire, shot, enemy]                                 4\n",
       "[crashed, landing, attempt]                         4\n",
       "[crashed, route, en, terrain, mountainous]          4\n",
       "[crashed, take]                                     4\n",
       "[shot, forces, rebel]                               4\n",
       "[crashed, struck, lightning]                        3\n",
       "[shot, rebels, afghan]                              3\n",
       "[crashed, plane, cargo, route, en]                  3\n",
       "[crashed, fog]                                      3\n",
       "[fire, shot, antiaircraft, normandy, invasion]      3\n",
       "[crashed, weather, conditions, poor]                3\n",
       "[crashed, plane, approach, cargo]                   3\n",
       "[aircraft, shot, british]                           3\n",
       "[route, en, found, disappeared, never]              3\n",
       "[crashed, plane, land, cargo, attempting]           3\n",
       "[crashed, takeoff, shortly]                         3\n",
       "[crashed, weather, conditions, poor, sea]           3\n",
       "[crashed, weather, mountain, conditions, poor]      3\n",
       "Name: count, dtype: int64"
      ]
     },
     "execution_count": 19,
     "metadata": {},
     "output_type": "execute_result"
    }
   ],
   "source": [
    "data[\"top_20\"].value_counts()[:40]"
   ]
  },
  {
   "cell_type": "code",
   "execution_count": 20,
   "id": "eacd20ae",
   "metadata": {
    "execution": {
     "iopub.execute_input": "2024-04-09T16:22:17.099010Z",
     "iopub.status.busy": "2024-04-09T16:22:17.098628Z",
     "iopub.status.idle": "2024-04-09T16:22:17.550149Z",
     "shell.execute_reply": "2024-04-09T16:22:17.549437Z"
    },
    "papermill": {
     "duration": 0.467946,
     "end_time": "2024-04-09T16:22:17.552415",
     "exception": false,
     "start_time": "2024-04-09T16:22:17.084469",
     "status": "completed"
    },
    "tags": []
   },
   "outputs": [
    {
     "data": {
      "text/plain": [
       "Summary\n",
       "cause unknown                390\n",
       "crashed takeoff               28\n",
       "crashed route en              22\n",
       "crashed approach              14\n",
       "crashed mountain              13\n",
       "mountain struck               12\n",
       "crashed sea                   12\n",
       "crashed mountain route en     11\n",
       "crashed taking shortly        10\n",
       "mountain flew                  8\n",
       "pilot error                    7\n",
       "failure engine                 7\n",
       "plane cargo                    7\n",
       "route en disappeared           6\n",
       "crashed plane cargo            6\n",
       "weather related                6\n",
       "crashed landing                5\n",
       "crashed land attempting        5\n",
       "crashed mountains              5\n",
       "crashed ocean                  4\n",
       "Name: count, dtype: int64"
      ]
     },
     "execution_count": 20,
     "metadata": {},
     "output_type": "execute_result"
    }
   ],
   "source": [
    "# replace \"Summary\" with \"top_20\"\n",
    "data[\"Summary\"] = data[\"top_20\"]\n",
    "for idx, row in data.iterrows():\n",
    "    joined = \" \".join(row[\"Summary\"])\n",
    "    data.at[idx, \"Summary\"] = joined\n",
    "data.drop(columns = [\"tokens\", \"top_20\"], inplace = True)\n",
    "data[\"Summary\"].value_counts()[:20]"
   ]
  },
  {
   "cell_type": "code",
   "execution_count": 21,
   "id": "661f09d7",
   "metadata": {
    "execution": {
     "iopub.execute_input": "2024-04-09T16:22:17.644952Z",
     "iopub.status.busy": "2024-04-09T16:22:17.644572Z",
     "iopub.status.idle": "2024-04-09T16:22:18.070743Z",
     "shell.execute_reply": "2024-04-09T16:22:18.069797Z"
    },
    "papermill": {
     "duration": 0.507699,
     "end_time": "2024-04-09T16:22:18.073500",
     "exception": false,
     "start_time": "2024-04-09T16:22:17.565801",
     "status": "completed"
    },
    "tags": []
   },
   "outputs": [],
   "source": [
    "# try different vectorizers\n",
    "#vectorizer = CountVectorizer()\n",
    "vectorizer = TfidfVectorizer()\n",
    "\n",
    "# Fit and transform the text data\n",
    "X = vectorizer.fit_transform(data[\"Summary\"])\n",
    "\n",
    "# Convert the transformed data into a DataFrame\n",
    "tfidf_df = pd.DataFrame(X.toarray(), columns=vectorizer.get_feature_names_out())\n"
   ]
  },
  {
   "cell_type": "code",
   "execution_count": 22,
   "id": "418e2b03",
   "metadata": {
    "execution": {
     "iopub.execute_input": "2024-04-09T16:22:18.102364Z",
     "iopub.status.busy": "2024-04-09T16:22:18.101530Z",
     "iopub.status.idle": "2024-04-09T16:22:26.941434Z",
     "shell.execute_reply": "2024-04-09T16:22:26.940409Z"
    },
    "papermill": {
     "duration": 8.856839,
     "end_time": "2024-04-09T16:22:26.943769",
     "exception": false,
     "start_time": "2024-04-09T16:22:18.086930",
     "status": "completed"
    },
    "tags": []
   },
   "outputs": [
    {
     "data": {
      "text/html": [
       "<div>\n",
       "<style scoped>\n",
       "    .dataframe tbody tr th:only-of-type {\n",
       "        vertical-align: middle;\n",
       "    }\n",
       "\n",
       "    .dataframe tbody tr th {\n",
       "        vertical-align: top;\n",
       "    }\n",
       "\n",
       "    .dataframe thead th {\n",
       "        text-align: right;\n",
       "    }\n",
       "</style>\n",
       "<table border=\"1\" class=\"dataframe\">\n",
       "  <thead>\n",
       "    <tr style=\"text-align: right;\">\n",
       "      <th></th>\n",
       "      <th>aad</th>\n",
       "      <th>abandon</th>\n",
       "      <th>abandoned</th>\n",
       "      <th>abandoning</th>\n",
       "      <th>abandonment</th>\n",
       "      <th>abidjan</th>\n",
       "      <th>abilities</th>\n",
       "      <th>ability</th>\n",
       "      <th>abingdon</th>\n",
       "      <th>abkhazi</th>\n",
       "      <th>...</th>\n",
       "      <th>yuri</th>\n",
       "      <th>zadax</th>\n",
       "      <th>zambian</th>\n",
       "      <th>zero</th>\n",
       "      <th>zerozero</th>\n",
       "      <th>zimathan</th>\n",
       "      <th>zkdqf</th>\n",
       "      <th>zlat</th>\n",
       "      <th>zone</th>\n",
       "      <th>zuma</th>\n",
       "    </tr>\n",
       "  </thead>\n",
       "  <tbody>\n",
       "    <tr>\n",
       "      <th>count</th>\n",
       "      <td>5268.000000</td>\n",
       "      <td>5268.000000</td>\n",
       "      <td>5268.000000</td>\n",
       "      <td>5268.000000</td>\n",
       "      <td>5268.000000</td>\n",
       "      <td>5268.000000</td>\n",
       "      <td>5268.000000</td>\n",
       "      <td>5268.000000</td>\n",
       "      <td>5268.000000</td>\n",
       "      <td>5268.000000</td>\n",
       "      <td>...</td>\n",
       "      <td>5268.000000</td>\n",
       "      <td>5268.000000</td>\n",
       "      <td>5268.000000</td>\n",
       "      <td>5268.000000</td>\n",
       "      <td>5268.000000</td>\n",
       "      <td>5268.000000</td>\n",
       "      <td>5268.000000</td>\n",
       "      <td>5268.000000</td>\n",
       "      <td>5268.000000</td>\n",
       "      <td>5268.000000</td>\n",
       "    </tr>\n",
       "    <tr>\n",
       "      <th>mean</th>\n",
       "      <td>0.000063</td>\n",
       "      <td>0.000077</td>\n",
       "      <td>0.000311</td>\n",
       "      <td>0.000063</td>\n",
       "      <td>0.000075</td>\n",
       "      <td>0.000122</td>\n",
       "      <td>0.000077</td>\n",
       "      <td>0.000256</td>\n",
       "      <td>0.000069</td>\n",
       "      <td>0.000238</td>\n",
       "      <td>...</td>\n",
       "      <td>0.000060</td>\n",
       "      <td>0.000094</td>\n",
       "      <td>0.000072</td>\n",
       "      <td>0.000426</td>\n",
       "      <td>0.000080</td>\n",
       "      <td>0.000116</td>\n",
       "      <td>0.000094</td>\n",
       "      <td>0.000075</td>\n",
       "      <td>0.000065</td>\n",
       "      <td>0.000102</td>\n",
       "    </tr>\n",
       "    <tr>\n",
       "      <th>std</th>\n",
       "      <td>0.004558</td>\n",
       "      <td>0.005574</td>\n",
       "      <td>0.010155</td>\n",
       "      <td>0.004607</td>\n",
       "      <td>0.005423</td>\n",
       "      <td>0.008868</td>\n",
       "      <td>0.005568</td>\n",
       "      <td>0.009321</td>\n",
       "      <td>0.004993</td>\n",
       "      <td>0.012402</td>\n",
       "      <td>...</td>\n",
       "      <td>0.004359</td>\n",
       "      <td>0.006842</td>\n",
       "      <td>0.005190</td>\n",
       "      <td>0.014905</td>\n",
       "      <td>0.005797</td>\n",
       "      <td>0.008447</td>\n",
       "      <td>0.006842</td>\n",
       "      <td>0.005410</td>\n",
       "      <td>0.004748</td>\n",
       "      <td>0.007389</td>\n",
       "    </tr>\n",
       "    <tr>\n",
       "      <th>min</th>\n",
       "      <td>0.000000</td>\n",
       "      <td>0.000000</td>\n",
       "      <td>0.000000</td>\n",
       "      <td>0.000000</td>\n",
       "      <td>0.000000</td>\n",
       "      <td>0.000000</td>\n",
       "      <td>0.000000</td>\n",
       "      <td>0.000000</td>\n",
       "      <td>0.000000</td>\n",
       "      <td>0.000000</td>\n",
       "      <td>...</td>\n",
       "      <td>0.000000</td>\n",
       "      <td>0.000000</td>\n",
       "      <td>0.000000</td>\n",
       "      <td>0.000000</td>\n",
       "      <td>0.000000</td>\n",
       "      <td>0.000000</td>\n",
       "      <td>0.000000</td>\n",
       "      <td>0.000000</td>\n",
       "      <td>0.000000</td>\n",
       "      <td>0.000000</td>\n",
       "    </tr>\n",
       "    <tr>\n",
       "      <th>25%</th>\n",
       "      <td>0.000000</td>\n",
       "      <td>0.000000</td>\n",
       "      <td>0.000000</td>\n",
       "      <td>0.000000</td>\n",
       "      <td>0.000000</td>\n",
       "      <td>0.000000</td>\n",
       "      <td>0.000000</td>\n",
       "      <td>0.000000</td>\n",
       "      <td>0.000000</td>\n",
       "      <td>0.000000</td>\n",
       "      <td>...</td>\n",
       "      <td>0.000000</td>\n",
       "      <td>0.000000</td>\n",
       "      <td>0.000000</td>\n",
       "      <td>0.000000</td>\n",
       "      <td>0.000000</td>\n",
       "      <td>0.000000</td>\n",
       "      <td>0.000000</td>\n",
       "      <td>0.000000</td>\n",
       "      <td>0.000000</td>\n",
       "      <td>0.000000</td>\n",
       "    </tr>\n",
       "    <tr>\n",
       "      <th>50%</th>\n",
       "      <td>0.000000</td>\n",
       "      <td>0.000000</td>\n",
       "      <td>0.000000</td>\n",
       "      <td>0.000000</td>\n",
       "      <td>0.000000</td>\n",
       "      <td>0.000000</td>\n",
       "      <td>0.000000</td>\n",
       "      <td>0.000000</td>\n",
       "      <td>0.000000</td>\n",
       "      <td>0.000000</td>\n",
       "      <td>...</td>\n",
       "      <td>0.000000</td>\n",
       "      <td>0.000000</td>\n",
       "      <td>0.000000</td>\n",
       "      <td>0.000000</td>\n",
       "      <td>0.000000</td>\n",
       "      <td>0.000000</td>\n",
       "      <td>0.000000</td>\n",
       "      <td>0.000000</td>\n",
       "      <td>0.000000</td>\n",
       "      <td>0.000000</td>\n",
       "    </tr>\n",
       "    <tr>\n",
       "      <th>75%</th>\n",
       "      <td>0.000000</td>\n",
       "      <td>0.000000</td>\n",
       "      <td>0.000000</td>\n",
       "      <td>0.000000</td>\n",
       "      <td>0.000000</td>\n",
       "      <td>0.000000</td>\n",
       "      <td>0.000000</td>\n",
       "      <td>0.000000</td>\n",
       "      <td>0.000000</td>\n",
       "      <td>0.000000</td>\n",
       "      <td>...</td>\n",
       "      <td>0.000000</td>\n",
       "      <td>0.000000</td>\n",
       "      <td>0.000000</td>\n",
       "      <td>0.000000</td>\n",
       "      <td>0.000000</td>\n",
       "      <td>0.000000</td>\n",
       "      <td>0.000000</td>\n",
       "      <td>0.000000</td>\n",
       "      <td>0.000000</td>\n",
       "      <td>0.000000</td>\n",
       "    </tr>\n",
       "    <tr>\n",
       "      <th>max</th>\n",
       "      <td>0.330813</td>\n",
       "      <td>0.404597</td>\n",
       "      <td>0.390955</td>\n",
       "      <td>0.334359</td>\n",
       "      <td>0.393593</td>\n",
       "      <td>0.643631</td>\n",
       "      <td>0.404146</td>\n",
       "      <td>0.361189</td>\n",
       "      <td>0.362421</td>\n",
       "      <td>0.732765</td>\n",
       "      <td>...</td>\n",
       "      <td>0.316395</td>\n",
       "      <td>0.496604</td>\n",
       "      <td>0.376680</td>\n",
       "      <td>0.805488</td>\n",
       "      <td>0.420718</td>\n",
       "      <td>0.613114</td>\n",
       "      <td>0.496604</td>\n",
       "      <td>0.392678</td>\n",
       "      <td>0.344647</td>\n",
       "      <td>0.536268</td>\n",
       "    </tr>\n",
       "  </tbody>\n",
       "</table>\n",
       "<p>8 rows × 4750 columns</p>\n",
       "</div>"
      ],
      "text/plain": [
       "               aad      abandon    abandoned   abandoning  abandonment  \\\n",
       "count  5268.000000  5268.000000  5268.000000  5268.000000  5268.000000   \n",
       "mean      0.000063     0.000077     0.000311     0.000063     0.000075   \n",
       "std       0.004558     0.005574     0.010155     0.004607     0.005423   \n",
       "min       0.000000     0.000000     0.000000     0.000000     0.000000   \n",
       "25%       0.000000     0.000000     0.000000     0.000000     0.000000   \n",
       "50%       0.000000     0.000000     0.000000     0.000000     0.000000   \n",
       "75%       0.000000     0.000000     0.000000     0.000000     0.000000   \n",
       "max       0.330813     0.404597     0.390955     0.334359     0.393593   \n",
       "\n",
       "           abidjan    abilities      ability     abingdon      abkhazi  ...  \\\n",
       "count  5268.000000  5268.000000  5268.000000  5268.000000  5268.000000  ...   \n",
       "mean      0.000122     0.000077     0.000256     0.000069     0.000238  ...   \n",
       "std       0.008868     0.005568     0.009321     0.004993     0.012402  ...   \n",
       "min       0.000000     0.000000     0.000000     0.000000     0.000000  ...   \n",
       "25%       0.000000     0.000000     0.000000     0.000000     0.000000  ...   \n",
       "50%       0.000000     0.000000     0.000000     0.000000     0.000000  ...   \n",
       "75%       0.000000     0.000000     0.000000     0.000000     0.000000  ...   \n",
       "max       0.643631     0.404146     0.361189     0.362421     0.732765  ...   \n",
       "\n",
       "              yuri        zadax      zambian         zero     zerozero  \\\n",
       "count  5268.000000  5268.000000  5268.000000  5268.000000  5268.000000   \n",
       "mean      0.000060     0.000094     0.000072     0.000426     0.000080   \n",
       "std       0.004359     0.006842     0.005190     0.014905     0.005797   \n",
       "min       0.000000     0.000000     0.000000     0.000000     0.000000   \n",
       "25%       0.000000     0.000000     0.000000     0.000000     0.000000   \n",
       "50%       0.000000     0.000000     0.000000     0.000000     0.000000   \n",
       "75%       0.000000     0.000000     0.000000     0.000000     0.000000   \n",
       "max       0.316395     0.496604     0.376680     0.805488     0.420718   \n",
       "\n",
       "          zimathan        zkdqf         zlat         zone         zuma  \n",
       "count  5268.000000  5268.000000  5268.000000  5268.000000  5268.000000  \n",
       "mean      0.000116     0.000094     0.000075     0.000065     0.000102  \n",
       "std       0.008447     0.006842     0.005410     0.004748     0.007389  \n",
       "min       0.000000     0.000000     0.000000     0.000000     0.000000  \n",
       "25%       0.000000     0.000000     0.000000     0.000000     0.000000  \n",
       "50%       0.000000     0.000000     0.000000     0.000000     0.000000  \n",
       "75%       0.000000     0.000000     0.000000     0.000000     0.000000  \n",
       "max       0.613114     0.496604     0.392678     0.344647     0.536268  \n",
       "\n",
       "[8 rows x 4750 columns]"
      ]
     },
     "execution_count": 22,
     "metadata": {},
     "output_type": "execute_result"
    }
   ],
   "source": [
    "tfidf_df.describe()"
   ]
  },
  {
   "cell_type": "code",
   "execution_count": 23,
   "id": "45447c41",
   "metadata": {
    "execution": {
     "iopub.execute_input": "2024-04-09T16:22:26.973425Z",
     "iopub.status.busy": "2024-04-09T16:22:26.972338Z",
     "iopub.status.idle": "2024-04-09T16:23:18.546217Z",
     "shell.execute_reply": "2024-04-09T16:23:18.544858Z"
    },
    "papermill": {
     "duration": 51.592203,
     "end_time": "2024-04-09T16:23:18.550017",
     "exception": false,
     "start_time": "2024-04-09T16:22:26.957814",
     "status": "completed"
    },
    "tags": []
   },
   "outputs": [],
   "source": [
    "from sklearn.decomposition import PCA\n",
    "\n",
    "pca = PCA()\n",
    "\n",
    "# Fit PCA to the TF-IDF data\n",
    "pca.fit(tfidf_df)\n",
    "\n",
    "# Apply PCA transformation to the TF-IDF data\n",
    "X_pca = pca.transform(tfidf_df)"
   ]
  },
  {
   "cell_type": "code",
   "execution_count": 24,
   "id": "02655746",
   "metadata": {
    "execution": {
     "iopub.execute_input": "2024-04-09T16:23:18.598885Z",
     "iopub.status.busy": "2024-04-09T16:23:18.598114Z",
     "iopub.status.idle": "2024-04-09T16:23:18.610150Z",
     "shell.execute_reply": "2024-04-09T16:23:18.609064Z"
    },
    "papermill": {
     "duration": 0.04482,
     "end_time": "2024-04-09T16:23:18.618484",
     "exception": false,
     "start_time": "2024-04-09T16:23:18.573664",
     "status": "completed"
    },
    "tags": []
   },
   "outputs": [
    {
     "name": "stdout",
     "output_type": "stream",
     "text": [
      "Number of components to capture 90% of the variance: 1277\n",
      "Number of components to capture 95% of the variance: 1775\n",
      "Number of components to capture 99% of the variance: 2528\n"
     ]
    }
   ],
   "source": [
    "# Calculate the explained variance ratio for each component\n",
    "explained_variance_ratio = pca.explained_variance_ratio_\n",
    "\n",
    "# Calculate cumulative explained variance ratio\n",
    "cumulative_variance_ratio = explained_variance_ratio.cumsum()\n",
    "\n",
    "# Number of components to capture 90% of the variance\n",
    "n_components_90 = (cumulative_variance_ratio < 0.90).sum() + 1  # Add 1 because of zero-based indexing\n",
    "\n",
    "# Number of components to capture 95% of the variance\n",
    "n_components_95 = (cumulative_variance_ratio < 0.95).sum() + 1\n",
    "\n",
    "# Number of components to capture 99% of the variance\n",
    "n_components_99 = (cumulative_variance_ratio < 0.99).sum() + 1\n",
    "\n",
    "print(\"Number of components to capture 90% of the variance:\", n_components_90)\n",
    "print(\"Number of components to capture 95% of the variance:\", n_components_95)\n",
    "print(\"Number of components to capture 99% of the variance:\", n_components_99)"
   ]
  },
  {
   "cell_type": "code",
   "execution_count": 25,
   "id": "ab0a326d",
   "metadata": {
    "execution": {
     "iopub.execute_input": "2024-04-09T16:23:18.665523Z",
     "iopub.status.busy": "2024-04-09T16:23:18.665101Z",
     "iopub.status.idle": "2024-04-09T16:23:26.884271Z",
     "shell.execute_reply": "2024-04-09T16:23:26.883348Z"
    },
    "papermill": {
     "duration": 8.245391,
     "end_time": "2024-04-09T16:23:26.886683",
     "exception": false,
     "start_time": "2024-04-09T16:23:18.641292",
     "status": "completed"
    },
    "scrolled": true,
    "tags": []
   },
   "outputs": [
    {
     "name": "stderr",
     "output_type": "stream",
     "text": [
      "/opt/conda/lib/python3.10/site-packages/sklearn/cluster/_kmeans.py:870: FutureWarning: The default value of `n_init` will change from 10 to 'auto' in 1.4. Set the value of `n_init` explicitly to suppress the warning\n",
      "  warnings.warn(\n"
     ]
    }
   ],
   "source": [
    "pca_df = pd.DataFrame(X_pca[:, :2527])\n",
    "from sklearn.cluster import KMeans\n",
    "\n",
    "# Initialize KMeans with 10 clusters\n",
    "kmeans = KMeans(n_clusters=10, max_iter = 1000, random_state = 42, algorithm = \"elkan\")\n",
    "\n",
    "# Fit KMeans to the PCA-transformed data\n",
    "kmeans.fit(pca_df)\n",
    "\n",
    "# Get cluster labels\n",
    "cluster_labels = kmeans.labels_\n",
    "\n",
    "# Add cluster labels to the pca_df DataFrame\n",
    "pca_df['k_cluster'] = cluster_labels"
   ]
  },
  {
   "cell_type": "code",
   "execution_count": 26,
   "id": "be263ef4",
   "metadata": {
    "execution": {
     "iopub.execute_input": "2024-04-09T16:23:26.916097Z",
     "iopub.status.busy": "2024-04-09T16:23:26.915376Z",
     "iopub.status.idle": "2024-04-09T16:23:26.924657Z",
     "shell.execute_reply": "2024-04-09T16:23:26.923804Z"
    },
    "papermill": {
     "duration": 0.026136,
     "end_time": "2024-04-09T16:23:26.926752",
     "exception": false,
     "start_time": "2024-04-09T16:23:26.900616",
     "status": "completed"
    },
    "tags": []
   },
   "outputs": [
    {
     "data": {
      "text/plain": [
       "k_cluster\n",
       "9    2206\n",
       "3     560\n",
       "8     551\n",
       "0     408\n",
       "2     392\n",
       "4     292\n",
       "7     270\n",
       "6     244\n",
       "1     228\n",
       "5     117\n",
       "Name: count, dtype: int64"
      ]
     },
     "execution_count": 26,
     "metadata": {},
     "output_type": "execute_result"
    }
   ],
   "source": [
    "pca_df[\"k_cluster\"].value_counts()"
   ]
  },
  {
   "cell_type": "code",
   "execution_count": 27,
   "id": "b63d7b72",
   "metadata": {
    "execution": {
     "iopub.execute_input": "2024-04-09T16:23:26.955617Z",
     "iopub.status.busy": "2024-04-09T16:23:26.955185Z",
     "iopub.status.idle": "2024-04-09T16:23:26.960616Z",
     "shell.execute_reply": "2024-04-09T16:23:26.959640Z"
    },
    "papermill": {
     "duration": 0.022335,
     "end_time": "2024-04-09T16:23:26.962690",
     "exception": false,
     "start_time": "2024-04-09T16:23:26.940355",
     "status": "completed"
    },
    "tags": []
   },
   "outputs": [],
   "source": [
    "data['k_cluster'] = pca_df['k_cluster']"
   ]
  },
  {
   "cell_type": "code",
   "execution_count": 28,
   "id": "bfa1de56",
   "metadata": {
    "execution": {
     "iopub.execute_input": "2024-04-09T16:23:26.991353Z",
     "iopub.status.busy": "2024-04-09T16:23:26.990956Z",
     "iopub.status.idle": "2024-04-09T16:23:27.001994Z",
     "shell.execute_reply": "2024-04-09T16:23:27.001242Z"
    },
    "papermill": {
     "duration": 0.027587,
     "end_time": "2024-04-09T16:23:27.003797",
     "exception": false,
     "start_time": "2024-04-09T16:23:26.976210",
     "status": "completed"
    },
    "scrolled": true,
    "tags": []
   },
   "outputs": [
    {
     "data": {
      "text/plain": [
       "0        aircraft flight ground control short loss feet two one time causing airplane first height passenger later approximately killing separated suffered\n",
       "1                                                                                        flight altitude ft first exploded us test offshore dirigible akron\n",
       "2                                                  accident killed airplane first occurred american john california fatal canada aviator barnstormer bryant\n",
       "3     miles control two sea flew broke severe thunderstorm north island crashing encountered sank immediately downdraft car occupants ship airship drowning\n",
       "4                                                                         engine ft causing forward ignited gas sucked airship vented explode burn hydrogen\n",
       "6                                                                                 burned near exploded island lightning ignited gas vented hydrogen neuwerk\n",
       "7                                                                                                                      crashed cause unknown sea near black\n",
       "8                                                                                                                     aircraft flames shot crashing british\n",
       "9                                                                                                              flames shot british th home squadron defence\n",
       "10                                                                                                                                            crashed storm\n",
       "11                                                                                                crashed aircraft fire sea shot north british antiaircraft\n",
       "13                                                                                                                        crashed struck lightning baltisea\n",
       "14                                                                                                        crashed aircraft altitude ft fire hit sea british\n",
       "15                                                                                                                                    aircraft shot british\n",
       "16                                                                                                                                    aircraft shot british\n",
       "17                                                                                                                            fire shot french antiaircraft\n",
       "18                                                                                                                crashed sea exploded coast southern italy\n",
       "19                                                                                                                 aircraft ft shot height crashing british\n",
       "20                                                                                                                                    aircraft shot british\n",
       "22                                                                                                plane pilot fire caught midair began dive go death leaped\n",
       "Name: Summary, dtype: object"
      ]
     },
     "execution_count": 28,
     "metadata": {},
     "output_type": "execute_result"
    }
   ],
   "source": [
    "# check different clusters\n",
    "pd.set_option('display.max_colwidth', 500)\n",
    "data[data[\"k_cluster\"] == 9][\"Summary\"][:20]"
   ]
  },
  {
   "cell_type": "code",
   "execution_count": 29,
   "id": "a330171a",
   "metadata": {
    "execution": {
     "iopub.execute_input": "2024-04-09T16:23:27.033989Z",
     "iopub.status.busy": "2024-04-09T16:23:27.032904Z",
     "iopub.status.idle": "2024-04-09T16:23:27.049793Z",
     "shell.execute_reply": "2024-04-09T16:23:27.048588Z"
    },
    "papermill": {
     "duration": 0.03435,
     "end_time": "2024-04-09T16:23:27.052189",
     "exception": false,
     "start_time": "2024-04-09T16:23:27.017839",
     "status": "completed"
    },
    "tags": []
   },
   "outputs": [
    {
     "name": "stdout",
     "output_type": "stream",
     "text": [
      "k_cluster\n",
      "2     13.109694\n",
      "5     29.726496\n",
      "1     44.798246\n",
      "6     76.049180\n",
      "9     92.375340\n",
      "4     94.746575\n",
      "0     97.227941\n",
      "8    102.862069\n",
      "7    111.407407\n",
      "3    114.846429\n",
      "Name: Summary, dtype: float64\n"
     ]
    }
   ],
   "source": [
    "# check the mean lenght of characters of all clusters\n",
    "mean_length_by_cluster = data.groupby('k_cluster')['Summary'].apply(lambda x: x.str.len().mean())\n",
    "\n",
    "print(mean_length_by_cluster.sort_values())"
   ]
  },
  {
   "cell_type": "code",
   "execution_count": 30,
   "id": "d7a05fae",
   "metadata": {
    "execution": {
     "iopub.execute_input": "2024-04-09T16:23:27.082115Z",
     "iopub.status.busy": "2024-04-09T16:23:27.081681Z",
     "iopub.status.idle": "2024-04-09T16:23:27.099554Z",
     "shell.execute_reply": "2024-04-09T16:23:27.098186Z"
    },
    "papermill": {
     "duration": 0.035417,
     "end_time": "2024-04-09T16:23:27.101700",
     "exception": false,
     "start_time": "2024-04-09T16:23:27.066283",
     "status": "completed"
    },
    "tags": []
   },
   "outputs": [
    {
     "name": "stdout",
     "output_type": "stream",
     "text": [
      "<class 'pandas.core.frame.DataFrame'>\n",
      "RangeIndex: 5268 entries, 0 to 5267\n",
      "Data columns (total 24 columns):\n",
      " #   Column        Non-Null Count  Dtype         \n",
      "---  ------        --------------  -----         \n",
      " 0   Date          5268 non-null   object        \n",
      " 1   Time          5268 non-null   datetime64[ns]\n",
      " 2   Location      5248 non-null   object        \n",
      " 3   Operator      5250 non-null   object        \n",
      " 4   Flight #      1069 non-null   object        \n",
      " 5   Route         3561 non-null   object        \n",
      " 6   Type          5241 non-null   object        \n",
      " 7   Registration  4933 non-null   object        \n",
      " 8   cn/In         4040 non-null   object        \n",
      " 9   Aboard        5246 non-null   float64       \n",
      " 10  Fatalities    5256 non-null   float64       \n",
      " 11  Ground        5246 non-null   float64       \n",
      " 12  Summary       5268 non-null   object        \n",
      " 13  Decade        5268 non-null   int64         \n",
      " 14  Year          5268 non-null   int64         \n",
      " 15  Month         5268 non-null   int64         \n",
      " 16  Week          5268 non-null   int64         \n",
      " 17  Season        5268 non-null   int64         \n",
      " 18  Day           5268 non-null   object        \n",
      " 19  Hour          5268 non-null   int64         \n",
      " 20  Minute        5268 non-null   int64         \n",
      " 21  AM/PM         5268 non-null   object        \n",
      " 22  night_day     5268 non-null   object        \n",
      " 23  k_cluster     5268 non-null   int32         \n",
      "dtypes: datetime64[ns](1), float64(3), int32(1), int64(7), object(12)\n",
      "memory usage: 967.3+ KB\n"
     ]
    }
   ],
   "source": [
    "data.info()"
   ]
  },
  {
   "cell_type": "code",
   "execution_count": 31,
   "id": "d9f44588",
   "metadata": {
    "execution": {
     "iopub.execute_input": "2024-04-09T16:23:27.132088Z",
     "iopub.status.busy": "2024-04-09T16:23:27.131685Z",
     "iopub.status.idle": "2024-04-09T16:23:27.140632Z",
     "shell.execute_reply": "2024-04-09T16:23:27.139621Z"
    },
    "papermill": {
     "duration": 0.027182,
     "end_time": "2024-04-09T16:23:27.142993",
     "exception": false,
     "start_time": "2024-04-09T16:23:27.115811",
     "status": "completed"
    },
    "tags": []
   },
   "outputs": [],
   "source": [
    "data_pred = data.copy(deep = True)"
   ]
  },
  {
   "cell_type": "code",
   "execution_count": 32,
   "id": "2a8232a2",
   "metadata": {
    "execution": {
     "iopub.execute_input": "2024-04-09T16:23:27.173532Z",
     "iopub.status.busy": "2024-04-09T16:23:27.172647Z",
     "iopub.status.idle": "2024-04-09T16:23:27.180626Z",
     "shell.execute_reply": "2024-04-09T16:23:27.179703Z"
    },
    "papermill": {
     "duration": 0.025608,
     "end_time": "2024-04-09T16:23:27.182876",
     "exception": false,
     "start_time": "2024-04-09T16:23:27.157268",
     "status": "completed"
    },
    "tags": []
   },
   "outputs": [],
   "source": [
    "# drop not-needed columns\n",
    "data_pred.drop(columns = [\"Date\", \"Time\", \"Location\", \"Operator\", \"Flight #\", \"Route\", \"Type\",\n",
    "                         \"Registration\", \"cn/In\", \"Ground\", \"Summary\", \"Year\", \"Month\", \"Week\", \"Day\",\n",
    "                         \"Hour\", \"Minute\"], inplace = True)"
   ]
  },
  {
   "cell_type": "code",
   "execution_count": 33,
   "id": "4486f750",
   "metadata": {
    "execution": {
     "iopub.execute_input": "2024-04-09T16:23:27.213967Z",
     "iopub.status.busy": "2024-04-09T16:23:27.213221Z",
     "iopub.status.idle": "2024-04-09T16:23:27.222333Z",
     "shell.execute_reply": "2024-04-09T16:23:27.221109Z"
    },
    "papermill": {
     "duration": 0.026827,
     "end_time": "2024-04-09T16:23:27.224426",
     "exception": false,
     "start_time": "2024-04-09T16:23:27.197599",
     "status": "completed"
    },
    "tags": []
   },
   "outputs": [
    {
     "name": "stderr",
     "output_type": "stream",
     "text": [
      "/tmp/ipykernel_17/3511157794.py:2: FutureWarning: A value is trying to be set on a copy of a DataFrame or Series through chained assignment using an inplace method.\n",
      "The behavior will change in pandas 3.0. This inplace method will never work because the intermediate object on which we are setting values always behaves as a copy.\n",
      "\n",
      "For example, when doing 'df[col].method(value, inplace=True)', try using 'df.method({col: value}, inplace=True)' or df[col] = df[col].method(value) instead, to perform the operation inplace on the original object.\n",
      "\n",
      "\n",
      "  data_pred['Fatalities'].fillna(data_pred['Fatalities'].median(), inplace=True)\n",
      "/tmp/ipykernel_17/3511157794.py:3: FutureWarning: A value is trying to be set on a copy of a DataFrame or Series through chained assignment using an inplace method.\n",
      "The behavior will change in pandas 3.0. This inplace method will never work because the intermediate object on which we are setting values always behaves as a copy.\n",
      "\n",
      "For example, when doing 'df[col].method(value, inplace=True)', try using 'df.method({col: value}, inplace=True)' or df[col] = df[col].method(value) instead, to perform the operation inplace on the original object.\n",
      "\n",
      "\n",
      "  data_pred['Aboard'].fillna(data_pred['Aboard'].median(), inplace=True)\n"
     ]
    }
   ],
   "source": [
    "# fill in missing values with median\n",
    "data_pred['Fatalities'].fillna(data_pred['Fatalities'].median(), inplace=True)\n",
    "data_pred['Aboard'].fillna(data_pred['Aboard'].median(), inplace=True)"
   ]
  },
  {
   "cell_type": "code",
   "execution_count": 34,
   "id": "9a88fb96",
   "metadata": {
    "execution": {
     "iopub.execute_input": "2024-04-09T16:23:27.254449Z",
     "iopub.status.busy": "2024-04-09T16:23:27.253738Z",
     "iopub.status.idle": "2024-04-09T16:23:27.265924Z",
     "shell.execute_reply": "2024-04-09T16:23:27.264684Z"
    },
    "papermill": {
     "duration": 0.03014,
     "end_time": "2024-04-09T16:23:27.268416",
     "exception": false,
     "start_time": "2024-04-09T16:23:27.238276",
     "status": "completed"
    },
    "scrolled": true,
    "tags": []
   },
   "outputs": [
    {
     "name": "stdout",
     "output_type": "stream",
     "text": [
      "<class 'pandas.core.frame.DataFrame'>\n",
      "RangeIndex: 5268 entries, 0 to 5267\n",
      "Data columns (total 7 columns):\n",
      " #   Column      Non-Null Count  Dtype  \n",
      "---  ------      --------------  -----  \n",
      " 0   Aboard      5268 non-null   float64\n",
      " 1   Fatalities  5268 non-null   float64\n",
      " 2   Decade      5268 non-null   int64  \n",
      " 3   Season      5268 non-null   int64  \n",
      " 4   AM/PM       5268 non-null   object \n",
      " 5   night_day   5268 non-null   object \n",
      " 6   k_cluster   5268 non-null   int32  \n",
      "dtypes: float64(2), int32(1), int64(2), object(2)\n",
      "memory usage: 267.6+ KB\n"
     ]
    }
   ],
   "source": [
    "data_pred.info()"
   ]
  },
  {
   "cell_type": "code",
   "execution_count": 35,
   "id": "f4322822",
   "metadata": {
    "execution": {
     "iopub.execute_input": "2024-04-09T16:23:27.299993Z",
     "iopub.status.busy": "2024-04-09T16:23:27.298699Z",
     "iopub.status.idle": "2024-04-09T16:23:27.313133Z",
     "shell.execute_reply": "2024-04-09T16:23:27.312002Z"
    },
    "papermill": {
     "duration": 0.032657,
     "end_time": "2024-04-09T16:23:27.315427",
     "exception": false,
     "start_time": "2024-04-09T16:23:27.282770",
     "status": "completed"
    },
    "tags": []
   },
   "outputs": [],
   "source": [
    "from sklearn.preprocessing import LabelEncoder\n",
    "\n",
    "# Create a LabelEncoder instance\n",
    "label_encoder = LabelEncoder()\n",
    "\n",
    "\n",
    "# Fit and transform the \"AM/PM\" column\n",
    "data_pred['AM/PM_encoded'] = label_encoder.fit_transform(data_pred['AM/PM'])\n",
    "# Store the mapping of original labels to encoded labels\n",
    "am_pm_mapping = dict(zip(label_encoder.classes_, label_encoder.transform(label_encoder.classes_)))\n",
    "\n",
    "# Fit and transform the \"night_day\" column\n",
    "data_pred['night_day_encoded'] = label_encoder.fit_transform(data_pred['night_day'])\n",
    "# Store the mapping of original labels to encoded labels\n",
    "night_day_mapping = dict(zip(label_encoder.classes_, label_encoder.transform(label_encoder.classes_)))\n",
    "\n",
    "# Fit and transform the \"AM/PM\" column\n",
    "data_pred['decade_encoded'] = label_encoder.fit_transform(data_pred['Decade'])\n",
    "# Store the mapping of original labels to encoded labels\n",
    "decade_mapping = dict(zip(label_encoder.classes_, label_encoder.transform(label_encoder.classes_)))\n",
    "\n",
    "\n",
    "data_pred.drop(columns = [\"AM/PM\", \"night_day\", \"Decade\"], inplace = True)"
   ]
  },
  {
   "cell_type": "code",
   "execution_count": 36,
   "id": "201b953e",
   "metadata": {
    "execution": {
     "iopub.execute_input": "2024-04-09T16:23:27.346044Z",
     "iopub.status.busy": "2024-04-09T16:23:27.345631Z",
     "iopub.status.idle": "2024-04-09T16:23:27.359812Z",
     "shell.execute_reply": "2024-04-09T16:23:27.359050Z"
    },
    "papermill": {
     "duration": 0.031604,
     "end_time": "2024-04-09T16:23:27.361604",
     "exception": false,
     "start_time": "2024-04-09T16:23:27.330000",
     "status": "completed"
    },
    "tags": []
   },
   "outputs": [
    {
     "data": {
      "text/html": [
       "<div>\n",
       "<style scoped>\n",
       "    .dataframe tbody tr th:only-of-type {\n",
       "        vertical-align: middle;\n",
       "    }\n",
       "\n",
       "    .dataframe tbody tr th {\n",
       "        vertical-align: top;\n",
       "    }\n",
       "\n",
       "    .dataframe thead th {\n",
       "        text-align: right;\n",
       "    }\n",
       "</style>\n",
       "<table border=\"1\" class=\"dataframe\">\n",
       "  <thead>\n",
       "    <tr style=\"text-align: right;\">\n",
       "      <th></th>\n",
       "      <th>Aboard</th>\n",
       "      <th>Fatalities</th>\n",
       "      <th>Season</th>\n",
       "      <th>k_cluster</th>\n",
       "      <th>AM/PM_encoded</th>\n",
       "      <th>night_day_encoded</th>\n",
       "      <th>decade_encoded</th>\n",
       "    </tr>\n",
       "  </thead>\n",
       "  <tbody>\n",
       "    <tr>\n",
       "      <th>0</th>\n",
       "      <td>2.0</td>\n",
       "      <td>1.0</td>\n",
       "      <td>4</td>\n",
       "      <td>9</td>\n",
       "      <td>1</td>\n",
       "      <td>0</td>\n",
       "      <td>0</td>\n",
       "    </tr>\n",
       "    <tr>\n",
       "      <th>1</th>\n",
       "      <td>5.0</td>\n",
       "      <td>5.0</td>\n",
       "      <td>3</td>\n",
       "      <td>9</td>\n",
       "      <td>0</td>\n",
       "      <td>1</td>\n",
       "      <td>1</td>\n",
       "    </tr>\n",
       "    <tr>\n",
       "      <th>2</th>\n",
       "      <td>1.0</td>\n",
       "      <td>1.0</td>\n",
       "      <td>3</td>\n",
       "      <td>9</td>\n",
       "      <td>0</td>\n",
       "      <td>1</td>\n",
       "      <td>1</td>\n",
       "    </tr>\n",
       "    <tr>\n",
       "      <th>3</th>\n",
       "      <td>20.0</td>\n",
       "      <td>14.0</td>\n",
       "      <td>4</td>\n",
       "      <td>9</td>\n",
       "      <td>1</td>\n",
       "      <td>1</td>\n",
       "      <td>1</td>\n",
       "    </tr>\n",
       "    <tr>\n",
       "      <th>4</th>\n",
       "      <td>30.0</td>\n",
       "      <td>30.0</td>\n",
       "      <td>4</td>\n",
       "      <td>9</td>\n",
       "      <td>0</td>\n",
       "      <td>0</td>\n",
       "      <td>1</td>\n",
       "    </tr>\n",
       "    <tr>\n",
       "      <th>...</th>\n",
       "      <td>...</td>\n",
       "      <td>...</td>\n",
       "      <td>...</td>\n",
       "      <td>...</td>\n",
       "      <td>...</td>\n",
       "      <td>...</td>\n",
       "      <td>...</td>\n",
       "    </tr>\n",
       "    <tr>\n",
       "      <th>5263</th>\n",
       "      <td>112.0</td>\n",
       "      <td>98.0</td>\n",
       "      <td>2</td>\n",
       "      <td>9</td>\n",
       "      <td>0</td>\n",
       "      <td>1</td>\n",
       "      <td>10</td>\n",
       "    </tr>\n",
       "    <tr>\n",
       "      <th>5264</th>\n",
       "      <td>4.0</td>\n",
       "      <td>4.0</td>\n",
       "      <td>2</td>\n",
       "      <td>8</td>\n",
       "      <td>0</td>\n",
       "      <td>1</td>\n",
       "      <td>10</td>\n",
       "    </tr>\n",
       "    <tr>\n",
       "      <th>5265</th>\n",
       "      <td>228.0</td>\n",
       "      <td>228.0</td>\n",
       "      <td>3</td>\n",
       "      <td>9</td>\n",
       "      <td>0</td>\n",
       "      <td>1</td>\n",
       "      <td>10</td>\n",
       "    </tr>\n",
       "    <tr>\n",
       "      <th>5266</th>\n",
       "      <td>1.0</td>\n",
       "      <td>1.0</td>\n",
       "      <td>3</td>\n",
       "      <td>4</td>\n",
       "      <td>0</td>\n",
       "      <td>0</td>\n",
       "      <td>10</td>\n",
       "    </tr>\n",
       "    <tr>\n",
       "      <th>5267</th>\n",
       "      <td>13.0</td>\n",
       "      <td>13.0</td>\n",
       "      <td>3</td>\n",
       "      <td>1</td>\n",
       "      <td>0</td>\n",
       "      <td>1</td>\n",
       "      <td>10</td>\n",
       "    </tr>\n",
       "  </tbody>\n",
       "</table>\n",
       "<p>5268 rows × 7 columns</p>\n",
       "</div>"
      ],
      "text/plain": [
       "      Aboard  Fatalities  Season  k_cluster  AM/PM_encoded  night_day_encoded  \\\n",
       "0        2.0         1.0       4          9              1                  0   \n",
       "1        5.0         5.0       3          9              0                  1   \n",
       "2        1.0         1.0       3          9              0                  1   \n",
       "3       20.0        14.0       4          9              1                  1   \n",
       "4       30.0        30.0       4          9              0                  0   \n",
       "...      ...         ...     ...        ...            ...                ...   \n",
       "5263   112.0        98.0       2          9              0                  1   \n",
       "5264     4.0         4.0       2          8              0                  1   \n",
       "5265   228.0       228.0       3          9              0                  1   \n",
       "5266     1.0         1.0       3          4              0                  0   \n",
       "5267    13.0        13.0       3          1              0                  1   \n",
       "\n",
       "      decade_encoded  \n",
       "0                  0  \n",
       "1                  1  \n",
       "2                  1  \n",
       "3                  1  \n",
       "4                  1  \n",
       "...              ...  \n",
       "5263              10  \n",
       "5264              10  \n",
       "5265              10  \n",
       "5266              10  \n",
       "5267              10  \n",
       "\n",
       "[5268 rows x 7 columns]"
      ]
     },
     "execution_count": 36,
     "metadata": {},
     "output_type": "execute_result"
    }
   ],
   "source": [
    "data_pred"
   ]
  },
  {
   "cell_type": "code",
   "execution_count": 37,
   "id": "fadea956",
   "metadata": {
    "execution": {
     "iopub.execute_input": "2024-04-09T16:23:27.391687Z",
     "iopub.status.busy": "2024-04-09T16:23:27.391097Z",
     "iopub.status.idle": "2024-04-09T16:23:28.248131Z",
     "shell.execute_reply": "2024-04-09T16:23:28.247391Z"
    },
    "papermill": {
     "duration": 0.874419,
     "end_time": "2024-04-09T16:23:28.250302",
     "exception": false,
     "start_time": "2024-04-09T16:23:27.375883",
     "status": "completed"
    },
    "tags": []
   },
   "outputs": [
    {
     "data": {
      "image/png": "[encoded data removed]",
      "text/plain": [
       "<Figure size 1200x1000 with 2 Axes>"
      ]
     },
     "metadata": {},
     "output_type": "display_data"
    }
   ],
   "source": [
    "# Plot correlation heatmap of the features used for model creation\n",
    "# Select the specified columns\n",
    "selected_columns = [\"Season\", \"Fatalities\", \"Aboard\", \"AM/PM_encoded\", \"night_day_encoded\", \"decade_encoded\", \"k_cluster\"]\n",
    "\n",
    "# Calculate the correlation matrix\n",
    "correlation_matrix = data_pred[selected_columns].corr()\n",
    "\n",
    "# Set up the heatmap plot\n",
    "plt.figure(figsize=(12, 10))  # Adjust the figure size to accommodate the x-axis labels\n",
    "sns.heatmap(correlation_matrix, annot=True, cmap='coolwarm', fmt=\".2f\", linewidths=0.5)\n",
    "\n",
    "# Rotate the x-axis labels for better readability\n",
    "plt.xticks(rotation=45, ha='right')\n",
    "\n",
    "# Add a title\n",
    "plt.title('Correlation Heatmap')\n",
    "\n",
    "# Save the plot as an image file\n",
    "plt.savefig('correlation_heatmap.png', bbox_inches='tight')  # Use bbox_inches='tight' to prevent clipping\n",
    "\n",
    "# Display the plot\n",
    "plt.show()"
   ]
  },
  {
   "cell_type": "code",
   "execution_count": 38,
   "id": "48029a54",
   "metadata": {
    "execution": {
     "iopub.execute_input": "2024-04-09T16:23:28.284585Z",
     "iopub.status.busy": "2024-04-09T16:23:28.283919Z",
     "iopub.status.idle": "2024-04-09T16:23:28.291216Z",
     "shell.execute_reply": "2024-04-09T16:23:28.290258Z"
    },
    "papermill": {
     "duration": 0.026803,
     "end_time": "2024-04-09T16:23:28.293309",
     "exception": false,
     "start_time": "2024-04-09T16:23:28.266506",
     "status": "completed"
    },
    "tags": []
   },
   "outputs": [
    {
     "data": {
      "text/plain": [
       "Season               0.043480\n",
       "Fatalities           0.006244\n",
       "Aboard              -0.004755\n",
       "AM/PM_encoded        0.076292\n",
       "night_day_encoded   -0.074126\n",
       "decade_encoded       0.052041\n",
       "k_cluster            1.000000\n",
       "Name: k_cluster, dtype: float64"
      ]
     },
     "execution_count": 38,
     "metadata": {},
     "output_type": "execute_result"
    }
   ],
   "source": [
    "correlation_matrix[\"k_cluster\"]"
   ]
  },
  {
   "cell_type": "code",
   "execution_count": 39,
   "id": "d714e40e",
   "metadata": {
    "execution": {
     "iopub.execute_input": "2024-04-09T16:23:28.326231Z",
     "iopub.status.busy": "2024-04-09T16:23:28.325671Z",
     "iopub.status.idle": "2024-04-09T16:23:28.549046Z",
     "shell.execute_reply": "2024-04-09T16:23:28.547917Z"
    },
    "papermill": {
     "duration": 0.242514,
     "end_time": "2024-04-09T16:23:28.551566",
     "exception": false,
     "start_time": "2024-04-09T16:23:28.309052",
     "status": "completed"
    },
    "tags": []
   },
   "outputs": [],
   "source": [
    "from sklearn.model_selection import cross_val_score\n",
    "from sklearn.model_selection import GridSearchCV\n",
    "\n",
    "from sklearn.ensemble import RandomForestClassifier\n",
    "from sklearn.ensemble import GradientBoostingClassifier\n",
    "from sklearn.ensemble import AdaBoostClassifier\n",
    "from sklearn.ensemble import BaggingClassifier\n",
    "from sklearn.ensemble import ExtraTreesClassifier\n",
    "from sklearn.ensemble import HistGradientBoostingClassifier\n",
    "from sklearn.ensemble import VotingClassifier\n",
    "from sklearn.ensemble import StackingClassifier\n",
    "from sklearn.tree import DecisionTreeClassifier\n",
    "from sklearn.svm import SVC\n",
    "from xgboost import XGBClassifier\n",
    "from sklearn.linear_model import LogisticRegression"
   ]
  },
  {
   "cell_type": "code",
   "execution_count": 40,
   "id": "7f72d3e7",
   "metadata": {
    "execution": {
     "iopub.execute_input": "2024-04-09T16:23:28.585266Z",
     "iopub.status.busy": "2024-04-09T16:23:28.584556Z",
     "iopub.status.idle": "2024-04-09T16:23:28.594715Z",
     "shell.execute_reply": "2024-04-09T16:23:28.593924Z"
    },
    "papermill": {
     "duration": 0.029005,
     "end_time": "2024-04-09T16:23:28.596549",
     "exception": false,
     "start_time": "2024-04-09T16:23:28.567544",
     "status": "completed"
    },
    "tags": []
   },
   "outputs": [],
   "source": [
    "from sklearn.preprocessing import StandardScaler\n",
    "\n",
    "# scale the features\n",
    "scaler = StandardScaler()\n",
    "y = data_pred[\"k_cluster\"]\n",
    "X = data_pred[[\"Season\", \"Fatalities\", \"Aboard\", \"AM/PM_encoded\", \"night_day_encoded\", \"decade_encoded\"]]\n",
    "\n",
    "X = scaler.fit_transform(X)"
   ]
  },
  {
   "cell_type": "code",
   "execution_count": 41,
   "id": "d64817dd",
   "metadata": {
    "execution": {
     "iopub.execute_input": "2024-04-09T16:23:28.629698Z",
     "iopub.status.busy": "2024-04-09T16:23:28.628884Z",
     "iopub.status.idle": "2024-04-09T16:23:28.634062Z",
     "shell.execute_reply": "2024-04-09T16:23:28.633070Z"
    },
    "papermill": {
     "duration": 0.023787,
     "end_time": "2024-04-09T16:23:28.636064",
     "exception": false,
     "start_time": "2024-04-09T16:23:28.612277",
     "status": "completed"
    },
    "tags": []
   },
   "outputs": [],
   "source": [
    "X = pd.DataFrame(X, columns = [\"Season\", \"Fatalities_bins\", \"Aboard_bins\", \"AM/PM_encoded\", \"night_day_encoded\", \"decade_encoded\"])"
   ]
  },
  {
   "cell_type": "code",
   "execution_count": 42,
   "id": "b23a9f6b",
   "metadata": {
    "execution": {
     "iopub.execute_input": "2024-04-09T16:23:28.670312Z",
     "iopub.status.busy": "2024-04-09T16:23:28.669592Z",
     "iopub.status.idle": "2024-04-09T16:23:28.683163Z",
     "shell.execute_reply": "2024-04-09T16:23:28.682441Z"
    },
    "papermill": {
     "duration": 0.033382,
     "end_time": "2024-04-09T16:23:28.685004",
     "exception": false,
     "start_time": "2024-04-09T16:23:28.651622",
     "status": "completed"
    },
    "tags": []
   },
   "outputs": [
    {
     "data": {
      "text/html": [
       "<div>\n",
       "<style scoped>\n",
       "    .dataframe tbody tr th:only-of-type {\n",
       "        vertical-align: middle;\n",
       "    }\n",
       "\n",
       "    .dataframe tbody tr th {\n",
       "        vertical-align: top;\n",
       "    }\n",
       "\n",
       "    .dataframe thead th {\n",
       "        text-align: right;\n",
       "    }\n",
       "</style>\n",
       "<table border=\"1\" class=\"dataframe\">\n",
       "  <thead>\n",
       "    <tr style=\"text-align: right;\">\n",
       "      <th></th>\n",
       "      <th>Season</th>\n",
       "      <th>Fatalities_bins</th>\n",
       "      <th>Aboard_bins</th>\n",
       "      <th>AM/PM_encoded</th>\n",
       "      <th>night_day_encoded</th>\n",
       "      <th>decade_encoded</th>\n",
       "    </tr>\n",
       "  </thead>\n",
       "  <tbody>\n",
       "    <tr>\n",
       "      <th>0</th>\n",
       "      <td>1.316945</td>\n",
       "      <td>-0.574224</td>\n",
       "      <td>-0.592977</td>\n",
       "      <td>1.399246</td>\n",
       "      <td>-1.404604</td>\n",
       "      <td>-2.953990</td>\n",
       "    </tr>\n",
       "    <tr>\n",
       "      <th>1</th>\n",
       "      <td>0.441198</td>\n",
       "      <td>-0.453608</td>\n",
       "      <td>-0.523198</td>\n",
       "      <td>-0.714671</td>\n",
       "      <td>0.711945</td>\n",
       "      <td>-2.510614</td>\n",
       "    </tr>\n",
       "    <tr>\n",
       "      <th>2</th>\n",
       "      <td>0.441198</td>\n",
       "      <td>-0.574224</td>\n",
       "      <td>-0.616236</td>\n",
       "      <td>-0.714671</td>\n",
       "      <td>0.711945</td>\n",
       "      <td>-2.510614</td>\n",
       "    </tr>\n",
       "    <tr>\n",
       "      <th>3</th>\n",
       "      <td>1.316945</td>\n",
       "      <td>-0.182223</td>\n",
       "      <td>-0.174302</td>\n",
       "      <td>1.399246</td>\n",
       "      <td>0.711945</td>\n",
       "      <td>-2.510614</td>\n",
       "    </tr>\n",
       "    <tr>\n",
       "      <th>4</th>\n",
       "      <td>1.316945</td>\n",
       "      <td>0.300240</td>\n",
       "      <td>0.058295</td>\n",
       "      <td>-0.714671</td>\n",
       "      <td>-1.404604</td>\n",
       "      <td>-2.510614</td>\n",
       "    </tr>\n",
       "    <tr>\n",
       "      <th>...</th>\n",
       "      <td>...</td>\n",
       "      <td>...</td>\n",
       "      <td>...</td>\n",
       "      <td>...</td>\n",
       "      <td>...</td>\n",
       "      <td>...</td>\n",
       "    </tr>\n",
       "    <tr>\n",
       "      <th>5263</th>\n",
       "      <td>-0.434549</td>\n",
       "      <td>2.350708</td>\n",
       "      <td>1.965590</td>\n",
       "      <td>-0.714671</td>\n",
       "      <td>0.711945</td>\n",
       "      <td>1.479772</td>\n",
       "    </tr>\n",
       "    <tr>\n",
       "      <th>5264</th>\n",
       "      <td>-0.434549</td>\n",
       "      <td>-0.483762</td>\n",
       "      <td>-0.546457</td>\n",
       "      <td>-0.714671</td>\n",
       "      <td>0.711945</td>\n",
       "      <td>1.479772</td>\n",
       "    </tr>\n",
       "    <tr>\n",
       "      <th>5265</th>\n",
       "      <td>0.441198</td>\n",
       "      <td>6.270720</td>\n",
       "      <td>4.663715</td>\n",
       "      <td>-0.714671</td>\n",
       "      <td>0.711945</td>\n",
       "      <td>1.479772</td>\n",
       "    </tr>\n",
       "    <tr>\n",
       "      <th>5266</th>\n",
       "      <td>0.441198</td>\n",
       "      <td>-0.574224</td>\n",
       "      <td>-0.616236</td>\n",
       "      <td>-0.714671</td>\n",
       "      <td>-1.404604</td>\n",
       "      <td>1.479772</td>\n",
       "    </tr>\n",
       "    <tr>\n",
       "      <th>5267</th>\n",
       "      <td>0.441198</td>\n",
       "      <td>-0.212377</td>\n",
       "      <td>-0.337120</td>\n",
       "      <td>-0.714671</td>\n",
       "      <td>0.711945</td>\n",
       "      <td>1.479772</td>\n",
       "    </tr>\n",
       "  </tbody>\n",
       "</table>\n",
       "<p>5268 rows × 6 columns</p>\n",
       "</div>"
      ],
      "text/plain": [
       "        Season  Fatalities_bins  Aboard_bins  AM/PM_encoded  \\\n",
       "0     1.316945        -0.574224    -0.592977       1.399246   \n",
       "1     0.441198        -0.453608    -0.523198      -0.714671   \n",
       "2     0.441198        -0.574224    -0.616236      -0.714671   \n",
       "3     1.316945        -0.182223    -0.174302       1.399246   \n",
       "4     1.316945         0.300240     0.058295      -0.714671   \n",
       "...        ...              ...          ...            ...   \n",
       "5263 -0.434549         2.350708     1.965590      -0.714671   \n",
       "5264 -0.434549        -0.483762    -0.546457      -0.714671   \n",
       "5265  0.441198         6.270720     4.663715      -0.714671   \n",
       "5266  0.441198        -0.574224    -0.616236      -0.714671   \n",
       "5267  0.441198        -0.212377    -0.337120      -0.714671   \n",
       "\n",
       "      night_day_encoded  decade_encoded  \n",
       "0             -1.404604       -2.953990  \n",
       "1              0.711945       -2.510614  \n",
       "2              0.711945       -2.510614  \n",
       "3              0.711945       -2.510614  \n",
       "4             -1.404604       -2.510614  \n",
       "...                 ...             ...  \n",
       "5263           0.711945        1.479772  \n",
       "5264           0.711945        1.479772  \n",
       "5265           0.711945        1.479772  \n",
       "5266          -1.404604        1.479772  \n",
       "5267           0.711945        1.479772  \n",
       "\n",
       "[5268 rows x 6 columns]"
      ]
     },
     "execution_count": 42,
     "metadata": {},
     "output_type": "execute_result"
    }
   ],
   "source": [
    "X"
   ]
  },
  {
   "cell_type": "code",
   "execution_count": 43,
   "id": "62a758ff",
   "metadata": {
    "execution": {
     "iopub.execute_input": "2024-04-09T16:23:28.719202Z",
     "iopub.status.busy": "2024-04-09T16:23:28.718080Z",
     "iopub.status.idle": "2024-04-09T16:23:28.727107Z",
     "shell.execute_reply": "2024-04-09T16:23:28.726197Z"
    },
    "papermill": {
     "duration": 0.028243,
     "end_time": "2024-04-09T16:23:28.729174",
     "exception": false,
     "start_time": "2024-04-09T16:23:28.700931",
     "status": "completed"
    },
    "tags": []
   },
   "outputs": [],
   "source": [
    "# Compare model to see how various different models perform with default parameters\n",
    "def get_classifiers_scores(X, y):\n",
    "    models = [RandomForestClassifier(random_state = 42), \n",
    "                   GradientBoostingClassifier(random_state = 42), \n",
    "                   AdaBoostClassifier(random_state = 42), \n",
    "                   BaggingClassifier(random_state = 42),\n",
    "                   ExtraTreesClassifier(random_state = 42),\n",
    "                   HistGradientBoostingClassifier(random_state = 42),\n",
    "                   DecisionTreeClassifier(random_state = 42),\n",
    "                   SVC(kernel = \"linear\", random_state = 42),\n",
    "                   XGBClassifier(random_state = 42),\n",
    "                   LogisticRegression(random_state = 42, max_iter=1000)]\n",
    "    classifiers = [\"RandomForestClassifier\",\n",
    "                   \"GradientBoostingClassifier\",\n",
    "                   \"AdaBoostClassifier\",\n",
    "                   \"BaggingClassifier\",\n",
    "                   \"ExtraTreesClassifier\",\n",
    "                   \"HistGradientBoostingClassifier\",\n",
    "                   \"DecisionTreeClassifier\",\n",
    "                   \"SVC\",\n",
    "                   \"xgb\",\n",
    "                   \"LogisticRegression\"]\n",
    "\n",
    "    cv_mean = []\n",
    "    cv_std = []\n",
    "\n",
    "    for model in models:\n",
    "        model = model\n",
    "        cv = cross_val_score(model,X,y,cv=10, scoring='accuracy', verbose = 1, n_jobs=-1)\n",
    "        cv_std.append(cv.std())\n",
    "        cv_mean.append(cv.mean())\n",
    "\n",
    "    cv_dataframe = pd.DataFrame({\"CV Mean\": cv_mean,\"Std\": cv_std}, index = classifiers)       \n",
    "    cv_dataframe = cv_dataframe.sort_values(by = [\"CV Mean\"], ascending = False)\n",
    "    return cv_dataframe"
   ]
  },
  {
   "cell_type": "code",
   "execution_count": 44,
   "id": "608c344d",
   "metadata": {
    "execution": {
     "iopub.execute_input": "2024-04-09T16:23:28.763092Z",
     "iopub.status.busy": "2024-04-09T16:23:28.762729Z",
     "iopub.status.idle": "2024-04-09T16:24:19.044888Z",
     "shell.execute_reply": "2024-04-09T16:24:19.044008Z"
    },
    "papermill": {
     "duration": 50.301692,
     "end_time": "2024-04-09T16:24:19.047062",
     "exception": false,
     "start_time": "2024-04-09T16:23:28.745370",
     "status": "completed"
    },
    "tags": []
   },
   "outputs": [
    {
     "name": "stderr",
     "output_type": "stream",
     "text": [
      "[Parallel(n_jobs=-1)]: Using backend LokyBackend with 4 concurrent workers.\n",
      "[Parallel(n_jobs=-1)]: Done  10 out of  10 | elapsed:    4.6s finished\n",
      "[Parallel(n_jobs=-1)]: Using backend LokyBackend with 4 concurrent workers.\n",
      "[Parallel(n_jobs=-1)]: Done  10 out of  10 | elapsed:   18.5s finished\n",
      "[Parallel(n_jobs=-1)]: Using backend LokyBackend with 4 concurrent workers.\n",
      "[Parallel(n_jobs=-1)]: Done  10 out of  10 | elapsed:    1.0s finished\n",
      "[Parallel(n_jobs=-1)]: Using backend LokyBackend with 4 concurrent workers.\n",
      "[Parallel(n_jobs=-1)]: Done  10 out of  10 | elapsed:    0.5s finished\n",
      "[Parallel(n_jobs=-1)]: Using backend LokyBackend with 4 concurrent workers.\n",
      "[Parallel(n_jobs=-1)]: Done  10 out of  10 | elapsed:    2.7s finished\n",
      "[Parallel(n_jobs=-1)]: Using backend LokyBackend with 4 concurrent workers.\n",
      "[Parallel(n_jobs=-1)]: Done  10 out of  10 | elapsed:   14.6s finished\n",
      "[Parallel(n_jobs=-1)]: Using backend LokyBackend with 4 concurrent workers.\n",
      "[Parallel(n_jobs=-1)]: Done  10 out of  10 | elapsed:    0.1s finished\n",
      "[Parallel(n_jobs=-1)]: Using backend LokyBackend with 4 concurrent workers.\n",
      "[Parallel(n_jobs=-1)]: Done  10 out of  10 | elapsed:    3.9s finished\n",
      "[Parallel(n_jobs=-1)]: Using backend LokyBackend with 4 concurrent workers.\n",
      "[Parallel(n_jobs=-1)]: Done  10 out of  10 | elapsed:    3.7s finished\n",
      "[Parallel(n_jobs=-1)]: Using backend LokyBackend with 4 concurrent workers.\n",
      "[Parallel(n_jobs=-1)]: Done  10 out of  10 | elapsed:    0.6s finished\n"
     ]
    },
    {
     "data": {
      "text/html": [
       "<div>\n",
       "<style scoped>\n",
       "    .dataframe tbody tr th:only-of-type {\n",
       "        vertical-align: middle;\n",
       "    }\n",
       "\n",
       "    .dataframe tbody tr th {\n",
       "        vertical-align: top;\n",
       "    }\n",
       "\n",
       "    .dataframe thead th {\n",
       "        text-align: right;\n",
       "    }\n",
       "</style>\n",
       "<table border=\"1\" class=\"dataframe\">\n",
       "  <thead>\n",
       "    <tr style=\"text-align: right;\">\n",
       "      <th></th>\n",
       "      <th>CV Mean</th>\n",
       "      <th>Std</th>\n",
       "    </tr>\n",
       "  </thead>\n",
       "  <tbody>\n",
       "    <tr>\n",
       "      <th>LogisticRegression</th>\n",
       "      <td>0.410593</td>\n",
       "      <td>0.080480</td>\n",
       "    </tr>\n",
       "    <tr>\n",
       "      <th>SVC</th>\n",
       "      <td>0.395984</td>\n",
       "      <td>0.068115</td>\n",
       "    </tr>\n",
       "    <tr>\n",
       "      <th>AdaBoostClassifier</th>\n",
       "      <td>0.349097</td>\n",
       "      <td>0.106347</td>\n",
       "    </tr>\n",
       "    <tr>\n",
       "      <th>GradientBoostingClassifier</th>\n",
       "      <td>0.263831</td>\n",
       "      <td>0.112781</td>\n",
       "    </tr>\n",
       "    <tr>\n",
       "      <th>xgb</th>\n",
       "      <td>0.229668</td>\n",
       "      <td>0.091541</td>\n",
       "    </tr>\n",
       "    <tr>\n",
       "      <th>HistGradientBoostingClassifier</th>\n",
       "      <td>0.227197</td>\n",
       "      <td>0.091406</td>\n",
       "    </tr>\n",
       "    <tr>\n",
       "      <th>RandomForestClassifier</th>\n",
       "      <td>0.222837</td>\n",
       "      <td>0.070100</td>\n",
       "    </tr>\n",
       "    <tr>\n",
       "      <th>ExtraTreesClassifier</th>\n",
       "      <td>0.204804</td>\n",
       "      <td>0.044617</td>\n",
       "    </tr>\n",
       "    <tr>\n",
       "      <th>BaggingClassifier</th>\n",
       "      <td>0.192088</td>\n",
       "      <td>0.062260</td>\n",
       "    </tr>\n",
       "    <tr>\n",
       "      <th>DecisionTreeClassifier</th>\n",
       "      <td>0.171025</td>\n",
       "      <td>0.045175</td>\n",
       "    </tr>\n",
       "  </tbody>\n",
       "</table>\n",
       "</div>"
      ],
      "text/plain": [
       "                                 CV Mean       Std\n",
       "LogisticRegression              0.410593  0.080480\n",
       "SVC                             0.395984  0.068115\n",
       "AdaBoostClassifier              0.349097  0.106347\n",
       "GradientBoostingClassifier      0.263831  0.112781\n",
       "xgb                             0.229668  0.091541\n",
       "HistGradientBoostingClassifier  0.227197  0.091406\n",
       "RandomForestClassifier          0.222837  0.070100\n",
       "ExtraTreesClassifier            0.204804  0.044617\n",
       "BaggingClassifier               0.192088  0.062260\n",
       "DecisionTreeClassifier          0.171025  0.045175"
      ]
     },
     "execution_count": 44,
     "metadata": {},
     "output_type": "execute_result"
    }
   ],
   "source": [
    "# predict cluster classes with different classifiers\n",
    "get_classifiers_scores(X, y)"
   ]
  },
  {
   "cell_type": "code",
   "execution_count": null,
   "id": "a0a048af",
   "metadata": {
    "papermill": {
     "duration": 0.016727,
     "end_time": "2024-04-09T16:24:19.080958",
     "exception": false,
     "start_time": "2024-04-09T16:24:19.064231",
     "status": "completed"
    },
    "tags": []
   },
   "outputs": [],
   "source": []
  }
 ],
 "metadata": {
  "kaggle": {
   "accelerator": "none",
   "dataSources": [
    {
     "datasetId": 4765575,
     "sourceId": 8075369,
     "sourceType": "datasetVersion"
    }
   ],
   "dockerImageVersionId": 30684,
   "isGpuEnabled": false,
   "isInternetEnabled": true,
   "language": "python",
   "sourceType": "notebook"
  },
  "kernelspec": {
   "display_name": "Python 3",
   "language": "python",
   "name": "python3"
  },
  "language_info": {
   "codemirror_mode": {
    "name": "ipython",
    "version": 3
   },
   "file_extension": ".py",
   "mimetype": "text/x-python",
   "name": "python",
   "nbconvert_exporter": "python",
   "pygments_lexer": "ipython3",
   "version": "3.10.13"
  },
  "papermill": {
   "default_parameters": {},
   "duration": 136.279902,
   "end_time": "2024-04-09T16:24:21.719065",
   "environment_variables": {},
   "exception": null,
   "input_path": "__notebook__.ipynb",
   "output_path": "__notebook__.ipynb",
   "parameters": {},
   "start_time": "2024-04-09T16:22:05.439163",
   "version": "2.5.0"
  }
 },
 "nbformat": 4,
 "nbformat_minor": 5
}
